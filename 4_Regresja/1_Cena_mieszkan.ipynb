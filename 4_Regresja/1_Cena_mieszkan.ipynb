{
  "nbformat": 4,
  "nbformat_minor": 0,
  "metadata": {
    "colab": {
      "name": "1_Cena_mieszkan.ipynb",
      "provenance": [],
      "authorship_tag": "ABX9TyMCGiD0QANUOBvpd+8VtDPT",
      "include_colab_link": true
    },
    "kernelspec": {
      "name": "python3",
      "display_name": "Python 3"
    },
    "language_info": {
      "name": "python"
    }
  },
  "cells": [
    {
      "cell_type": "markdown",
      "metadata": {
        "id": "view-in-github",
        "colab_type": "text"
      },
      "source": [
        "<a href=\"https://colab.research.google.com/github/keinam53/Deep_learning/blob/main/4_Regresja/1_Cena_mieszkan.ipynb\" target=\"_parent\"><img src=\"https://colab.research.google.com/assets/colab-badge.svg\" alt=\"Open In Colab\"/></a>"
      ]
    },
    {
      "cell_type": "markdown",
      "metadata": {
        "id": "CSiXCQVGOHg0"
      },
      "source": [
        "### Problem regresji - prognoza ceny mieszkań\n",
        "\n",
        "Celem tego notebook'a jest zapoznanie się z problemami regresji. W odróżnieniu od problemów klasyfikacji, gdzie staramy się przyporządkować daną klasę, w modelach regresji przewidujemy ciągłą zmienną docelową.\n",
        "\n",
        "1. [Import bibliotek](#a0)\n",
        "2. [Załadowanie danych i wstępna eksploracja](#a1)\n",
        "3. [Podział na zbiór treningowy oraz testowy](#a2)\n",
        "4. [Standaryzacja danych](#a3)\n",
        "5. [Budowa modelu](#a4)\n",
        "6. [Trenowanie sieci](#a5)"
      ]
    },
    {
      "cell_type": "markdown",
      "metadata": {
        "id": "4xsAkkSIOLrk"
      },
      "source": [
        "### <a name='a0'></a> 1. Import biblotek"
      ]
    },
    {
      "cell_type": "code",
      "metadata": {
        "id": "Vpj_u7lhOC2V"
      },
      "source": [
        "import numpy as np\n",
        "import pandas as pd\n",
        "import matplotlib.pyplot as plt\n",
        "import tensorflow as tf\n",
        "from tensorflow.keras.models import Sequential\n",
        "from tensorflow.keras.layers import Dense, Dropout\n",
        "from tensorflow.keras.callbacks import EarlyStopping\n",
        "\n",
        "np.set_printoptions(precision=12, suppress=True, linewidth=150)\n",
        "pd.options.display.float_format = '{:.6f}'.format"
      ],
      "execution_count": 1,
      "outputs": []
    },
    {
      "cell_type": "markdown",
      "metadata": {
        "id": "DeKyjtnjOXHh"
      },
      "source": [
        "### <a name='a1'></a> 2. Załadowanie danych i wstępna eksploracja"
      ]
    },
    {
      "cell_type": "code",
      "metadata": {
        "colab": {
          "base_uri": "https://localhost:8080/"
        },
        "id": "oUZM9wnPOXym",
        "outputId": "68de0c9f-a684-44de-c3b8-d903e043956f"
      },
      "source": [
        "raw_data = pd.read_csv('https://storage.googleapis.com/esmartdata-courses-files/ann-course/housing.csv')\n",
        "raw_data.info()"
      ],
      "execution_count": 2,
      "outputs": [
        {
          "output_type": "stream",
          "name": "stdout",
          "text": [
            "<class 'pandas.core.frame.DataFrame'>\n",
            "RangeIndex: 20640 entries, 0 to 20639\n",
            "Data columns (total 10 columns):\n",
            " #   Column              Non-Null Count  Dtype  \n",
            "---  ------              --------------  -----  \n",
            " 0   longitude           20640 non-null  float64\n",
            " 1   latitude            20640 non-null  float64\n",
            " 2   housing_median_age  20640 non-null  float64\n",
            " 3   total_rooms         20640 non-null  float64\n",
            " 4   total_bedrooms      20433 non-null  float64\n",
            " 5   population          20640 non-null  float64\n",
            " 6   households          20640 non-null  float64\n",
            " 7   median_income       20640 non-null  float64\n",
            " 8   median_house_value  20640 non-null  float64\n",
            " 9   ocean_proximity     20640 non-null  object \n",
            "dtypes: float64(9), object(1)\n",
            "memory usage: 1.6+ MB\n"
          ]
        }
      ]
    },
    {
      "cell_type": "code",
      "metadata": {
        "colab": {
          "base_uri": "https://localhost:8080/",
          "height": 206
        },
        "id": "FGauGNKtO5Rd",
        "outputId": "87c3169b-7470-4793-f431-652a67f57b45"
      },
      "source": [
        "data = raw_data.copy()\n",
        "data.head()"
      ],
      "execution_count": 3,
      "outputs": [
        {
          "output_type": "execute_result",
          "data": {
            "text/html": [
              "<div>\n",
              "<style scoped>\n",
              "    .dataframe tbody tr th:only-of-type {\n",
              "        vertical-align: middle;\n",
              "    }\n",
              "\n",
              "    .dataframe tbody tr th {\n",
              "        vertical-align: top;\n",
              "    }\n",
              "\n",
              "    .dataframe thead th {\n",
              "        text-align: right;\n",
              "    }\n",
              "</style>\n",
              "<table border=\"1\" class=\"dataframe\">\n",
              "  <thead>\n",
              "    <tr style=\"text-align: right;\">\n",
              "      <th></th>\n",
              "      <th>longitude</th>\n",
              "      <th>latitude</th>\n",
              "      <th>housing_median_age</th>\n",
              "      <th>total_rooms</th>\n",
              "      <th>total_bedrooms</th>\n",
              "      <th>population</th>\n",
              "      <th>households</th>\n",
              "      <th>median_income</th>\n",
              "      <th>median_house_value</th>\n",
              "      <th>ocean_proximity</th>\n",
              "    </tr>\n",
              "  </thead>\n",
              "  <tbody>\n",
              "    <tr>\n",
              "      <th>0</th>\n",
              "      <td>-122.230000</td>\n",
              "      <td>37.880000</td>\n",
              "      <td>41.000000</td>\n",
              "      <td>880.000000</td>\n",
              "      <td>129.000000</td>\n",
              "      <td>322.000000</td>\n",
              "      <td>126.000000</td>\n",
              "      <td>8.325200</td>\n",
              "      <td>452600.000000</td>\n",
              "      <td>NEAR BAY</td>\n",
              "    </tr>\n",
              "    <tr>\n",
              "      <th>1</th>\n",
              "      <td>-122.220000</td>\n",
              "      <td>37.860000</td>\n",
              "      <td>21.000000</td>\n",
              "      <td>7099.000000</td>\n",
              "      <td>1106.000000</td>\n",
              "      <td>2401.000000</td>\n",
              "      <td>1138.000000</td>\n",
              "      <td>8.301400</td>\n",
              "      <td>358500.000000</td>\n",
              "      <td>NEAR BAY</td>\n",
              "    </tr>\n",
              "    <tr>\n",
              "      <th>2</th>\n",
              "      <td>-122.240000</td>\n",
              "      <td>37.850000</td>\n",
              "      <td>52.000000</td>\n",
              "      <td>1467.000000</td>\n",
              "      <td>190.000000</td>\n",
              "      <td>496.000000</td>\n",
              "      <td>177.000000</td>\n",
              "      <td>7.257400</td>\n",
              "      <td>352100.000000</td>\n",
              "      <td>NEAR BAY</td>\n",
              "    </tr>\n",
              "    <tr>\n",
              "      <th>3</th>\n",
              "      <td>-122.250000</td>\n",
              "      <td>37.850000</td>\n",
              "      <td>52.000000</td>\n",
              "      <td>1274.000000</td>\n",
              "      <td>235.000000</td>\n",
              "      <td>558.000000</td>\n",
              "      <td>219.000000</td>\n",
              "      <td>5.643100</td>\n",
              "      <td>341300.000000</td>\n",
              "      <td>NEAR BAY</td>\n",
              "    </tr>\n",
              "    <tr>\n",
              "      <th>4</th>\n",
              "      <td>-122.250000</td>\n",
              "      <td>37.850000</td>\n",
              "      <td>52.000000</td>\n",
              "      <td>1627.000000</td>\n",
              "      <td>280.000000</td>\n",
              "      <td>565.000000</td>\n",
              "      <td>259.000000</td>\n",
              "      <td>3.846200</td>\n",
              "      <td>342200.000000</td>\n",
              "      <td>NEAR BAY</td>\n",
              "    </tr>\n",
              "  </tbody>\n",
              "</table>\n",
              "</div>"
            ],
            "text/plain": [
              "    longitude  latitude  ...  median_house_value  ocean_proximity\n",
              "0 -122.230000 37.880000  ...       452600.000000         NEAR BAY\n",
              "1 -122.220000 37.860000  ...       358500.000000         NEAR BAY\n",
              "2 -122.240000 37.850000  ...       352100.000000         NEAR BAY\n",
              "3 -122.250000 37.850000  ...       341300.000000         NEAR BAY\n",
              "4 -122.250000 37.850000  ...       342200.000000         NEAR BAY\n",
              "\n",
              "[5 rows x 10 columns]"
            ]
          },
          "metadata": {},
          "execution_count": 3
        }
      ]
    },
    {
      "cell_type": "code",
      "metadata": {
        "colab": {
          "base_uri": "https://localhost:8080/"
        },
        "id": "a37m0ix9PA5K",
        "outputId": "0ec1802d-ea9f-4a2a-fcea-fb4e5dd95821"
      },
      "source": [
        "data.isnull().sum()"
      ],
      "execution_count": 4,
      "outputs": [
        {
          "output_type": "execute_result",
          "data": {
            "text/plain": [
              "longitude               0\n",
              "latitude                0\n",
              "housing_median_age      0\n",
              "total_rooms             0\n",
              "total_bedrooms        207\n",
              "population              0\n",
              "households              0\n",
              "median_income           0\n",
              "median_house_value      0\n",
              "ocean_proximity         0\n",
              "dtype: int64"
            ]
          },
          "metadata": {},
          "execution_count": 4
        }
      ]
    },
    {
      "cell_type": "code",
      "metadata": {
        "colab": {
          "base_uri": "https://localhost:8080/"
        },
        "id": "qpvWgjncPfk8",
        "outputId": "eb64b1ab-1ee4-48a6-ceb2-2c1d2f5e6e30"
      },
      "source": [
        "data.dropna(inplace=True)\n",
        "data.isnull().sum()"
      ],
      "execution_count": 5,
      "outputs": [
        {
          "output_type": "execute_result",
          "data": {
            "text/plain": [
              "longitude             0\n",
              "latitude              0\n",
              "housing_median_age    0\n",
              "total_rooms           0\n",
              "total_bedrooms        0\n",
              "population            0\n",
              "households            0\n",
              "median_income         0\n",
              "median_house_value    0\n",
              "ocean_proximity       0\n",
              "dtype: int64"
            ]
          },
          "metadata": {},
          "execution_count": 5
        }
      ]
    },
    {
      "cell_type": "code",
      "metadata": {
        "colab": {
          "base_uri": "https://localhost:8080/",
          "height": 332
        },
        "id": "s1gUwfItP1KC",
        "outputId": "1f06be29-4f5a-4ec7-b9e5-f7d4422aa84a"
      },
      "source": [
        "data.describe().T"
      ],
      "execution_count": 6,
      "outputs": [
        {
          "output_type": "execute_result",
          "data": {
            "text/html": [
              "<div>\n",
              "<style scoped>\n",
              "    .dataframe tbody tr th:only-of-type {\n",
              "        vertical-align: middle;\n",
              "    }\n",
              "\n",
              "    .dataframe tbody tr th {\n",
              "        vertical-align: top;\n",
              "    }\n",
              "\n",
              "    .dataframe thead th {\n",
              "        text-align: right;\n",
              "    }\n",
              "</style>\n",
              "<table border=\"1\" class=\"dataframe\">\n",
              "  <thead>\n",
              "    <tr style=\"text-align: right;\">\n",
              "      <th></th>\n",
              "      <th>count</th>\n",
              "      <th>mean</th>\n",
              "      <th>std</th>\n",
              "      <th>min</th>\n",
              "      <th>25%</th>\n",
              "      <th>50%</th>\n",
              "      <th>75%</th>\n",
              "      <th>max</th>\n",
              "    </tr>\n",
              "  </thead>\n",
              "  <tbody>\n",
              "    <tr>\n",
              "      <th>longitude</th>\n",
              "      <td>20433.000000</td>\n",
              "      <td>-119.570689</td>\n",
              "      <td>2.003578</td>\n",
              "      <td>-124.350000</td>\n",
              "      <td>-121.800000</td>\n",
              "      <td>-118.490000</td>\n",
              "      <td>-118.010000</td>\n",
              "      <td>-114.310000</td>\n",
              "    </tr>\n",
              "    <tr>\n",
              "      <th>latitude</th>\n",
              "      <td>20433.000000</td>\n",
              "      <td>35.633221</td>\n",
              "      <td>2.136348</td>\n",
              "      <td>32.540000</td>\n",
              "      <td>33.930000</td>\n",
              "      <td>34.260000</td>\n",
              "      <td>37.720000</td>\n",
              "      <td>41.950000</td>\n",
              "    </tr>\n",
              "    <tr>\n",
              "      <th>housing_median_age</th>\n",
              "      <td>20433.000000</td>\n",
              "      <td>28.633094</td>\n",
              "      <td>12.591805</td>\n",
              "      <td>1.000000</td>\n",
              "      <td>18.000000</td>\n",
              "      <td>29.000000</td>\n",
              "      <td>37.000000</td>\n",
              "      <td>52.000000</td>\n",
              "    </tr>\n",
              "    <tr>\n",
              "      <th>total_rooms</th>\n",
              "      <td>20433.000000</td>\n",
              "      <td>2636.504233</td>\n",
              "      <td>2185.269567</td>\n",
              "      <td>2.000000</td>\n",
              "      <td>1450.000000</td>\n",
              "      <td>2127.000000</td>\n",
              "      <td>3143.000000</td>\n",
              "      <td>39320.000000</td>\n",
              "    </tr>\n",
              "    <tr>\n",
              "      <th>total_bedrooms</th>\n",
              "      <td>20433.000000</td>\n",
              "      <td>537.870553</td>\n",
              "      <td>421.385070</td>\n",
              "      <td>1.000000</td>\n",
              "      <td>296.000000</td>\n",
              "      <td>435.000000</td>\n",
              "      <td>647.000000</td>\n",
              "      <td>6445.000000</td>\n",
              "    </tr>\n",
              "    <tr>\n",
              "      <th>population</th>\n",
              "      <td>20433.000000</td>\n",
              "      <td>1424.946949</td>\n",
              "      <td>1133.208490</td>\n",
              "      <td>3.000000</td>\n",
              "      <td>787.000000</td>\n",
              "      <td>1166.000000</td>\n",
              "      <td>1722.000000</td>\n",
              "      <td>35682.000000</td>\n",
              "    </tr>\n",
              "    <tr>\n",
              "      <th>households</th>\n",
              "      <td>20433.000000</td>\n",
              "      <td>499.433465</td>\n",
              "      <td>382.299226</td>\n",
              "      <td>1.000000</td>\n",
              "      <td>280.000000</td>\n",
              "      <td>409.000000</td>\n",
              "      <td>604.000000</td>\n",
              "      <td>6082.000000</td>\n",
              "    </tr>\n",
              "    <tr>\n",
              "      <th>median_income</th>\n",
              "      <td>20433.000000</td>\n",
              "      <td>3.871162</td>\n",
              "      <td>1.899291</td>\n",
              "      <td>0.499900</td>\n",
              "      <td>2.563700</td>\n",
              "      <td>3.536500</td>\n",
              "      <td>4.744000</td>\n",
              "      <td>15.000100</td>\n",
              "    </tr>\n",
              "    <tr>\n",
              "      <th>median_house_value</th>\n",
              "      <td>20433.000000</td>\n",
              "      <td>206864.413155</td>\n",
              "      <td>115435.667099</td>\n",
              "      <td>14999.000000</td>\n",
              "      <td>119500.000000</td>\n",
              "      <td>179700.000000</td>\n",
              "      <td>264700.000000</td>\n",
              "      <td>500001.000000</td>\n",
              "    </tr>\n",
              "  </tbody>\n",
              "</table>\n",
              "</div>"
            ],
            "text/plain": [
              "                          count          mean  ...           75%           max\n",
              "longitude          20433.000000   -119.570689  ...   -118.010000   -114.310000\n",
              "latitude           20433.000000     35.633221  ...     37.720000     41.950000\n",
              "housing_median_age 20433.000000     28.633094  ...     37.000000     52.000000\n",
              "total_rooms        20433.000000   2636.504233  ...   3143.000000  39320.000000\n",
              "total_bedrooms     20433.000000    537.870553  ...    647.000000   6445.000000\n",
              "population         20433.000000   1424.946949  ...   1722.000000  35682.000000\n",
              "households         20433.000000    499.433465  ...    604.000000   6082.000000\n",
              "median_income      20433.000000      3.871162  ...      4.744000     15.000100\n",
              "median_house_value 20433.000000 206864.413155  ... 264700.000000 500001.000000\n",
              "\n",
              "[9 rows x 8 columns]"
            ]
          },
          "metadata": {},
          "execution_count": 6
        }
      ]
    },
    {
      "cell_type": "code",
      "metadata": {
        "colab": {
          "base_uri": "https://localhost:8080/",
          "height": 81
        },
        "id": "YnXD8dSNPpCB",
        "outputId": "f3e83eed-5d9e-4de2-c53b-632f104b9d37"
      },
      "source": [
        "data.describe(include=['object']).T"
      ],
      "execution_count": 7,
      "outputs": [
        {
          "output_type": "execute_result",
          "data": {
            "text/html": [
              "<div>\n",
              "<style scoped>\n",
              "    .dataframe tbody tr th:only-of-type {\n",
              "        vertical-align: middle;\n",
              "    }\n",
              "\n",
              "    .dataframe tbody tr th {\n",
              "        vertical-align: top;\n",
              "    }\n",
              "\n",
              "    .dataframe thead th {\n",
              "        text-align: right;\n",
              "    }\n",
              "</style>\n",
              "<table border=\"1\" class=\"dataframe\">\n",
              "  <thead>\n",
              "    <tr style=\"text-align: right;\">\n",
              "      <th></th>\n",
              "      <th>count</th>\n",
              "      <th>unique</th>\n",
              "      <th>top</th>\n",
              "      <th>freq</th>\n",
              "    </tr>\n",
              "  </thead>\n",
              "  <tbody>\n",
              "    <tr>\n",
              "      <th>ocean_proximity</th>\n",
              "      <td>20433</td>\n",
              "      <td>5</td>\n",
              "      <td>&lt;1H OCEAN</td>\n",
              "      <td>9034</td>\n",
              "    </tr>\n",
              "  </tbody>\n",
              "</table>\n",
              "</div>"
            ],
            "text/plain": [
              "                 count unique        top  freq\n",
              "ocean_proximity  20433      5  <1H OCEAN  9034"
            ]
          },
          "metadata": {},
          "execution_count": 7
        }
      ]
    },
    {
      "cell_type": "code",
      "metadata": {
        "colab": {
          "base_uri": "https://localhost:8080/"
        },
        "id": "Cb3geFfDQHQP",
        "outputId": "01082dda-eb18-41c9-e328-e3b494dea2a1"
      },
      "source": [
        "data['ocean_proximity'].value_counts()"
      ],
      "execution_count": 8,
      "outputs": [
        {
          "output_type": "execute_result",
          "data": {
            "text/plain": [
              "<1H OCEAN     9034\n",
              "INLAND        6496\n",
              "NEAR OCEAN    2628\n",
              "NEAR BAY      2270\n",
              "ISLAND           5\n",
              "Name: ocean_proximity, dtype: int64"
            ]
          },
          "metadata": {},
          "execution_count": 8
        }
      ]
    },
    {
      "cell_type": "code",
      "metadata": {
        "colab": {
          "base_uri": "https://localhost:8080/",
          "height": 497
        },
        "id": "bZqXMVKIQSco",
        "outputId": "9bc3a506-1ff1-4c24-e47b-6bf9f4c4d708"
      },
      "source": [
        "plt.figure(figsize=(12, 8))\n",
        "plt.xlabel('cena')\n",
        "plt.ylabel('ilosc')\n",
        "_ = plt.hist(data['median_house_value'], bins=80)"
      ],
      "execution_count": 9,
      "outputs": [
        {
          "output_type": "display_data",
          "data": {
            "image/png": "[encoded data removed]",
            "text/plain": [
              "<Figure size 864x576 with 1 Axes>"
            ]
          },
          "metadata": {
            "needs_background": "light"
          }
        }
      ]
    },
    {
      "cell_type": "code",
      "metadata": {
        "colab": {
          "base_uri": "https://localhost:8080/"
        },
        "id": "2HCasXF5QgUG",
        "outputId": "f68b29a5-ff14-4892-c741-ad66c3bc2d4f"
      },
      "source": [
        "data['median_house_value'].value_counts().head()"
      ],
      "execution_count": 10,
      "outputs": [
        {
          "output_type": "execute_result",
          "data": {
            "text/plain": [
              "500001.000000    958\n",
              "137500.000000    119\n",
              "162500.000000    116\n",
              "112500.000000    103\n",
              "187500.000000     92\n",
              "Name: median_house_value, dtype: int64"
            ]
          },
          "metadata": {},
          "execution_count": 10
        }
      ]
    },
    {
      "cell_type": "code",
      "metadata": {
        "colab": {
          "base_uri": "https://localhost:8080/"
        },
        "id": "6QcmNjfqRgDo",
        "outputId": "53e71901-9eee-4b2d-bdf5-12be275dc647"
      },
      "source": [
        "index_to_drop = data['median_house_value'] != 500001\n",
        "data = data[index_to_drop]\n",
        "data['median_house_value'].value_counts().head()"
      ],
      "execution_count": 11,
      "outputs": [
        {
          "output_type": "execute_result",
          "data": {
            "text/plain": [
              "137500.000000    119\n",
              "162500.000000    116\n",
              "112500.000000    103\n",
              "187500.000000     92\n",
              "225000.000000     91\n",
              "Name: median_house_value, dtype: int64"
            ]
          },
          "metadata": {},
          "execution_count": 11
        }
      ]
    },
    {
      "cell_type": "code",
      "metadata": {
        "colab": {
          "base_uri": "https://localhost:8080/",
          "height": 501
        },
        "id": "-NuPJP8WR-Ks",
        "outputId": "e02dec2f-a3d1-46e1-8315-564aa4f95f61"
      },
      "source": [
        "plt.figure(figsize=(12, 8))\n",
        "plt.xlabel('cena')\n",
        "plt.ylabel('ilosc')\n",
        "_ = plt.hist(data['median_house_value'], bins=80)"
      ],
      "execution_count": 12,
      "outputs": [
        {
          "output_type": "display_data",
          "data": {
            "image/png": "[encoded data removed]",
            "text/plain": [
              "<Figure size 864x576 with 1 Axes>"
            ]
          },
          "metadata": {
            "needs_background": "light"
          }
        }
      ]
    },
    {
      "cell_type": "code",
      "metadata": {
        "colab": {
          "base_uri": "https://localhost:8080/",
          "height": 244
        },
        "id": "rem2BS-DUKp7",
        "outputId": "aec46335-c0ed-48fe-f089-dbfd4039c404"
      },
      "source": [
        "data_dummies = pd.get_dummies(data, drop_first=True)\n",
        "data_dummies.head()"
      ],
      "execution_count": 13,
      "outputs": [
        {
          "output_type": "execute_result",
          "data": {
            "text/html": [
              "<div>\n",
              "<style scoped>\n",
              "    .dataframe tbody tr th:only-of-type {\n",
              "        vertical-align: middle;\n",
              "    }\n",
              "\n",
              "    .dataframe tbody tr th {\n",
              "        vertical-align: top;\n",
              "    }\n",
              "\n",
              "    .dataframe thead th {\n",
              "        text-align: right;\n",
              "    }\n",
              "</style>\n",
              "<table border=\"1\" class=\"dataframe\">\n",
              "  <thead>\n",
              "    <tr style=\"text-align: right;\">\n",
              "      <th></th>\n",
              "      <th>longitude</th>\n",
              "      <th>latitude</th>\n",
              "      <th>housing_median_age</th>\n",
              "      <th>total_rooms</th>\n",
              "      <th>total_bedrooms</th>\n",
              "      <th>population</th>\n",
              "      <th>households</th>\n",
              "      <th>median_income</th>\n",
              "      <th>median_house_value</th>\n",
              "      <th>ocean_proximity_INLAND</th>\n",
              "      <th>ocean_proximity_ISLAND</th>\n",
              "      <th>ocean_proximity_NEAR BAY</th>\n",
              "      <th>ocean_proximity_NEAR OCEAN</th>\n",
              "    </tr>\n",
              "  </thead>\n",
              "  <tbody>\n",
              "    <tr>\n",
              "      <th>0</th>\n",
              "      <td>-122.230000</td>\n",
              "      <td>37.880000</td>\n",
              "      <td>41.000000</td>\n",
              "      <td>880.000000</td>\n",
              "      <td>129.000000</td>\n",
              "      <td>322.000000</td>\n",
              "      <td>126.000000</td>\n",
              "      <td>8.325200</td>\n",
              "      <td>452600.000000</td>\n",
              "      <td>0</td>\n",
              "      <td>0</td>\n",
              "      <td>1</td>\n",
              "      <td>0</td>\n",
              "    </tr>\n",
              "    <tr>\n",
              "      <th>1</th>\n",
              "      <td>-122.220000</td>\n",
              "      <td>37.860000</td>\n",
              "      <td>21.000000</td>\n",
              "      <td>7099.000000</td>\n",
              "      <td>1106.000000</td>\n",
              "      <td>2401.000000</td>\n",
              "      <td>1138.000000</td>\n",
              "      <td>8.301400</td>\n",
              "      <td>358500.000000</td>\n",
              "      <td>0</td>\n",
              "      <td>0</td>\n",
              "      <td>1</td>\n",
              "      <td>0</td>\n",
              "    </tr>\n",
              "    <tr>\n",
              "      <th>2</th>\n",
              "      <td>-122.240000</td>\n",
              "      <td>37.850000</td>\n",
              "      <td>52.000000</td>\n",
              "      <td>1467.000000</td>\n",
              "      <td>190.000000</td>\n",
              "      <td>496.000000</td>\n",
              "      <td>177.000000</td>\n",
              "      <td>7.257400</td>\n",
              "      <td>352100.000000</td>\n",
              "      <td>0</td>\n",
              "      <td>0</td>\n",
              "      <td>1</td>\n",
              "      <td>0</td>\n",
              "    </tr>\n",
              "    <tr>\n",
              "      <th>3</th>\n",
              "      <td>-122.250000</td>\n",
              "      <td>37.850000</td>\n",
              "      <td>52.000000</td>\n",
              "      <td>1274.000000</td>\n",
              "      <td>235.000000</td>\n",
              "      <td>558.000000</td>\n",
              "      <td>219.000000</td>\n",
              "      <td>5.643100</td>\n",
              "      <td>341300.000000</td>\n",
              "      <td>0</td>\n",
              "      <td>0</td>\n",
              "      <td>1</td>\n",
              "      <td>0</td>\n",
              "    </tr>\n",
              "    <tr>\n",
              "      <th>4</th>\n",
              "      <td>-122.250000</td>\n",
              "      <td>37.850000</td>\n",
              "      <td>52.000000</td>\n",
              "      <td>1627.000000</td>\n",
              "      <td>280.000000</td>\n",
              "      <td>565.000000</td>\n",
              "      <td>259.000000</td>\n",
              "      <td>3.846200</td>\n",
              "      <td>342200.000000</td>\n",
              "      <td>0</td>\n",
              "      <td>0</td>\n",
              "      <td>1</td>\n",
              "      <td>0</td>\n",
              "    </tr>\n",
              "  </tbody>\n",
              "</table>\n",
              "</div>"
            ],
            "text/plain": [
              "    longitude  latitude  ...  ocean_proximity_NEAR BAY  ocean_proximity_NEAR OCEAN\n",
              "0 -122.230000 37.880000  ...                         1                           0\n",
              "1 -122.220000 37.860000  ...                         1                           0\n",
              "2 -122.240000 37.850000  ...                         1                           0\n",
              "3 -122.250000 37.850000  ...                         1                           0\n",
              "4 -122.250000 37.850000  ...                         1                           0\n",
              "\n",
              "[5 rows x 13 columns]"
            ]
          },
          "metadata": {},
          "execution_count": 13
        }
      ]
    },
    {
      "cell_type": "code",
      "metadata": {
        "colab": {
          "base_uri": "https://localhost:8080/"
        },
        "id": "AZeHO6LGWSSH",
        "outputId": "736e7a97-23b8-47e9-c174-6dd4465b790d"
      },
      "source": [
        "target = data.pop('median_house_value')\n",
        "target.head()"
      ],
      "execution_count": 14,
      "outputs": [
        {
          "output_type": "execute_result",
          "data": {
            "text/plain": [
              "0   452600.000000\n",
              "1   358500.000000\n",
              "2   352100.000000\n",
              "3   341300.000000\n",
              "4   342200.000000\n",
              "Name: median_house_value, dtype: float64"
            ]
          },
          "metadata": {},
          "execution_count": 14
        }
      ]
    },
    {
      "cell_type": "markdown",
      "metadata": {
        "id": "uY-j8_I6U0b2"
      },
      "source": [
        "### <a name='a2'></a> 3. Podział na zbiór treningowy oraz testowy"
      ]
    },
    {
      "cell_type": "code",
      "metadata": {
        "colab": {
          "base_uri": "https://localhost:8080/"
        },
        "id": "tsL2XdfMUrDZ",
        "outputId": "c6eb9806-759e-4bde-e2e2-ed10a4dbe6b1"
      },
      "source": [
        "from sklearn.model_selection import train_test_split\n",
        "\n",
        "X_train, X_test, y_train, y_test = train_test_split(data_dummies, target, test_size=0.2)\n",
        "\n",
        "print(f'X_train shape: {X_train.shape}')\n",
        "print(f'X_test shape: {X_test.shape}')\n",
        "print(f'y_train shape: {y_train.shape}')\n",
        "print(f'y_test shape: {y_test.shape}')"
      ],
      "execution_count": 15,
      "outputs": [
        {
          "output_type": "stream",
          "name": "stdout",
          "text": [
            "X_train shape: (15580, 13)\n",
            "X_test shape: (3895, 13)\n",
            "y_train shape: (15580,)\n",
            "y_test shape: (3895,)\n"
          ]
        }
      ]
    },
    {
      "cell_type": "code",
      "metadata": {
        "id": "yMD7TljcYjdR"
      },
      "source": [
        "from sklearn.preprocessing import StandardScaler\n",
        "\n",
        "scaler = StandardScaler()\n",
        "scaler.fit(X_train)\n",
        "\n",
        "X_train = scaler.transform(X_train)\n",
        "X_test = scaler.transform(X_test)"
      ],
      "execution_count": 16,
      "outputs": []
    },
    {
      "cell_type": "code",
      "metadata": {
        "colab": {
          "base_uri": "https://localhost:8080/"
        },
        "id": "ITgbl5vfZFWn",
        "outputId": "436b1a0a-57e2-4c4c-825b-a2eaf2f51c7f"
      },
      "source": [
        "X_train.shape"
      ],
      "execution_count": 17,
      "outputs": [
        {
          "output_type": "execute_result",
          "data": {
            "text/plain": [
              "(15580, 13)"
            ]
          },
          "metadata": {},
          "execution_count": 17
        }
      ]
    },
    {
      "cell_type": "markdown",
      "metadata": {
        "id": "R7qDULukaJ9n"
      },
      "source": [
        "### <a name='a4'></a> 5. Budowa modelu"
      ]
    },
    {
      "cell_type": "code",
      "metadata": {
        "id": "swvcNQuGZmRZ"
      },
      "source": [
        "def build_model():\n",
        "    model = Sequential()\n",
        "    model.add(Dense(1024, kernel_regularizer='l2', activation='relu', input_shape=[13]))\n",
        "    model.add(Dense(512, activation='relu'))\n",
        "    model.add(Dense(128, activation='relu'))\n",
        "    model.add(Dense(1))\n",
        "\n",
        "    model.compile(optimizer='adam',\n",
        "                  loss='mse',\n",
        "                  metrics=['mae', 'mse'])\n",
        "    return model"
      ],
      "execution_count": 18,
      "outputs": []
    },
    {
      "cell_type": "code",
      "metadata": {
        "colab": {
          "base_uri": "https://localhost:8080/"
        },
        "id": "3HoxhgvYa_3f",
        "outputId": "fea6022f-e073-4f43-db1d-7d4689ca6f2c"
      },
      "source": [
        "model = build_model()\n",
        "model.summary()"
      ],
      "execution_count": 19,
      "outputs": [
        {
          "output_type": "stream",
          "name": "stdout",
          "text": [
            "Model: \"sequential\"\n",
            "_________________________________________________________________\n",
            "Layer (type)                 Output Shape              Param #   \n",
            "=================================================================\n",
            "dense (Dense)                (None, 1024)              14336     \n",
            "_________________________________________________________________\n",
            "dense_1 (Dense)              (None, 512)               524800    \n",
            "_________________________________________________________________\n",
            "dense_2 (Dense)              (None, 128)               65664     \n",
            "_________________________________________________________________\n",
            "dense_3 (Dense)              (None, 1)                 129       \n",
            "=================================================================\n",
            "Total params: 604,929\n",
            "Trainable params: 604,929\n",
            "Non-trainable params: 0\n",
            "_________________________________________________________________\n"
          ]
        }
      ]
    },
    {
      "cell_type": "markdown",
      "metadata": {
        "id": "CdrydNn0ceb3"
      },
      "source": [
        "### <a name='a5'></a> 6. Trenowanie sieci"
      ]
    },
    {
      "cell_type": "code",
      "metadata": {
        "id": "1NFJvOeicBkP"
      },
      "source": [
        "history = model.fit(X_train, y_train, epochs=150, validation_split=0.2, batch_size=32, verbose=False)"
      ],
      "execution_count": 20,
      "outputs": []
    },
    {
      "cell_type": "code",
      "metadata": {
        "colab": {
          "base_uri": "https://localhost:8080/",
          "height": 206
        },
        "id": "ZNvmOOabcvSv",
        "outputId": "62bf727b-de5b-44e0-e8f6-eeec3bf7193d"
      },
      "source": [
        "metrics = pd.DataFrame(history.history)\n",
        "metrics['epoch'] = history.epoch\n",
        "metrics['rmse'] = np.sqrt(metrics['mse'])\n",
        "metrics['val_rmse'] = np.sqrt(metrics['val_mse'])\n",
        "metrics.tail()"
      ],
      "execution_count": 23,
      "outputs": [
        {
          "output_type": "execute_result",
          "data": {
            "text/html": [
              "<div>\n",
              "<style scoped>\n",
              "    .dataframe tbody tr th:only-of-type {\n",
              "        vertical-align: middle;\n",
              "    }\n",
              "\n",
              "    .dataframe tbody tr th {\n",
              "        vertical-align: top;\n",
              "    }\n",
              "\n",
              "    .dataframe thead th {\n",
              "        text-align: right;\n",
              "    }\n",
              "</style>\n",
              "<table border=\"1\" class=\"dataframe\">\n",
              "  <thead>\n",
              "    <tr style=\"text-align: right;\">\n",
              "      <th></th>\n",
              "      <th>loss</th>\n",
              "      <th>mae</th>\n",
              "      <th>mse</th>\n",
              "      <th>val_loss</th>\n",
              "      <th>val_mae</th>\n",
              "      <th>val_mse</th>\n",
              "      <th>epoch</th>\n",
              "      <th>rmse</th>\n",
              "      <th>val_rmse</th>\n",
              "    </tr>\n",
              "  </thead>\n",
              "  <tbody>\n",
              "    <tr>\n",
              "      <th>145</th>\n",
              "      <td>1203601.750000</td>\n",
              "      <td>293.616211</td>\n",
              "      <td>1203595.750000</td>\n",
              "      <td>453190.687500</td>\n",
              "      <td>454.249237</td>\n",
              "      <td>453184.687500</td>\n",
              "      <td>145</td>\n",
              "      <td>1097.085115</td>\n",
              "      <td>673.189934</td>\n",
              "    </tr>\n",
              "    <tr>\n",
              "      <th>146</th>\n",
              "      <td>970082.187500</td>\n",
              "      <td>335.480377</td>\n",
              "      <td>970076.687500</td>\n",
              "      <td>168614.640625</td>\n",
              "      <td>92.760262</td>\n",
              "      <td>168608.375000</td>\n",
              "      <td>146</td>\n",
              "      <td>984.924712</td>\n",
              "      <td>410.619501</td>\n",
              "    </tr>\n",
              "    <tr>\n",
              "      <th>147</th>\n",
              "      <td>1351013.875000</td>\n",
              "      <td>343.444153</td>\n",
              "      <td>1351007.625000</td>\n",
              "      <td>172272.531250</td>\n",
              "      <td>132.956863</td>\n",
              "      <td>172266.296875</td>\n",
              "      <td>147</td>\n",
              "      <td>1162.328536</td>\n",
              "      <td>415.049752</td>\n",
              "    </tr>\n",
              "    <tr>\n",
              "      <th>148</th>\n",
              "      <td>1252513.500000</td>\n",
              "      <td>358.022705</td>\n",
              "      <td>1252507.500000</td>\n",
              "      <td>161808.125000</td>\n",
              "      <td>83.184982</td>\n",
              "      <td>161801.906250</td>\n",
              "      <td>148</td>\n",
              "      <td>1119.154815</td>\n",
              "      <td>402.246077</td>\n",
              "    </tr>\n",
              "    <tr>\n",
              "      <th>149</th>\n",
              "      <td>731632.625000</td>\n",
              "      <td>240.247467</td>\n",
              "      <td>731626.250000</td>\n",
              "      <td>169521.171875</td>\n",
              "      <td>146.201233</td>\n",
              "      <td>169514.906250</td>\n",
              "      <td>149</td>\n",
              "      <td>855.351536</td>\n",
              "      <td>411.721880</td>\n",
              "    </tr>\n",
              "  </tbody>\n",
              "</table>\n",
              "</div>"
            ],
            "text/plain": [
              "              loss        mae            mse  ...  epoch        rmse   val_rmse\n",
              "145 1203601.750000 293.616211 1203595.750000  ...    145 1097.085115 673.189934\n",
              "146  970082.187500 335.480377  970076.687500  ...    146  984.924712 410.619501\n",
              "147 1351013.875000 343.444153 1351007.625000  ...    147 1162.328536 415.049752\n",
              "148 1252513.500000 358.022705 1252507.500000  ...    148 1119.154815 402.246077\n",
              "149  731632.625000 240.247467  731626.250000  ...    149  855.351536 411.721880\n",
              "\n",
              "[5 rows x 9 columns]"
            ]
          },
          "metadata": {},
          "execution_count": 23
        }
      ]
    },
    {
      "cell_type": "code",
      "metadata": {
        "colab": {
          "base_uri": "https://localhost:8080/",
          "height": 606
        },
        "id": "q23EE7E4gZus",
        "outputId": "fc14ba20-ef17-49b1-d941-6d02c0eec4e2"
      },
      "source": [
        "plt.figure(figsize=(14, 10))\n",
        "plt.subplot(211)\n",
        "plt.plot(metrics['epoch'], metrics['mae'], marker = '.', markersize = 5, label='mae')\n",
        "plt.plot(metrics['epoch'], metrics['val_mae'], marker = '.', markersize = 5, label='val_mae')\n",
        "plt.xlabel('epoch')\n",
        "plt.ylabel('mae')\n",
        "plt.legend()\n",
        "plt.subplot(212)\n",
        "plt.plot(metrics['epoch'], metrics['rmse'], marker = '.', markersize = 5, label='rmse')\n",
        "plt.plot(metrics['epoch'], metrics['val_rmse'], marker = '.', markersize = 5, label='val_rmse')\n",
        "plt.xlabel('epoch')\n",
        "plt.ylabel('rmse')\n",
        "plt.legend()\n",
        "plt.show()"
      ],
      "execution_count": 27,
      "outputs": [
        {
          "output_type": "display_data",
          "data": {
            "image/png": "[encoded data removed]",
            "text/plain": [
              "<Figure size 1008x720 with 2 Axes>"
            ]
          },
          "metadata": {
            "needs_background": "light"
          }
        }
      ]
    },
    {
      "cell_type": "code",
      "metadata": {
        "colab": {
          "base_uri": "https://localhost:8080/"
        },
        "id": "ZLISbDOQjFPW",
        "outputId": "c1ddec1b-2d53-494c-8e19-291f524668b6"
      },
      "source": [
        "loss, mae, mse = model.evaluate(X_test, y_test, verbose=False)\n",
        "\n",
        "print(f'loss: {loss:.4f}')\n",
        "print(f'mae: {mae:.4f}')\n",
        "print(f'mse: {mse:.4f}')"
      ],
      "execution_count": 31,
      "outputs": [
        {
          "output_type": "stream",
          "name": "stdout",
          "text": [
            "loss: 883402.1875\n",
            "mae: 151.3358\n",
            "mse: 883396.1250\n"
          ]
        }
      ]
    },
    {
      "cell_type": "code",
      "metadata": {
        "colab": {
          "base_uri": "https://localhost:8080/"
        },
        "id": "XfhxDUGVlJrD",
        "outputId": "d0e0c18f-d7ba-490b-ead2-7884ed452bf4"
      },
      "source": [
        "test_predictions = model.predict(X_test).flatten()\n",
        "test_predictions"
      ],
      "execution_count": 32,
      "outputs": [
        {
          "output_type": "execute_result",
          "data": {
            "text/plain": [
              "array([101383.24 ,  77685.2  , 299472.6  , ..., 202545.05 ,  88460.664, 204413.   ], dtype=float32)"
            ]
          },
          "metadata": {},
          "execution_count": 32
        }
      ]
    },
    {
      "cell_type": "code",
      "metadata": {
        "colab": {
          "base_uri": "https://localhost:8080/",
          "height": 206
        },
        "id": "eP2UmTcylZYn",
        "outputId": "582a4e91-5648-4a3e-ab7c-80c903f86385"
      },
      "source": [
        "pred = pd.DataFrame(y_test)\n",
        "pred['predictions'] = test_predictions\n",
        "pred.head()"
      ],
      "execution_count": 33,
      "outputs": [
        {
          "output_type": "execute_result",
          "data": {
            "text/html": [
              "<div>\n",
              "<style scoped>\n",
              "    .dataframe tbody tr th:only-of-type {\n",
              "        vertical-align: middle;\n",
              "    }\n",
              "\n",
              "    .dataframe tbody tr th {\n",
              "        vertical-align: top;\n",
              "    }\n",
              "\n",
              "    .dataframe thead th {\n",
              "        text-align: right;\n",
              "    }\n",
              "</style>\n",
              "<table border=\"1\" class=\"dataframe\">\n",
              "  <thead>\n",
              "    <tr style=\"text-align: right;\">\n",
              "      <th></th>\n",
              "      <th>median_house_value</th>\n",
              "      <th>predictions</th>\n",
              "    </tr>\n",
              "  </thead>\n",
              "  <tbody>\n",
              "    <tr>\n",
              "      <th>3175</th>\n",
              "      <td>101400.000000</td>\n",
              "      <td>101383.242188</td>\n",
              "    </tr>\n",
              "    <tr>\n",
              "      <th>20032</th>\n",
              "      <td>77600.000000</td>\n",
              "      <td>77685.203125</td>\n",
              "    </tr>\n",
              "    <tr>\n",
              "      <th>10285</th>\n",
              "      <td>299600.000000</td>\n",
              "      <td>299472.593750</td>\n",
              "    </tr>\n",
              "    <tr>\n",
              "      <th>5613</th>\n",
              "      <td>138100.000000</td>\n",
              "      <td>138142.343750</td>\n",
              "    </tr>\n",
              "    <tr>\n",
              "      <th>7299</th>\n",
              "      <td>154200.000000</td>\n",
              "      <td>154294.656250</td>\n",
              "    </tr>\n",
              "  </tbody>\n",
              "</table>\n",
              "</div>"
            ],
            "text/plain": [
              "       median_house_value   predictions\n",
              "3175        101400.000000 101383.242188\n",
              "20032        77600.000000  77685.203125\n",
              "10285       299600.000000 299472.593750\n",
              "5613        138100.000000 138142.343750\n",
              "7299        154200.000000 154294.656250"
            ]
          },
          "metadata": {},
          "execution_count": 33
        }
      ]
    },
    {
      "cell_type": "code",
      "metadata": {
        "colab": {
          "base_uri": "https://localhost:8080/",
          "height": 624
        },
        "id": "um80YtY-jf6S",
        "outputId": "961359b5-b93a-443d-ce3a-a641291e1cb5"
      },
      "source": [
        "plt.figure(figsize=(14, 10))\n",
        "plt.scatter(pred['median_house_value'], pred['predictions'])\n",
        "plt.plot([0, 500000], [0, 500000], color='red')\n",
        "plt.xlabel('median_house_value')\n",
        "plt.ylabel('predictions')"
      ],
      "execution_count": 38,
      "outputs": [
        {
          "output_type": "execute_result",
          "data": {
            "text/plain": [
              "Text(0, 0.5, 'predictions')"
            ]
          },
          "metadata": {},
          "execution_count": 38
        },
        {
          "output_type": "display_data",
          "data": {
            "image/png": "[encoded data removed]",
            "text/plain": [
              "<Figure size 1008x720 with 1 Axes>"
            ]
          },
          "metadata": {
            "needs_background": "light"
          }
        }
      ]
    },
    {
      "cell_type": "code",
      "metadata": {
        "colab": {
          "base_uri": "https://localhost:8080/",
          "height": 206
        },
        "id": "TtL4bvTxl6zn",
        "outputId": "9caa4621-c029-4757-a2fe-a18c4b58d10f"
      },
      "source": [
        "pred['error'] = pred['median_house_value'] - pred['predictions']\n",
        "pred.head()"
      ],
      "execution_count": 41,
      "outputs": [
        {
          "output_type": "execute_result",
          "data": {
            "text/html": [
              "<div>\n",
              "<style scoped>\n",
              "    .dataframe tbody tr th:only-of-type {\n",
              "        vertical-align: middle;\n",
              "    }\n",
              "\n",
              "    .dataframe tbody tr th {\n",
              "        vertical-align: top;\n",
              "    }\n",
              "\n",
              "    .dataframe thead th {\n",
              "        text-align: right;\n",
              "    }\n",
              "</style>\n",
              "<table border=\"1\" class=\"dataframe\">\n",
              "  <thead>\n",
              "    <tr style=\"text-align: right;\">\n",
              "      <th></th>\n",
              "      <th>median_house_value</th>\n",
              "      <th>predictions</th>\n",
              "      <th>error</th>\n",
              "    </tr>\n",
              "  </thead>\n",
              "  <tbody>\n",
              "    <tr>\n",
              "      <th>3175</th>\n",
              "      <td>101400.000000</td>\n",
              "      <td>101383.242188</td>\n",
              "      <td>16.757812</td>\n",
              "    </tr>\n",
              "    <tr>\n",
              "      <th>20032</th>\n",
              "      <td>77600.000000</td>\n",
              "      <td>77685.203125</td>\n",
              "      <td>-85.203125</td>\n",
              "    </tr>\n",
              "    <tr>\n",
              "      <th>10285</th>\n",
              "      <td>299600.000000</td>\n",
              "      <td>299472.593750</td>\n",
              "      <td>127.406250</td>\n",
              "    </tr>\n",
              "    <tr>\n",
              "      <th>5613</th>\n",
              "      <td>138100.000000</td>\n",
              "      <td>138142.343750</td>\n",
              "      <td>-42.343750</td>\n",
              "    </tr>\n",
              "    <tr>\n",
              "      <th>7299</th>\n",
              "      <td>154200.000000</td>\n",
              "      <td>154294.656250</td>\n",
              "      <td>-94.656250</td>\n",
              "    </tr>\n",
              "  </tbody>\n",
              "</table>\n",
              "</div>"
            ],
            "text/plain": [
              "       median_house_value   predictions      error\n",
              "3175        101400.000000 101383.242188  16.757812\n",
              "20032        77600.000000  77685.203125 -85.203125\n",
              "10285       299600.000000 299472.593750 127.406250\n",
              "5613        138100.000000 138142.343750 -42.343750\n",
              "7299        154200.000000 154294.656250 -94.656250"
            ]
          },
          "metadata": {},
          "execution_count": 41
        }
      ]
    },
    {
      "cell_type": "code",
      "metadata": {
        "colab": {
          "base_uri": "https://localhost:8080/",
          "height": 483
        },
        "id": "NhwI9OmYnuwr",
        "outputId": "88820a48-ed58-4378-bd9e-58e3856f6a3d"
      },
      "source": [
        "plt.figure(figsize=(12, 8))\n",
        "_ = plt.hist(pred['error'], bins=500, range=[-5000, 5000])"
      ],
      "execution_count": 49,
      "outputs": [
        {
          "output_type": "display_data",
          "data": {
            "image/png": "[encoded data removed]",
            "text/plain": [
              "<Figure size 864x576 with 1 Axes>"
            ]
          },
          "metadata": {
            "needs_background": "light"
          }
        }
      ]
    },
    {
      "cell_type": "code",
      "metadata": {
        "id": "EZDobpLjoNCK"
      },
      "source": [
        ""
      ],
      "execution_count": null,
      "outputs": []
    }
  ]
}