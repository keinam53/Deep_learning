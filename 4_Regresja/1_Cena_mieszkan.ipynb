{
  "nbformat": 4,
  "nbformat_minor": 0,
  "metadata": {
    "colab": {
      "name": "1_Cena_mieszkan.ipynb",
      "provenance": [],
      "authorship_tag": "ABX9TyMhP0L5TLxUa3XBHZzukjc4",
      "include_colab_link": true
    },
    "kernelspec": {
      "name": "python3",
      "display_name": "Python 3"
    },
    "language_info": {
      "name": "python"
    }
  },
  "cells": [
    {
      "cell_type": "markdown",
      "metadata": {
        "id": "view-in-github",
        "colab_type": "text"
      },
      "source": [
        "<a href=\"https://colab.research.google.com/github/keinam53/Deep_learning/blob/main/4_Regresja/1_Cena_mieszkan.ipynb\" target=\"_parent\"><img src=\"https://colab.research.google.com/assets/colab-badge.svg\" alt=\"Open In Colab\"/></a>"
      ]
    },
    {
      "cell_type": "markdown",
      "metadata": {
        "id": "CSiXCQVGOHg0"
      },
      "source": [
        "### Problem regresji - prognoza ceny mieszkań\n",
        "\n",
        "Celem tego notebook'a jest zapoznanie się z problemami regresji. W odróżnieniu od problemów klasyfikacji, gdzie staramy się przyporządkować daną klasę, w modelach regresji przewidujemy ciągłą zmienną docelową.\n",
        "\n",
        "1. [Import bibliotek](#a0)\n",
        "2. [Załadowanie danych i wstępna eksploracja](#a1)\n",
        "3. [Podział na zbiór treningowy oraz testowy](#a2)\n",
        "4. [Standaryzacja danych](#a3)\n",
        "5. [Budowa modelu](#a4)\n",
        "6. [Trenowanie sieci](#a5)"
      ]
    },
    {
      "cell_type": "markdown",
      "metadata": {
        "id": "4xsAkkSIOLrk"
      },
      "source": [
        "### <a name='a0'></a> 1. Import biblotek"
      ]
    },
    {
      "cell_type": "code",
      "metadata": {
        "id": "Vpj_u7lhOC2V"
      },
      "source": [
        "import numpy as np\n",
        "import pandas as pd\n",
        "import matplotlib.pyplot as plt\n",
        "import tensorflow as tf\n",
        "from tensorflow.keras.models import Sequential\n",
        "from tensorflow.keras.layers import Dense, Dropout\n",
        "from tensorflow.keras.callbacks import EarlyStopping\n",
        "\n",
        "np.set_printoptions(precision=12, suppress=True, linewidth=150)\n",
        "pd.options.display.float_format = '{:.6f}'.format"
      ],
      "execution_count": 1,
      "outputs": []
    },
    {
      "cell_type": "markdown",
      "metadata": {
        "id": "DeKyjtnjOXHh"
      },
      "source": [
        "### <a name='a1'></a> 2. Załadowanie danych i wstępna eksploracja"
      ]
    },
    {
      "cell_type": "code",
      "metadata": {
        "colab": {
          "base_uri": "https://localhost:8080/"
        },
        "id": "oUZM9wnPOXym",
        "outputId": "09685bf5-e582-47a6-e33b-98e4ce5ef324"
      },
      "source": [
        "raw_data = pd.read_csv('https://storage.googleapis.com/esmartdata-courses-files/ann-course/housing.csv')\n",
        "raw_data.info()"
      ],
      "execution_count": 2,
      "outputs": [
        {
          "output_type": "stream",
          "name": "stdout",
          "text": [
            "<class 'pandas.core.frame.DataFrame'>\n",
            "RangeIndex: 20640 entries, 0 to 20639\n",
            "Data columns (total 10 columns):\n",
            " #   Column              Non-Null Count  Dtype  \n",
            "---  ------              --------------  -----  \n",
            " 0   longitude           20640 non-null  float64\n",
            " 1   latitude            20640 non-null  float64\n",
            " 2   housing_median_age  20640 non-null  float64\n",
            " 3   total_rooms         20640 non-null  float64\n",
            " 4   total_bedrooms      20433 non-null  float64\n",
            " 5   population          20640 non-null  float64\n",
            " 6   households          20640 non-null  float64\n",
            " 7   median_income       20640 non-null  float64\n",
            " 8   median_house_value  20640 non-null  float64\n",
            " 9   ocean_proximity     20640 non-null  object \n",
            "dtypes: float64(9), object(1)\n",
            "memory usage: 1.6+ MB\n"
          ]
        }
      ]
    },
    {
      "cell_type": "code",
      "metadata": {
        "colab": {
          "base_uri": "https://localhost:8080/",
          "height": 206
        },
        "id": "FGauGNKtO5Rd",
        "outputId": "a79aed82-fcb9-4081-9335-f8201c663427"
      },
      "source": [
        "data = raw_data.copy()\n",
        "data.head()"
      ],
      "execution_count": 3,
      "outputs": [
        {
          "output_type": "execute_result",
          "data": {
            "text/html": [
              "<div>\n",
              "<style scoped>\n",
              "    .dataframe tbody tr th:only-of-type {\n",
              "        vertical-align: middle;\n",
              "    }\n",
              "\n",
              "    .dataframe tbody tr th {\n",
              "        vertical-align: top;\n",
              "    }\n",
              "\n",
              "    .dataframe thead th {\n",
              "        text-align: right;\n",
              "    }\n",
              "</style>\n",
              "<table border=\"1\" class=\"dataframe\">\n",
              "  <thead>\n",
              "    <tr style=\"text-align: right;\">\n",
              "      <th></th>\n",
              "      <th>longitude</th>\n",
              "      <th>latitude</th>\n",
              "      <th>housing_median_age</th>\n",
              "      <th>total_rooms</th>\n",
              "      <th>total_bedrooms</th>\n",
              "      <th>population</th>\n",
              "      <th>households</th>\n",
              "      <th>median_income</th>\n",
              "      <th>median_house_value</th>\n",
              "      <th>ocean_proximity</th>\n",
              "    </tr>\n",
              "  </thead>\n",
              "  <tbody>\n",
              "    <tr>\n",
              "      <th>0</th>\n",
              "      <td>-122.230000</td>\n",
              "      <td>37.880000</td>\n",
              "      <td>41.000000</td>\n",
              "      <td>880.000000</td>\n",
              "      <td>129.000000</td>\n",
              "      <td>322.000000</td>\n",
              "      <td>126.000000</td>\n",
              "      <td>8.325200</td>\n",
              "      <td>452600.000000</td>\n",
              "      <td>NEAR BAY</td>\n",
              "    </tr>\n",
              "    <tr>\n",
              "      <th>1</th>\n",
              "      <td>-122.220000</td>\n",
              "      <td>37.860000</td>\n",
              "      <td>21.000000</td>\n",
              "      <td>7099.000000</td>\n",
              "      <td>1106.000000</td>\n",
              "      <td>2401.000000</td>\n",
              "      <td>1138.000000</td>\n",
              "      <td>8.301400</td>\n",
              "      <td>358500.000000</td>\n",
              "      <td>NEAR BAY</td>\n",
              "    </tr>\n",
              "    <tr>\n",
              "      <th>2</th>\n",
              "      <td>-122.240000</td>\n",
              "      <td>37.850000</td>\n",
              "      <td>52.000000</td>\n",
              "      <td>1467.000000</td>\n",
              "      <td>190.000000</td>\n",
              "      <td>496.000000</td>\n",
              "      <td>177.000000</td>\n",
              "      <td>7.257400</td>\n",
              "      <td>352100.000000</td>\n",
              "      <td>NEAR BAY</td>\n",
              "    </tr>\n",
              "    <tr>\n",
              "      <th>3</th>\n",
              "      <td>-122.250000</td>\n",
              "      <td>37.850000</td>\n",
              "      <td>52.000000</td>\n",
              "      <td>1274.000000</td>\n",
              "      <td>235.000000</td>\n",
              "      <td>558.000000</td>\n",
              "      <td>219.000000</td>\n",
              "      <td>5.643100</td>\n",
              "      <td>341300.000000</td>\n",
              "      <td>NEAR BAY</td>\n",
              "    </tr>\n",
              "    <tr>\n",
              "      <th>4</th>\n",
              "      <td>-122.250000</td>\n",
              "      <td>37.850000</td>\n",
              "      <td>52.000000</td>\n",
              "      <td>1627.000000</td>\n",
              "      <td>280.000000</td>\n",
              "      <td>565.000000</td>\n",
              "      <td>259.000000</td>\n",
              "      <td>3.846200</td>\n",
              "      <td>342200.000000</td>\n",
              "      <td>NEAR BAY</td>\n",
              "    </tr>\n",
              "  </tbody>\n",
              "</table>\n",
              "</div>"
            ],
            "text/plain": [
              "    longitude  latitude  ...  median_house_value  ocean_proximity\n",
              "0 -122.230000 37.880000  ...       452600.000000         NEAR BAY\n",
              "1 -122.220000 37.860000  ...       358500.000000         NEAR BAY\n",
              "2 -122.240000 37.850000  ...       352100.000000         NEAR BAY\n",
              "3 -122.250000 37.850000  ...       341300.000000         NEAR BAY\n",
              "4 -122.250000 37.850000  ...       342200.000000         NEAR BAY\n",
              "\n",
              "[5 rows x 10 columns]"
            ]
          },
          "metadata": {},
          "execution_count": 3
        }
      ]
    },
    {
      "cell_type": "code",
      "metadata": {
        "colab": {
          "base_uri": "https://localhost:8080/"
        },
        "id": "a37m0ix9PA5K",
        "outputId": "0434b995-b6c2-45bb-a014-007e823664f1"
      },
      "source": [
        "data.isnull().sum()"
      ],
      "execution_count": 4,
      "outputs": [
        {
          "output_type": "execute_result",
          "data": {
            "text/plain": [
              "longitude               0\n",
              "latitude                0\n",
              "housing_median_age      0\n",
              "total_rooms             0\n",
              "total_bedrooms        207\n",
              "population              0\n",
              "households              0\n",
              "median_income           0\n",
              "median_house_value      0\n",
              "ocean_proximity         0\n",
              "dtype: int64"
            ]
          },
          "metadata": {},
          "execution_count": 4
        }
      ]
    },
    {
      "cell_type": "code",
      "metadata": {
        "colab": {
          "base_uri": "https://localhost:8080/"
        },
        "id": "qpvWgjncPfk8",
        "outputId": "ef625452-30bc-428b-d430-45d99d536883"
      },
      "source": [
        "data.dropna(inplace=True)\n",
        "data.isnull().sum()"
      ],
      "execution_count": 5,
      "outputs": [
        {
          "output_type": "execute_result",
          "data": {
            "text/plain": [
              "longitude             0\n",
              "latitude              0\n",
              "housing_median_age    0\n",
              "total_rooms           0\n",
              "total_bedrooms        0\n",
              "population            0\n",
              "households            0\n",
              "median_income         0\n",
              "median_house_value    0\n",
              "ocean_proximity       0\n",
              "dtype: int64"
            ]
          },
          "metadata": {},
          "execution_count": 5
        }
      ]
    },
    {
      "cell_type": "code",
      "metadata": {
        "colab": {
          "base_uri": "https://localhost:8080/",
          "height": 332
        },
        "id": "s1gUwfItP1KC",
        "outputId": "4ec68a31-dab6-4781-b213-71efc6af728c"
      },
      "source": [
        "data.describe().T"
      ],
      "execution_count": 6,
      "outputs": [
        {
          "output_type": "execute_result",
          "data": {
            "text/html": [
              "<div>\n",
              "<style scoped>\n",
              "    .dataframe tbody tr th:only-of-type {\n",
              "        vertical-align: middle;\n",
              "    }\n",
              "\n",
              "    .dataframe tbody tr th {\n",
              "        vertical-align: top;\n",
              "    }\n",
              "\n",
              "    .dataframe thead th {\n",
              "        text-align: right;\n",
              "    }\n",
              "</style>\n",
              "<table border=\"1\" class=\"dataframe\">\n",
              "  <thead>\n",
              "    <tr style=\"text-align: right;\">\n",
              "      <th></th>\n",
              "      <th>count</th>\n",
              "      <th>mean</th>\n",
              "      <th>std</th>\n",
              "      <th>min</th>\n",
              "      <th>25%</th>\n",
              "      <th>50%</th>\n",
              "      <th>75%</th>\n",
              "      <th>max</th>\n",
              "    </tr>\n",
              "  </thead>\n",
              "  <tbody>\n",
              "    <tr>\n",
              "      <th>longitude</th>\n",
              "      <td>20433.000000</td>\n",
              "      <td>-119.570689</td>\n",
              "      <td>2.003578</td>\n",
              "      <td>-124.350000</td>\n",
              "      <td>-121.800000</td>\n",
              "      <td>-118.490000</td>\n",
              "      <td>-118.010000</td>\n",
              "      <td>-114.310000</td>\n",
              "    </tr>\n",
              "    <tr>\n",
              "      <th>latitude</th>\n",
              "      <td>20433.000000</td>\n",
              "      <td>35.633221</td>\n",
              "      <td>2.136348</td>\n",
              "      <td>32.540000</td>\n",
              "      <td>33.930000</td>\n",
              "      <td>34.260000</td>\n",
              "      <td>37.720000</td>\n",
              "      <td>41.950000</td>\n",
              "    </tr>\n",
              "    <tr>\n",
              "      <th>housing_median_age</th>\n",
              "      <td>20433.000000</td>\n",
              "      <td>28.633094</td>\n",
              "      <td>12.591805</td>\n",
              "      <td>1.000000</td>\n",
              "      <td>18.000000</td>\n",
              "      <td>29.000000</td>\n",
              "      <td>37.000000</td>\n",
              "      <td>52.000000</td>\n",
              "    </tr>\n",
              "    <tr>\n",
              "      <th>total_rooms</th>\n",
              "      <td>20433.000000</td>\n",
              "      <td>2636.504233</td>\n",
              "      <td>2185.269567</td>\n",
              "      <td>2.000000</td>\n",
              "      <td>1450.000000</td>\n",
              "      <td>2127.000000</td>\n",
              "      <td>3143.000000</td>\n",
              "      <td>39320.000000</td>\n",
              "    </tr>\n",
              "    <tr>\n",
              "      <th>total_bedrooms</th>\n",
              "      <td>20433.000000</td>\n",
              "      <td>537.870553</td>\n",
              "      <td>421.385070</td>\n",
              "      <td>1.000000</td>\n",
              "      <td>296.000000</td>\n",
              "      <td>435.000000</td>\n",
              "      <td>647.000000</td>\n",
              "      <td>6445.000000</td>\n",
              "    </tr>\n",
              "    <tr>\n",
              "      <th>population</th>\n",
              "      <td>20433.000000</td>\n",
              "      <td>1424.946949</td>\n",
              "      <td>1133.208490</td>\n",
              "      <td>3.000000</td>\n",
              "      <td>787.000000</td>\n",
              "      <td>1166.000000</td>\n",
              "      <td>1722.000000</td>\n",
              "      <td>35682.000000</td>\n",
              "    </tr>\n",
              "    <tr>\n",
              "      <th>households</th>\n",
              "      <td>20433.000000</td>\n",
              "      <td>499.433465</td>\n",
              "      <td>382.299226</td>\n",
              "      <td>1.000000</td>\n",
              "      <td>280.000000</td>\n",
              "      <td>409.000000</td>\n",
              "      <td>604.000000</td>\n",
              "      <td>6082.000000</td>\n",
              "    </tr>\n",
              "    <tr>\n",
              "      <th>median_income</th>\n",
              "      <td>20433.000000</td>\n",
              "      <td>3.871162</td>\n",
              "      <td>1.899291</td>\n",
              "      <td>0.499900</td>\n",
              "      <td>2.563700</td>\n",
              "      <td>3.536500</td>\n",
              "      <td>4.744000</td>\n",
              "      <td>15.000100</td>\n",
              "    </tr>\n",
              "    <tr>\n",
              "      <th>median_house_value</th>\n",
              "      <td>20433.000000</td>\n",
              "      <td>206864.413155</td>\n",
              "      <td>115435.667099</td>\n",
              "      <td>14999.000000</td>\n",
              "      <td>119500.000000</td>\n",
              "      <td>179700.000000</td>\n",
              "      <td>264700.000000</td>\n",
              "      <td>500001.000000</td>\n",
              "    </tr>\n",
              "  </tbody>\n",
              "</table>\n",
              "</div>"
            ],
            "text/plain": [
              "                          count          mean  ...           75%           max\n",
              "longitude          20433.000000   -119.570689  ...   -118.010000   -114.310000\n",
              "latitude           20433.000000     35.633221  ...     37.720000     41.950000\n",
              "housing_median_age 20433.000000     28.633094  ...     37.000000     52.000000\n",
              "total_rooms        20433.000000   2636.504233  ...   3143.000000  39320.000000\n",
              "total_bedrooms     20433.000000    537.870553  ...    647.000000   6445.000000\n",
              "population         20433.000000   1424.946949  ...   1722.000000  35682.000000\n",
              "households         20433.000000    499.433465  ...    604.000000   6082.000000\n",
              "median_income      20433.000000      3.871162  ...      4.744000     15.000100\n",
              "median_house_value 20433.000000 206864.413155  ... 264700.000000 500001.000000\n",
              "\n",
              "[9 rows x 8 columns]"
            ]
          },
          "metadata": {},
          "execution_count": 6
        }
      ]
    },
    {
      "cell_type": "code",
      "metadata": {
        "colab": {
          "base_uri": "https://localhost:8080/",
          "height": 81
        },
        "id": "YnXD8dSNPpCB",
        "outputId": "63ccea57-3678-4624-9a60-2688232ee428"
      },
      "source": [
        "data.describe(include=['object']).T"
      ],
      "execution_count": 7,
      "outputs": [
        {
          "output_type": "execute_result",
          "data": {
            "text/html": [
              "<div>\n",
              "<style scoped>\n",
              "    .dataframe tbody tr th:only-of-type {\n",
              "        vertical-align: middle;\n",
              "    }\n",
              "\n",
              "    .dataframe tbody tr th {\n",
              "        vertical-align: top;\n",
              "    }\n",
              "\n",
              "    .dataframe thead th {\n",
              "        text-align: right;\n",
              "    }\n",
              "</style>\n",
              "<table border=\"1\" class=\"dataframe\">\n",
              "  <thead>\n",
              "    <tr style=\"text-align: right;\">\n",
              "      <th></th>\n",
              "      <th>count</th>\n",
              "      <th>unique</th>\n",
              "      <th>top</th>\n",
              "      <th>freq</th>\n",
              "    </tr>\n",
              "  </thead>\n",
              "  <tbody>\n",
              "    <tr>\n",
              "      <th>ocean_proximity</th>\n",
              "      <td>20433</td>\n",
              "      <td>5</td>\n",
              "      <td>&lt;1H OCEAN</td>\n",
              "      <td>9034</td>\n",
              "    </tr>\n",
              "  </tbody>\n",
              "</table>\n",
              "</div>"
            ],
            "text/plain": [
              "                 count unique        top  freq\n",
              "ocean_proximity  20433      5  <1H OCEAN  9034"
            ]
          },
          "metadata": {},
          "execution_count": 7
        }
      ]
    },
    {
      "cell_type": "code",
      "metadata": {
        "colab": {
          "base_uri": "https://localhost:8080/"
        },
        "id": "Cb3geFfDQHQP",
        "outputId": "08ab9588-0fcf-4cc2-ffa3-423bbbb8c8c3"
      },
      "source": [
        "data['ocean_proximity'].value_counts()"
      ],
      "execution_count": 8,
      "outputs": [
        {
          "output_type": "execute_result",
          "data": {
            "text/plain": [
              "<1H OCEAN     9034\n",
              "INLAND        6496\n",
              "NEAR OCEAN    2628\n",
              "NEAR BAY      2270\n",
              "ISLAND           5\n",
              "Name: ocean_proximity, dtype: int64"
            ]
          },
          "metadata": {},
          "execution_count": 8
        }
      ]
    },
    {
      "cell_type": "code",
      "metadata": {
        "colab": {
          "base_uri": "https://localhost:8080/",
          "height": 497
        },
        "id": "bZqXMVKIQSco",
        "outputId": "e685d8dd-04a4-4753-b727-f3634cd03647"
      },
      "source": [
        "plt.figure(figsize=(12, 8))\n",
        "plt.xlabel('cena')\n",
        "plt.ylabel('ilosc')\n",
        "_ = plt.hist(data['median_house_value'], bins=80)"
      ],
      "execution_count": 9,
      "outputs": [
        {
          "output_type": "display_data",
          "data": {
            "image/png": "[encoded data removed]",
            "text/plain": [
              "<Figure size 864x576 with 1 Axes>"
            ]
          },
          "metadata": {
            "needs_background": "light"
          }
        }
      ]
    },
    {
      "cell_type": "code",
      "metadata": {
        "colab": {
          "base_uri": "https://localhost:8080/"
        },
        "id": "2HCasXF5QgUG",
        "outputId": "cbff280a-0595-4f89-e648-c864c2239ef8"
      },
      "source": [
        "data['median_house_value'].value_counts().head()"
      ],
      "execution_count": 10,
      "outputs": [
        {
          "output_type": "execute_result",
          "data": {
            "text/plain": [
              "500001.000000    958\n",
              "137500.000000    119\n",
              "162500.000000    116\n",
              "112500.000000    103\n",
              "187500.000000     92\n",
              "Name: median_house_value, dtype: int64"
            ]
          },
          "metadata": {},
          "execution_count": 10
        }
      ]
    },
    {
      "cell_type": "code",
      "metadata": {
        "colab": {
          "base_uri": "https://localhost:8080/"
        },
        "id": "6QcmNjfqRgDo",
        "outputId": "dc4d4d11-7988-4c91-c03b-450bdc6f757b"
      },
      "source": [
        "index_to_drop = data['median_house_value'] != 500001\n",
        "data = data[index_to_drop]\n",
        "data['median_house_value'].value_counts().head()"
      ],
      "execution_count": 11,
      "outputs": [
        {
          "output_type": "execute_result",
          "data": {
            "text/plain": [
              "137500.000000    119\n",
              "162500.000000    116\n",
              "112500.000000    103\n",
              "187500.000000     92\n",
              "225000.000000     91\n",
              "Name: median_house_value, dtype: int64"
            ]
          },
          "metadata": {},
          "execution_count": 11
        }
      ]
    },
    {
      "cell_type": "code",
      "metadata": {
        "colab": {
          "base_uri": "https://localhost:8080/",
          "height": 501
        },
        "id": "-NuPJP8WR-Ks",
        "outputId": "29dcb950-0553-427f-d6a7-61d168fcec32"
      },
      "source": [
        "plt.figure(figsize=(12, 8))\n",
        "plt.xlabel('cena')\n",
        "plt.ylabel('ilosc')\n",
        "_ = plt.hist(data['median_house_value'], bins=80)"
      ],
      "execution_count": 12,
      "outputs": [
        {
          "output_type": "display_data",
          "data": {
            "image/png": "[encoded data removed]",
            "text/plain": [
              "<Figure size 864x576 with 1 Axes>"
            ]
          },
          "metadata": {
            "needs_background": "light"
          }
        }
      ]
    },
    {
      "cell_type": "code",
      "metadata": {
        "colab": {
          "base_uri": "https://localhost:8080/",
          "height": 244
        },
        "id": "rem2BS-DUKp7",
        "outputId": "2f66ff2a-40a9-40c9-f1cf-f8144834beea"
      },
      "source": [
        "data_dummies = pd.get_dummies(data, drop_first=True)\n",
        "data_dummies.head()"
      ],
      "execution_count": 13,
      "outputs": [
        {
          "output_type": "execute_result",
          "data": {
            "text/html": [
              "<div>\n",
              "<style scoped>\n",
              "    .dataframe tbody tr th:only-of-type {\n",
              "        vertical-align: middle;\n",
              "    }\n",
              "\n",
              "    .dataframe tbody tr th {\n",
              "        vertical-align: top;\n",
              "    }\n",
              "\n",
              "    .dataframe thead th {\n",
              "        text-align: right;\n",
              "    }\n",
              "</style>\n",
              "<table border=\"1\" class=\"dataframe\">\n",
              "  <thead>\n",
              "    <tr style=\"text-align: right;\">\n",
              "      <th></th>\n",
              "      <th>longitude</th>\n",
              "      <th>latitude</th>\n",
              "      <th>housing_median_age</th>\n",
              "      <th>total_rooms</th>\n",
              "      <th>total_bedrooms</th>\n",
              "      <th>population</th>\n",
              "      <th>households</th>\n",
              "      <th>median_income</th>\n",
              "      <th>median_house_value</th>\n",
              "      <th>ocean_proximity_INLAND</th>\n",
              "      <th>ocean_proximity_ISLAND</th>\n",
              "      <th>ocean_proximity_NEAR BAY</th>\n",
              "      <th>ocean_proximity_NEAR OCEAN</th>\n",
              "    </tr>\n",
              "  </thead>\n",
              "  <tbody>\n",
              "    <tr>\n",
              "      <th>0</th>\n",
              "      <td>-122.230000</td>\n",
              "      <td>37.880000</td>\n",
              "      <td>41.000000</td>\n",
              "      <td>880.000000</td>\n",
              "      <td>129.000000</td>\n",
              "      <td>322.000000</td>\n",
              "      <td>126.000000</td>\n",
              "      <td>8.325200</td>\n",
              "      <td>452600.000000</td>\n",
              "      <td>0</td>\n",
              "      <td>0</td>\n",
              "      <td>1</td>\n",
              "      <td>0</td>\n",
              "    </tr>\n",
              "    <tr>\n",
              "      <th>1</th>\n",
              "      <td>-122.220000</td>\n",
              "      <td>37.860000</td>\n",
              "      <td>21.000000</td>\n",
              "      <td>7099.000000</td>\n",
              "      <td>1106.000000</td>\n",
              "      <td>2401.000000</td>\n",
              "      <td>1138.000000</td>\n",
              "      <td>8.301400</td>\n",
              "      <td>358500.000000</td>\n",
              "      <td>0</td>\n",
              "      <td>0</td>\n",
              "      <td>1</td>\n",
              "      <td>0</td>\n",
              "    </tr>\n",
              "    <tr>\n",
              "      <th>2</th>\n",
              "      <td>-122.240000</td>\n",
              "      <td>37.850000</td>\n",
              "      <td>52.000000</td>\n",
              "      <td>1467.000000</td>\n",
              "      <td>190.000000</td>\n",
              "      <td>496.000000</td>\n",
              "      <td>177.000000</td>\n",
              "      <td>7.257400</td>\n",
              "      <td>352100.000000</td>\n",
              "      <td>0</td>\n",
              "      <td>0</td>\n",
              "      <td>1</td>\n",
              "      <td>0</td>\n",
              "    </tr>\n",
              "    <tr>\n",
              "      <th>3</th>\n",
              "      <td>-122.250000</td>\n",
              "      <td>37.850000</td>\n",
              "      <td>52.000000</td>\n",
              "      <td>1274.000000</td>\n",
              "      <td>235.000000</td>\n",
              "      <td>558.000000</td>\n",
              "      <td>219.000000</td>\n",
              "      <td>5.643100</td>\n",
              "      <td>341300.000000</td>\n",
              "      <td>0</td>\n",
              "      <td>0</td>\n",
              "      <td>1</td>\n",
              "      <td>0</td>\n",
              "    </tr>\n",
              "    <tr>\n",
              "      <th>4</th>\n",
              "      <td>-122.250000</td>\n",
              "      <td>37.850000</td>\n",
              "      <td>52.000000</td>\n",
              "      <td>1627.000000</td>\n",
              "      <td>280.000000</td>\n",
              "      <td>565.000000</td>\n",
              "      <td>259.000000</td>\n",
              "      <td>3.846200</td>\n",
              "      <td>342200.000000</td>\n",
              "      <td>0</td>\n",
              "      <td>0</td>\n",
              "      <td>1</td>\n",
              "      <td>0</td>\n",
              "    </tr>\n",
              "  </tbody>\n",
              "</table>\n",
              "</div>"
            ],
            "text/plain": [
              "    longitude  latitude  ...  ocean_proximity_NEAR BAY  ocean_proximity_NEAR OCEAN\n",
              "0 -122.230000 37.880000  ...                         1                           0\n",
              "1 -122.220000 37.860000  ...                         1                           0\n",
              "2 -122.240000 37.850000  ...                         1                           0\n",
              "3 -122.250000 37.850000  ...                         1                           0\n",
              "4 -122.250000 37.850000  ...                         1                           0\n",
              "\n",
              "[5 rows x 13 columns]"
            ]
          },
          "metadata": {},
          "execution_count": 13
        }
      ]
    },
    {
      "cell_type": "code",
      "metadata": {
        "colab": {
          "base_uri": "https://localhost:8080/"
        },
        "id": "AZeHO6LGWSSH",
        "outputId": "41a0d688-be5d-4f21-c0d8-935da9556ec3"
      },
      "source": [
        "target = data.pop('median_house_value')\n",
        "target.head()"
      ],
      "execution_count": 14,
      "outputs": [
        {
          "output_type": "execute_result",
          "data": {
            "text/plain": [
              "0   452600.000000\n",
              "1   358500.000000\n",
              "2   352100.000000\n",
              "3   341300.000000\n",
              "4   342200.000000\n",
              "Name: median_house_value, dtype: float64"
            ]
          },
          "metadata": {},
          "execution_count": 14
        }
      ]
    },
    {
      "cell_type": "markdown",
      "metadata": {
        "id": "uY-j8_I6U0b2"
      },
      "source": [
        "### <a name='a2'></a> 3. Podział na zbiór treningowy oraz testowy"
      ]
    },
    {
      "cell_type": "code",
      "metadata": {
        "colab": {
          "base_uri": "https://localhost:8080/"
        },
        "id": "tsL2XdfMUrDZ",
        "outputId": "3cb0fb0e-cc04-44ee-9c23-e05422d81e30"
      },
      "source": [
        "from sklearn.model_selection import train_test_split\n",
        "\n",
        "X_train, X_test, y_train, y_test = train_test_split(data_dummies, target, test_size=0.2)\n",
        "\n",
        "print(f'X_train shape: {X_train.shape}')\n",
        "print(f'X_test shape: {X_test.shape}')\n",
        "print(f'y_train shape: {y_train.shape}')\n",
        "print(f'y_test shape: {y_test.shape}')"
      ],
      "execution_count": 15,
      "outputs": [
        {
          "output_type": "stream",
          "name": "stdout",
          "text": [
            "X_train shape: (15580, 13)\n",
            "X_test shape: (3895, 13)\n",
            "y_train shape: (15580,)\n",
            "y_test shape: (3895,)\n"
          ]
        }
      ]
    },
    {
      "cell_type": "code",
      "metadata": {
        "id": "yMD7TljcYjdR"
      },
      "source": [
        "from sklearn.preprocessing import StandardScaler\n",
        "\n",
        "scaler = StandardScaler()\n",
        "scaler.fit(X_train)\n",
        "\n",
        "X_train = scaler.transform(X_train)\n",
        "X_test = scaler.transform(X_test)"
      ],
      "execution_count": 16,
      "outputs": []
    },
    {
      "cell_type": "code",
      "metadata": {
        "colab": {
          "base_uri": "https://localhost:8080/"
        },
        "id": "ITgbl5vfZFWn",
        "outputId": "561b090e-2e58-480f-d7a9-1bc350884d16"
      },
      "source": [
        "X_train.shape"
      ],
      "execution_count": 17,
      "outputs": [
        {
          "output_type": "execute_result",
          "data": {
            "text/plain": [
              "(15580, 13)"
            ]
          },
          "metadata": {},
          "execution_count": 17
        }
      ]
    },
    {
      "cell_type": "markdown",
      "metadata": {
        "id": "R7qDULukaJ9n"
      },
      "source": [
        "### <a name='a4'></a> 5. Budowa modelu"
      ]
    },
    {
      "cell_type": "code",
      "metadata": {
        "id": "swvcNQuGZmRZ"
      },
      "source": [
        "def build_model():\n",
        "    model = Sequential()\n",
        "    model.add(Dense(128, kernel_regularizer='l2', activation='relu', input_shape=[13]))\n",
        "    model.add(Dense(32, activation='relu'))\n",
        "    model.add(Dense(8, activation='relu'))\n",
        "    model.add(Dense(1))\n",
        "\n",
        "    model.compile(optimizer='adam',\n",
        "                  loss='mse',\n",
        "                  metrics=['mae', 'mse'])\n",
        "    return model"
      ],
      "execution_count": 18,
      "outputs": []
    },
    {
      "cell_type": "code",
      "metadata": {
        "colab": {
          "base_uri": "https://localhost:8080/"
        },
        "id": "3HoxhgvYa_3f",
        "outputId": "99dc9c27-0c66-4afa-bc91-84007975cb6b"
      },
      "source": [
        "model = build_model()\n",
        "model.summary()"
      ],
      "execution_count": 19,
      "outputs": [
        {
          "output_type": "stream",
          "name": "stdout",
          "text": [
            "Model: \"sequential\"\n",
            "_________________________________________________________________\n",
            "Layer (type)                 Output Shape              Param #   \n",
            "=================================================================\n",
            "dense (Dense)                (None, 128)               1792      \n",
            "_________________________________________________________________\n",
            "dense_1 (Dense)              (None, 32)                4128      \n",
            "_________________________________________________________________\n",
            "dense_2 (Dense)              (None, 8)                 264       \n",
            "_________________________________________________________________\n",
            "dense_3 (Dense)              (None, 1)                 9         \n",
            "=================================================================\n",
            "Total params: 6,193\n",
            "Trainable params: 6,193\n",
            "Non-trainable params: 0\n",
            "_________________________________________________________________\n"
          ]
        }
      ]
    },
    {
      "cell_type": "markdown",
      "metadata": {
        "id": "CdrydNn0ceb3"
      },
      "source": [
        "### <a name='a5'></a> 6. Trenowanie sieci"
      ]
    },
    {
      "cell_type": "code",
      "metadata": {
        "id": "1NFJvOeicBkP"
      },
      "source": [
        "history = model.fit(X_train, y_train, epochs=15, validation_split=0.2, batch_size=32, verbose=False)"
      ],
      "execution_count": 20,
      "outputs": []
    },
    {
      "cell_type": "code",
      "metadata": {
        "colab": {
          "base_uri": "https://localhost:8080/",
          "height": 206
        },
        "id": "ZNvmOOabcvSv",
        "outputId": "06d8585f-9522-4246-aab3-9c9122b2d7d4"
      },
      "source": [
        "metrics = pd.DataFrame(history.history)\n",
        "metrics['epoch'] = history.epoch\n",
        "metrics['rmse'] = np.sqrt(metrics['mse'])\n",
        "metrics['val_rmse'] = np.sqrt(metrics['val_mse'])\n",
        "metrics.tail()"
      ],
      "execution_count": 21,
      "outputs": [
        {
          "output_type": "execute_result",
          "data": {
            "text/html": [
              "<div>\n",
              "<style scoped>\n",
              "    .dataframe tbody tr th:only-of-type {\n",
              "        vertical-align: middle;\n",
              "    }\n",
              "\n",
              "    .dataframe tbody tr th {\n",
              "        vertical-align: top;\n",
              "    }\n",
              "\n",
              "    .dataframe thead th {\n",
              "        text-align: right;\n",
              "    }\n",
              "</style>\n",
              "<table border=\"1\" class=\"dataframe\">\n",
              "  <thead>\n",
              "    <tr style=\"text-align: right;\">\n",
              "      <th></th>\n",
              "      <th>loss</th>\n",
              "      <th>mae</th>\n",
              "      <th>mse</th>\n",
              "      <th>val_loss</th>\n",
              "      <th>val_mae</th>\n",
              "      <th>val_mse</th>\n",
              "      <th>epoch</th>\n",
              "      <th>rmse</th>\n",
              "      <th>val_rmse</th>\n",
              "    </tr>\n",
              "  </thead>\n",
              "  <tbody>\n",
              "    <tr>\n",
              "      <th>10</th>\n",
              "      <td>289904160.000000</td>\n",
              "      <td>12816.345703</td>\n",
              "      <td>289904160.000000</td>\n",
              "      <td>243992880.000000</td>\n",
              "      <td>11815.450195</td>\n",
              "      <td>243992864.000000</td>\n",
              "      <td>10</td>\n",
              "      <td>17026.572174</td>\n",
              "      <td>15620.270932</td>\n",
              "    </tr>\n",
              "    <tr>\n",
              "      <th>11</th>\n",
              "      <td>228552336.000000</td>\n",
              "      <td>11472.574219</td>\n",
              "      <td>228552320.000000</td>\n",
              "      <td>194313824.000000</td>\n",
              "      <td>10568.986328</td>\n",
              "      <td>194313792.000000</td>\n",
              "      <td>11</td>\n",
              "      <td>15117.946951</td>\n",
              "      <td>13939.648202</td>\n",
              "    </tr>\n",
              "    <tr>\n",
              "      <th>12</th>\n",
              "      <td>180222016.000000</td>\n",
              "      <td>10235.033203</td>\n",
              "      <td>180222000.000000</td>\n",
              "      <td>153657568.000000</td>\n",
              "      <td>9383.337891</td>\n",
              "      <td>153657568.000000</td>\n",
              "      <td>12</td>\n",
              "      <td>13424.678767</td>\n",
              "      <td>12395.868989</td>\n",
              "    </tr>\n",
              "    <tr>\n",
              "      <th>13</th>\n",
              "      <td>141908656.000000</td>\n",
              "      <td>9076.084961</td>\n",
              "      <td>141908624.000000</td>\n",
              "      <td>121738128.000000</td>\n",
              "      <td>8323.817383</td>\n",
              "      <td>121738104.000000</td>\n",
              "      <td>13</td>\n",
              "      <td>11912.540619</td>\n",
              "      <td>11033.499173</td>\n",
              "    </tr>\n",
              "    <tr>\n",
              "      <th>14</th>\n",
              "      <td>111619040.000000</td>\n",
              "      <td>8035.857422</td>\n",
              "      <td>111619008.000000</td>\n",
              "      <td>96500936.000000</td>\n",
              "      <td>7469.115723</td>\n",
              "      <td>96500912.000000</td>\n",
              "      <td>14</td>\n",
              "      <td>10564.989730</td>\n",
              "      <td>9823.487772</td>\n",
              "    </tr>\n",
              "  </tbody>\n",
              "</table>\n",
              "</div>"
            ],
            "text/plain": [
              "               loss          mae  ...         rmse     val_rmse\n",
              "10 289904160.000000 12816.345703  ... 17026.572174 15620.270932\n",
              "11 228552336.000000 11472.574219  ... 15117.946951 13939.648202\n",
              "12 180222016.000000 10235.033203  ... 13424.678767 12395.868989\n",
              "13 141908656.000000  9076.084961  ... 11912.540619 11033.499173\n",
              "14 111619040.000000  8035.857422  ... 10564.989730  9823.487772\n",
              "\n",
              "[5 rows x 9 columns]"
            ]
          },
          "metadata": {},
          "execution_count": 21
        }
      ]
    },
    {
      "cell_type": "code",
      "metadata": {
        "colab": {
          "base_uri": "https://localhost:8080/",
          "height": 609
        },
        "id": "q23EE7E4gZus",
        "outputId": "c5abd124-805d-4752-87f1-8c68502efcb6"
      },
      "source": [
        "plt.figure(figsize=(14, 10))\n",
        "plt.subplot(211)\n",
        "plt.plot(metrics['epoch'], metrics['mae'], marker = '.', markersize = 5, label='mae')\n",
        "plt.plot(metrics['epoch'], metrics['val_mae'], marker = '.', markersize = 5, label='val_mae')\n",
        "plt.xlabel('epoch')\n",
        "plt.ylabel('mae')\n",
        "plt.legend()\n",
        "plt.subplot(212)\n",
        "plt.plot(metrics['epoch'], metrics['rmse'], marker = '.', markersize = 5, label='rmse')\n",
        "plt.plot(metrics['epoch'], metrics['val_rmse'], marker = '.', markersize = 5, label='val_rmse')\n",
        "plt.xlabel('epoch')\n",
        "plt.ylabel('rmse')\n",
        "plt.legend()\n",
        "plt.show()"
      ],
      "execution_count": 22,
      "outputs": [
        {
          "output_type": "display_data",
          "data": {
            "image/png": "[encoded data removed]",
            "text/plain": [
              "<Figure size 1008x720 with 2 Axes>"
            ]
          },
          "metadata": {
            "needs_background": "light"
          }
        }
      ]
    },
    {
      "cell_type": "code",
      "metadata": {
        "colab": {
          "base_uri": "https://localhost:8080/"
        },
        "id": "ZLISbDOQjFPW",
        "outputId": "3563c6cb-d778-4789-d4d7-5711d8cfaa6b"
      },
      "source": [
        "loss, mae, mse = model.evaluate(X_test, y_test, verbose=False)\n",
        "\n",
        "print(f'loss: {loss:.4f}')\n",
        "print(f'mae: {mae:.4f}')\n",
        "print(f'mse: {mse:.4f}')"
      ],
      "execution_count": 23,
      "outputs": [
        {
          "output_type": "stream",
          "name": "stdout",
          "text": [
            "loss: 97763240.0000\n",
            "mae: 7554.3799\n",
            "mse: 97763216.0000\n"
          ]
        }
      ]
    },
    {
      "cell_type": "code",
      "metadata": {
        "colab": {
          "base_uri": "https://localhost:8080/"
        },
        "id": "XfhxDUGVlJrD",
        "outputId": "18c80fdf-9b22-441c-b945-46b92ae33679"
      },
      "source": [
        "test_predictions = model.predict(X_test).flatten()\n",
        "test_predictions"
      ],
      "execution_count": 24,
      "outputs": [
        {
          "output_type": "execute_result",
          "data": {
            "text/plain": [
              "array([ 62082.453, 139067.05 , 112635.695, ..., 277053.8  , 247840.52 , 237957.34 ], dtype=float32)"
            ]
          },
          "metadata": {},
          "execution_count": 24
        }
      ]
    },
    {
      "cell_type": "code",
      "metadata": {
        "colab": {
          "base_uri": "https://localhost:8080/",
          "height": 206
        },
        "id": "eP2UmTcylZYn",
        "outputId": "502e70ba-c65a-4783-b6aa-82fda8d84971"
      },
      "source": [
        "pred = pd.DataFrame(y_test)\n",
        "pred['predictions'] = test_predictions\n",
        "pred.head()"
      ],
      "execution_count": 25,
      "outputs": [
        {
          "output_type": "execute_result",
          "data": {
            "text/html": [
              "<div>\n",
              "<style scoped>\n",
              "    .dataframe tbody tr th:only-of-type {\n",
              "        vertical-align: middle;\n",
              "    }\n",
              "\n",
              "    .dataframe tbody tr th {\n",
              "        vertical-align: top;\n",
              "    }\n",
              "\n",
              "    .dataframe thead th {\n",
              "        text-align: right;\n",
              "    }\n",
              "</style>\n",
              "<table border=\"1\" class=\"dataframe\">\n",
              "  <thead>\n",
              "    <tr style=\"text-align: right;\">\n",
              "      <th></th>\n",
              "      <th>median_house_value</th>\n",
              "      <th>predictions</th>\n",
              "    </tr>\n",
              "  </thead>\n",
              "  <tbody>\n",
              "    <tr>\n",
              "      <th>3054</th>\n",
              "      <td>59000.000000</td>\n",
              "      <td>62082.453125</td>\n",
              "    </tr>\n",
              "    <tr>\n",
              "      <th>9487</th>\n",
              "      <td>142900.000000</td>\n",
              "      <td>139067.046875</td>\n",
              "    </tr>\n",
              "    <tr>\n",
              "      <th>19931</th>\n",
              "      <td>113000.000000</td>\n",
              "      <td>112635.695312</td>\n",
              "    </tr>\n",
              "    <tr>\n",
              "      <th>18125</th>\n",
              "      <td>412300.000000</td>\n",
              "      <td>432719.125000</td>\n",
              "    </tr>\n",
              "    <tr>\n",
              "      <th>17207</th>\n",
              "      <td>357400.000000</td>\n",
              "      <td>372324.468750</td>\n",
              "    </tr>\n",
              "  </tbody>\n",
              "</table>\n",
              "</div>"
            ],
            "text/plain": [
              "       median_house_value   predictions\n",
              "3054         59000.000000  62082.453125\n",
              "9487        142900.000000 139067.046875\n",
              "19931       113000.000000 112635.695312\n",
              "18125       412300.000000 432719.125000\n",
              "17207       357400.000000 372324.468750"
            ]
          },
          "metadata": {},
          "execution_count": 25
        }
      ]
    },
    {
      "cell_type": "code",
      "metadata": {
        "colab": {
          "base_uri": "https://localhost:8080/",
          "height": 624
        },
        "id": "um80YtY-jf6S",
        "outputId": "53204988-7fbc-4172-998d-fa3228eac878"
      },
      "source": [
        "plt.figure(figsize=(14, 10))\n",
        "plt.scatter(pred['median_house_value'], pred['predictions'])\n",
        "plt.plot([0, 500000], [0, 500000], color='red')\n",
        "plt.xlabel('median_house_value')\n",
        "plt.ylabel('predictions')"
      ],
      "execution_count": 26,
      "outputs": [
        {
          "output_type": "execute_result",
          "data": {
            "text/plain": [
              "Text(0, 0.5, 'predictions')"
            ]
          },
          "metadata": {},
          "execution_count": 26
        },
        {
          "output_type": "display_data",
          "data": {
            "image/png": "[encoded data removed]",
            "text/plain": [
              "<Figure size 1008x720 with 1 Axes>"
            ]
          },
          "metadata": {
            "needs_background": "light"
          }
        }
      ]
    },
    {
      "cell_type": "code",
      "metadata": {
        "colab": {
          "base_uri": "https://localhost:8080/",
          "height": 206
        },
        "id": "TtL4bvTxl6zn",
        "outputId": "ed4f8921-d257-4a4e-a40f-d6645c2e7cab"
      },
      "source": [
        "pred['error'] = pred['median_house_value'] - pred['predictions']\n",
        "pred.head()"
      ],
      "execution_count": 27,
      "outputs": [
        {
          "output_type": "execute_result",
          "data": {
            "text/html": [
              "<div>\n",
              "<style scoped>\n",
              "    .dataframe tbody tr th:only-of-type {\n",
              "        vertical-align: middle;\n",
              "    }\n",
              "\n",
              "    .dataframe tbody tr th {\n",
              "        vertical-align: top;\n",
              "    }\n",
              "\n",
              "    .dataframe thead th {\n",
              "        text-align: right;\n",
              "    }\n",
              "</style>\n",
              "<table border=\"1\" class=\"dataframe\">\n",
              "  <thead>\n",
              "    <tr style=\"text-align: right;\">\n",
              "      <th></th>\n",
              "      <th>median_house_value</th>\n",
              "      <th>predictions</th>\n",
              "      <th>error</th>\n",
              "    </tr>\n",
              "  </thead>\n",
              "  <tbody>\n",
              "    <tr>\n",
              "      <th>3054</th>\n",
              "      <td>59000.000000</td>\n",
              "      <td>62082.453125</td>\n",
              "      <td>-3082.453125</td>\n",
              "    </tr>\n",
              "    <tr>\n",
              "      <th>9487</th>\n",
              "      <td>142900.000000</td>\n",
              "      <td>139067.046875</td>\n",
              "      <td>3832.953125</td>\n",
              "    </tr>\n",
              "    <tr>\n",
              "      <th>19931</th>\n",
              "      <td>113000.000000</td>\n",
              "      <td>112635.695312</td>\n",
              "      <td>364.304688</td>\n",
              "    </tr>\n",
              "    <tr>\n",
              "      <th>18125</th>\n",
              "      <td>412300.000000</td>\n",
              "      <td>432719.125000</td>\n",
              "      <td>-20419.125000</td>\n",
              "    </tr>\n",
              "    <tr>\n",
              "      <th>17207</th>\n",
              "      <td>357400.000000</td>\n",
              "      <td>372324.468750</td>\n",
              "      <td>-14924.468750</td>\n",
              "    </tr>\n",
              "  </tbody>\n",
              "</table>\n",
              "</div>"
            ],
            "text/plain": [
              "       median_house_value   predictions         error\n",
              "3054         59000.000000  62082.453125  -3082.453125\n",
              "9487        142900.000000 139067.046875   3832.953125\n",
              "19931       113000.000000 112635.695312    364.304688\n",
              "18125       412300.000000 432719.125000 -20419.125000\n",
              "17207       357400.000000 372324.468750 -14924.468750"
            ]
          },
          "metadata": {},
          "execution_count": 27
        }
      ]
    },
    {
      "cell_type": "code",
      "metadata": {
        "colab": {
          "base_uri": "https://localhost:8080/",
          "height": 483
        },
        "id": "NhwI9OmYnuwr",
        "outputId": "1155ca91-1c3f-4b04-9436-84014e52e7f0"
      },
      "source": [
        "plt.figure(figsize=(12, 8))\n",
        "_ = plt.hist(pred['error'], bins=50)"
      ],
      "execution_count": 29,
      "outputs": [
        {
          "output_type": "display_data",
          "data": {
            "image/png": "[encoded data removed]",
            "text/plain": [
              "<Figure size 864x576 with 1 Axes>"
            ]
          },
          "metadata": {
            "needs_background": "light"
          }
        }
      ]
    }
  ]
}