{
  "nbformat": 4,
  "nbformat_minor": 0,
  "metadata": {
    "colab": {
      "name": "4_Callbacks.ipynb",
      "provenance": [],
      "authorship_tag": "ABX9TyNjj+iXD50IFJgL6DtHXB8B",
      "include_colab_link": true
    },
    "kernelspec": {
      "name": "python3",
      "display_name": "Python 3"
    },
    "language_info": {
      "name": "python"
    }
  },
  "cells": [
    {
      "cell_type": "markdown",
      "metadata": {
        "id": "view-in-github",
        "colab_type": "text"
      },
      "source": [
        "<a href=\"https://colab.research.google.com/github/keinam53/Deep_learning/blob/main/2_Keras/4_Callbacks.ipynb\" target=\"_parent\"><img src=\"https://colab.research.google.com/assets/colab-badge.svg\" alt=\"Open In Colab\"/></a>"
      ]
    },
    {
      "cell_type": "markdown",
      "metadata": {
        "id": "tUuq0w4zqOO8"
      },
      "source": [
        "### Callbacks - wywołania zwrotne\n",
        "\n",
        "1. [Budowa sieci neuronowej](#a0)\n",
        "2. [Trenowanie modelu](#a1)\n",
        "3. [ModelCheckpoint - Zapisywanie wag po każdej poprawie modelu](#a2)\n",
        "4. [ModelCheckpoint - Zapisanie najlepszego modelu](#a3)\n",
        "5. [Early Stopping - wczesne zatrzymanie](#a4)\n",
        "6. [Tensorboard](#a5)\n",
        "\n",
        "\n",
        "\n",
        "Klasyfikator wieloklasowy - Digit Recognition"
      ]
    },
    {
      "cell_type": "code",
      "metadata": {
        "colab": {
          "base_uri": "https://localhost:8080/"
        },
        "id": "T_SPSWSsp_sx",
        "outputId": "b8d1625d-8c95-46a2-e4b6-c938f20be540"
      },
      "source": [
        "# %tensorflow_version 2.x  \n",
        "import numpy as np\n",
        "import pandas as pd\n",
        "import matplotlib.pyplot as plt\n",
        "\n",
        "import tensorflow as tf\n",
        "from tensorflow.keras.datasets.mnist import load_data\n",
        "from tensorflow.keras.models import Sequential\n",
        "from tensorflow.keras.layers import Flatten, Dense, Dropout\n",
        "\n",
        "import plotly.express as px\n",
        "from plotly.subplots import make_subplots\n",
        "import plotly.graph_objects as go\n",
        "\n",
        "np.set_printoptions(precision=12, suppress=True, linewidth=120)\n",
        "print(tf.__version__)"
      ],
      "execution_count": 1,
      "outputs": [
        {
          "output_type": "stream",
          "name": "stdout",
          "text": [
            "2.6.0\n"
          ]
        }
      ]
    },
    {
      "cell_type": "markdown",
      "metadata": {
        "id": "ZVr7iXzvrdll"
      },
      "source": [
        "Załadowanie i przygotowanie danych"
      ]
    },
    {
      "cell_type": "code",
      "metadata": {
        "colab": {
          "base_uri": "https://localhost:8080/"
        },
        "id": "cL8i-nqHrfLc",
        "outputId": "c8910bbb-b9be-4ed2-8331-1e7b19849777"
      },
      "source": [
        "(X_train, y_train), (X_test, y_test) = load_data()\n",
        "\n",
        "print(f'X_train shape: {X_train.shape}')\n",
        "print(f'y_train shape: {y_train.shape}')\n",
        "print(f'X_test shape: {X_test.shape}')\n",
        "print(f'y_test shape: {y_test.shape}')"
      ],
      "execution_count": 2,
      "outputs": [
        {
          "output_type": "stream",
          "name": "stdout",
          "text": [
            "Downloading data from https://storage.googleapis.com/tensorflow/tf-keras-datasets/mnist.npz\n",
            "11493376/11490434 [==============================] - 0s 0us/step\n",
            "11501568/11490434 [==============================] - 0s 0us/step\n",
            "X_train shape: (60000, 28, 28)\n",
            "y_train shape: (60000,)\n",
            "X_test shape: (10000, 28, 28)\n",
            "y_test shape: (10000,)\n"
          ]
        }
      ]
    },
    {
      "cell_type": "code",
      "metadata": {
        "colab": {
          "base_uri": "https://localhost:8080/"
        },
        "id": "csJUnsK1rj_U",
        "outputId": "c31cd633-9bf6-4f24-8c8d-bc746ded3708"
      },
      "source": [
        "print(X_train[1])"
      ],
      "execution_count": 4,
      "outputs": [
        {
          "output_type": "stream",
          "name": "stdout",
          "text": [
            "[[  0   0   0   0   0   0   0   0   0   0   0   0   0   0   0   0   0   0   0   0   0   0   0   0   0   0   0   0]\n",
            " [  0   0   0   0   0   0   0   0   0   0   0   0   0   0   0   0   0   0   0   0   0   0   0   0   0   0   0   0]\n",
            " [  0   0   0   0   0   0   0   0   0   0   0   0   0   0   0   0   0   0   0   0   0   0   0   0   0   0   0   0]\n",
            " [  0   0   0   0   0   0   0   0   0   0   0   0   0   0   0   0   0   0   0   0   0   0   0   0   0   0   0   0]\n",
            " [  0   0   0   0   0   0   0   0   0   0   0   0   0   0   0  51 159 253 159  50   0   0   0   0   0   0   0   0]\n",
            " [  0   0   0   0   0   0   0   0   0   0   0   0   0   0  48 238 252 252 252 237   0   0   0   0   0   0   0   0]\n",
            " [  0   0   0   0   0   0   0   0   0   0   0   0   0  54 227 253 252 239 233 252  57   6   0   0   0   0   0   0]\n",
            " [  0   0   0   0   0   0   0   0   0   0   0  10  60 224 252 253 252 202  84 252 253 122   0   0   0   0   0   0]\n",
            " [  0   0   0   0   0   0   0   0   0   0   0 163 252 252 252 253 252 252  96 189 253 167   0   0   0   0   0   0]\n",
            " [  0   0   0   0   0   0   0   0   0   0  51 238 253 253 190 114 253 228  47  79 255 168   0   0   0   0   0   0]\n",
            " [  0   0   0   0   0   0   0   0   0  48 238 252 252 179  12  75 121  21   0   0 253 243  50   0   0   0   0   0]\n",
            " [  0   0   0   0   0   0   0   0  38 165 253 233 208  84   0   0   0   0   0   0 253 252 165   0   0   0   0   0]\n",
            " [  0   0   0   0   0   0   0   7 178 252 240  71  19  28   0   0   0   0   0   0 253 252 195   0   0   0   0   0]\n",
            " [  0   0   0   0   0   0   0  57 252 252  63   0   0   0   0   0   0   0   0   0 253 252 195   0   0   0   0   0]\n",
            " [  0   0   0   0   0   0   0 198 253 190   0   0   0   0   0   0   0   0   0   0 255 253 196   0   0   0   0   0]\n",
            " [  0   0   0   0   0   0  76 246 252 112   0   0   0   0   0   0   0   0   0   0 253 252 148   0   0   0   0   0]\n",
            " [  0   0   0   0   0   0  85 252 230  25   0   0   0   0   0   0   0   0   7 135 253 186  12   0   0   0   0   0]\n",
            " [  0   0   0   0   0   0  85 252 223   0   0   0   0   0   0   0   0   7 131 252 225  71   0   0   0   0   0   0]\n",
            " [  0   0   0   0   0   0  85 252 145   0   0   0   0   0   0   0  48 165 252 173   0   0   0   0   0   0   0   0]\n",
            " [  0   0   0   0   0   0  86 253 225   0   0   0   0   0   0 114 238 253 162   0   0   0   0   0   0   0   0   0]\n",
            " [  0   0   0   0   0   0  85 252 249 146  48  29  85 178 225 253 223 167  56   0   0   0   0   0   0   0   0   0]\n",
            " [  0   0   0   0   0   0  85 252 252 252 229 215 252 252 252 196 130   0   0   0   0   0   0   0   0   0   0   0]\n",
            " [  0   0   0   0   0   0  28 199 252 252 253 252 252 233 145   0   0   0   0   0   0   0   0   0   0   0   0   0]\n",
            " [  0   0   0   0   0   0   0  25 128 252 253 252 141  37   0   0   0   0   0   0   0   0   0   0   0   0   0   0]\n",
            " [  0   0   0   0   0   0   0   0   0   0   0   0   0   0   0   0   0   0   0   0   0   0   0   0   0   0   0   0]\n",
            " [  0   0   0   0   0   0   0   0   0   0   0   0   0   0   0   0   0   0   0   0   0   0   0   0   0   0   0   0]\n",
            " [  0   0   0   0   0   0   0   0   0   0   0   0   0   0   0   0   0   0   0   0   0   0   0   0   0   0   0   0]\n",
            " [  0   0   0   0   0   0   0   0   0   0   0   0   0   0   0   0   0   0   0   0   0   0   0   0   0   0   0   0]]\n"
          ]
        }
      ]
    },
    {
      "cell_type": "code",
      "metadata": {
        "colab": {
          "base_uri": "https://localhost:8080/"
        },
        "id": "AjPElek_rmcy",
        "outputId": "2f62647d-2425-4f24-cd89-783b50df1e59"
      },
      "source": [
        "print(f'X_train[0] shape: {X_train[0].shape}')"
      ],
      "execution_count": 5,
      "outputs": [
        {
          "output_type": "stream",
          "name": "stdout",
          "text": [
            "X_train[0] shape: (28, 28)\n"
          ]
        }
      ]
    },
    {
      "cell_type": "code",
      "metadata": {
        "id": "J0Cegdftryuq"
      },
      "source": [
        "X_train = X_train / 255.\n",
        "X_test = X_test / 255."
      ],
      "execution_count": 6,
      "outputs": []
    },
    {
      "cell_type": "markdown",
      "metadata": {
        "id": "d6-6OZ1Sr895"
      },
      "source": [
        "Eksploracja danych"
      ]
    },
    {
      "cell_type": "code",
      "metadata": {
        "colab": {
          "base_uri": "https://localhost:8080/",
          "height": 248
        },
        "id": "N8OYFKpur4cQ",
        "outputId": "82d8ed7f-4926-42c0-9896-2671ce5a6ce8"
      },
      "source": [
        "plt.imshow(X_train[0], cmap='gray_r')\n",
        "_ = plt.axis('off')"
      ],
      "execution_count": 8,
      "outputs": [
        {
          "output_type": "display_data",
          "data": {
            "image/png": "[encoded data removed]",
            "text/plain": [
              "<Figure size 432x288 with 1 Axes>"
            ]
          },
          "metadata": {
            "needs_background": "light"
          }
        }
      ]
    },
    {
      "cell_type": "code",
      "metadata": {
        "colab": {
          "base_uri": "https://localhost:8080/",
          "height": 110
        },
        "id": "-BUR9Ut3sLw4",
        "outputId": "eb772ef8-5c2b-45e8-8ccd-053ab13fd6e2"
      },
      "source": [
        "plt.figure(figsize=(13, 13))\n",
        "for i in range(1, 11):\n",
        "    plt.subplot(1, 10, i)\n",
        "    plt.imshow(X_train[i-1], cmap='gray_r')\n",
        "    plt.title(y_train[i-1], color='black', fontsize=16)\n",
        "    plt.axis('off')\n",
        "plt.show()"
      ],
      "execution_count": 11,
      "outputs": [
        {
          "output_type": "display_data",
          "data": {
            "image/png": "[encoded data removed]",
            "text/plain": [
              "<Figure size 936x936 with 10 Axes>"
            ]
          },
          "metadata": {
            "needs_background": "light"
          }
        }
      ]
    },
    {
      "cell_type": "markdown",
      "metadata": {
        "id": "OlcVEj2Jtpei"
      },
      "source": [
        "### <a name='a0'></a> Budowa sieci neuronowej"
      ]
    },
    {
      "cell_type": "code",
      "metadata": {
        "colab": {
          "base_uri": "https://localhost:8080/"
        },
        "id": "jrhpJOW3tOWr",
        "outputId": "7229a28c-70d1-4bfd-a128-94a936a098ad"
      },
      "source": [
        "def build_model():\n",
        "    model = Sequential()\n",
        "    model.add(Flatten(input_shape=(28, 28)))\n",
        "    model.add(Dense(units=128, activation='relu'))\n",
        "    model.add(Dropout(rate=0.2))\n",
        "    model.add(Dense(units=10, activation='softmax'))\n",
        "\n",
        "    model.compile(optimizer='adam',\n",
        "                  loss='sparse_categorical_crossentropy',\n",
        "                  metrics=['accuracy'])\n",
        "    \n",
        "    return model\n",
        "\n",
        "model = build_model()\n",
        "model.summary()"
      ],
      "execution_count": 14,
      "outputs": [
        {
          "output_type": "stream",
          "name": "stdout",
          "text": [
            "Model: \"sequential_1\"\n",
            "_________________________________________________________________\n",
            "Layer (type)                 Output Shape              Param #   \n",
            "=================================================================\n",
            "flatten_1 (Flatten)          (None, 784)               0         \n",
            "_________________________________________________________________\n",
            "dense_2 (Dense)              (None, 128)               100480    \n",
            "_________________________________________________________________\n",
            "dropout_1 (Dropout)          (None, 128)               0         \n",
            "_________________________________________________________________\n",
            "dense_3 (Dense)              (None, 10)                1290      \n",
            "=================================================================\n",
            "Total params: 101,770\n",
            "Trainable params: 101,770\n",
            "Non-trainable params: 0\n",
            "_________________________________________________________________\n"
          ]
        }
      ]
    },
    {
      "cell_type": "markdown",
      "metadata": {
        "id": "eCEKdaIYvNbc"
      },
      "source": [
        "### <a name='a1'></a> Trenowanie modelu"
      ]
    },
    {
      "cell_type": "code",
      "metadata": {
        "colab": {
          "base_uri": "https://localhost:8080/"
        },
        "id": "1PUVz9e8vFtb",
        "outputId": "98d01b21-d2af-46d5-9a20-802c6dbec2c2"
      },
      "source": [
        "history = model.fit(X_train, y_train, epochs=10, validation_split=0.2, batch_size=32)"
      ],
      "execution_count": 15,
      "outputs": [
        {
          "output_type": "stream",
          "name": "stdout",
          "text": [
            "Epoch 1/10\n",
            "1500/1500 [==============================] - 4s 2ms/step - loss: 0.3223 - accuracy: 0.9064 - val_loss: 0.1488 - val_accuracy: 0.9586\n",
            "Epoch 2/10\n",
            "1500/1500 [==============================] - 4s 2ms/step - loss: 0.1542 - accuracy: 0.9542 - val_loss: 0.1233 - val_accuracy: 0.9613\n",
            "Epoch 3/10\n",
            "1500/1500 [==============================] - 3s 2ms/step - loss: 0.1136 - accuracy: 0.9653 - val_loss: 0.0935 - val_accuracy: 0.9726\n",
            "Epoch 4/10\n",
            "1500/1500 [==============================] - 3s 2ms/step - loss: 0.0954 - accuracy: 0.9705 - val_loss: 0.0852 - val_accuracy: 0.9747\n",
            "Epoch 5/10\n",
            "1500/1500 [==============================] - 3s 2ms/step - loss: 0.0768 - accuracy: 0.9753 - val_loss: 0.0803 - val_accuracy: 0.9743\n",
            "Epoch 6/10\n",
            "1500/1500 [==============================] - 3s 2ms/step - loss: 0.0675 - accuracy: 0.9784 - val_loss: 0.0834 - val_accuracy: 0.9748\n",
            "Epoch 7/10\n",
            "1500/1500 [==============================] - 3s 2ms/step - loss: 0.0605 - accuracy: 0.9807 - val_loss: 0.0773 - val_accuracy: 0.9764\n",
            "Epoch 8/10\n",
            "1500/1500 [==============================] - 4s 2ms/step - loss: 0.0535 - accuracy: 0.9826 - val_loss: 0.0773 - val_accuracy: 0.9786\n",
            "Epoch 9/10\n",
            "1500/1500 [==============================] - 3s 2ms/step - loss: 0.0492 - accuracy: 0.9837 - val_loss: 0.0835 - val_accuracy: 0.9753\n",
            "Epoch 10/10\n",
            "1500/1500 [==============================] - 3s 2ms/step - loss: 0.0440 - accuracy: 0.9856 - val_loss: 0.0773 - val_accuracy: 0.9770\n"
          ]
        }
      ]
    },
    {
      "cell_type": "markdown",
      "metadata": {
        "id": "-9RxR5XsvPmZ"
      },
      "source": [
        "### <a name='a2'> </a>ModelCheckpoint - Zapisywanie wag po każdej poprawie modelu\n",
        "\n",
        "Za każdym razem gdy monitorowana metryka ulega poprawie wagi są zapisywane do pliku.  \n",
        "Wykorzystamy klasę **ModelCheckpoint** do obserwowania metryki **accuracy** na zbiorze walidacyjnym."
      ]
    },
    {
      "cell_type": "code",
      "metadata": {
        "id": "PRF4FYoLx4Yo"
      },
      "source": [
        "from tensorflow.keras.callbacks import ModelCheckpoint\n",
        "\n",
        "!mkdir model\n",
        "filepath = 'model/weights-{epoch:02d}-{val_accuracy:.4f}.hdf5'\n",
        "\n",
        "checkpoint = ModelCheckpoint(filepath=filepath, monitor='val_accuracy', verbose=1, save_best_only=True, mode='max')"
      ],
      "execution_count": 16,
      "outputs": []
    },
    {
      "cell_type": "code",
      "metadata": {
        "colab": {
          "base_uri": "https://localhost:8080/"
        },
        "id": "jdZTC5kxy_LZ",
        "outputId": "aa82ad95-55bc-414e-9baf-8c8ac14dda86"
      },
      "source": [
        "from tensorflow.python.keras import callbacks\n",
        "model_1 = build_model()\n",
        "history = model_1.fit(x=X_train, y=y_train, epochs=10, validation_split=0.2, batch_size=32, callbacks=checkpoint)"
      ],
      "execution_count": 17,
      "outputs": [
        {
          "output_type": "stream",
          "name": "stdout",
          "text": [
            "Epoch 1/10\n",
            "1500/1500 [==============================] - 6s 3ms/step - loss: 0.3216 - accuracy: 0.9045 - val_loss: 0.1550 - val_accuracy: 0.9578\n",
            "\n",
            "Epoch 00001: val_accuracy improved from -inf to 0.95775, saving model to model/weights-01-0.9578.hdf5\n",
            "Epoch 2/10\n",
            "1500/1500 [==============================] - 3s 2ms/step - loss: 0.1539 - accuracy: 0.9543 - val_loss: 0.1164 - val_accuracy: 0.9659\n",
            "\n",
            "Epoch 00002: val_accuracy improved from 0.95775 to 0.96592, saving model to model/weights-02-0.9659.hdf5\n",
            "Epoch 3/10\n",
            "1500/1500 [==============================] - 4s 2ms/step - loss: 0.1163 - accuracy: 0.9648 - val_loss: 0.0983 - val_accuracy: 0.9712\n",
            "\n",
            "Epoch 00003: val_accuracy improved from 0.96592 to 0.97117, saving model to model/weights-03-0.9712.hdf5\n",
            "Epoch 4/10\n",
            "1500/1500 [==============================] - 3s 2ms/step - loss: 0.0962 - accuracy: 0.9705 - val_loss: 0.0918 - val_accuracy: 0.9730\n",
            "\n",
            "Epoch 00004: val_accuracy improved from 0.97117 to 0.97300, saving model to model/weights-04-0.9730.hdf5\n",
            "Epoch 5/10\n",
            "1500/1500 [==============================] - 3s 2ms/step - loss: 0.0792 - accuracy: 0.9752 - val_loss: 0.0825 - val_accuracy: 0.9748\n",
            "\n",
            "Epoch 00005: val_accuracy improved from 0.97300 to 0.97483, saving model to model/weights-05-0.9748.hdf5\n",
            "Epoch 6/10\n",
            "1500/1500 [==============================] - 3s 2ms/step - loss: 0.0713 - accuracy: 0.9775 - val_loss: 0.0844 - val_accuracy: 0.9762\n",
            "\n",
            "Epoch 00006: val_accuracy improved from 0.97483 to 0.97617, saving model to model/weights-06-0.9762.hdf5\n",
            "Epoch 7/10\n",
            "1500/1500 [==============================] - 4s 2ms/step - loss: 0.0601 - accuracy: 0.9811 - val_loss: 0.0815 - val_accuracy: 0.9757\n",
            "\n",
            "Epoch 00007: val_accuracy did not improve from 0.97617\n",
            "Epoch 8/10\n",
            "1500/1500 [==============================] - 3s 2ms/step - loss: 0.0562 - accuracy: 0.9812 - val_loss: 0.0795 - val_accuracy: 0.9768\n",
            "\n",
            "Epoch 00008: val_accuracy improved from 0.97617 to 0.97675, saving model to model/weights-08-0.9768.hdf5\n",
            "Epoch 9/10\n",
            "1500/1500 [==============================] - 4s 2ms/step - loss: 0.0505 - accuracy: 0.9836 - val_loss: 0.0788 - val_accuracy: 0.9765\n",
            "\n",
            "Epoch 00009: val_accuracy did not improve from 0.97675\n",
            "Epoch 10/10\n",
            "1500/1500 [==============================] - 4s 2ms/step - loss: 0.0440 - accuracy: 0.9852 - val_loss: 0.0767 - val_accuracy: 0.9787\n",
            "\n",
            "Epoch 00010: val_accuracy improved from 0.97675 to 0.97875, saving model to model/weights-10-0.9787.hdf5\n"
          ]
        }
      ]
    },
    {
      "cell_type": "markdown",
      "metadata": {
        "id": "a9XgNkOB0rkr"
      },
      "source": [
        "### <a name='a3'></a>ModelCheckpoint - Zapisanie najlepszego modelu"
      ]
    },
    {
      "cell_type": "code",
      "metadata": {
        "colab": {
          "base_uri": "https://localhost:8080/"
        },
        "id": "9174XR7tz23S",
        "outputId": "7c7c682d-9575-44c7-fcd7-9924bd777086"
      },
      "source": [
        "filepath = 'best_model_weights.hdf5'\n",
        "\n",
        "checkpoint = ModelCheckpoint(filepath=filepath, monitor='val_accuracy', verbose=1, save_best_only=True, mode='max')\n",
        "\n",
        "model_2 = build_model()\n",
        "history = model_2.fit(x=X_train, y=y_train, epochs=10, validation_split=0.2, batch_size=32, callbacks=checkpoint)"
      ],
      "execution_count": 18,
      "outputs": [
        {
          "output_type": "stream",
          "name": "stdout",
          "text": [
            "Epoch 1/10\n",
            "1500/1500 [==============================] - 5s 3ms/step - loss: 0.3167 - accuracy: 0.9083 - val_loss: 0.1609 - val_accuracy: 0.9544\n",
            "\n",
            "Epoch 00001: val_accuracy improved from -inf to 0.95442, saving model to best_model_weights.hdf5\n",
            "Epoch 2/10\n",
            "1500/1500 [==============================] - 3s 2ms/step - loss: 0.1547 - accuracy: 0.9534 - val_loss: 0.1158 - val_accuracy: 0.9673\n",
            "\n",
            "Epoch 00002: val_accuracy improved from 0.95442 to 0.96733, saving model to best_model_weights.hdf5\n",
            "Epoch 3/10\n",
            "1500/1500 [==============================] - 3s 2ms/step - loss: 0.1148 - accuracy: 0.9660 - val_loss: 0.0992 - val_accuracy: 0.9718\n",
            "\n",
            "Epoch 00003: val_accuracy improved from 0.96733 to 0.97175, saving model to best_model_weights.hdf5\n",
            "Epoch 4/10\n",
            "1500/1500 [==============================] - 3s 2ms/step - loss: 0.0940 - accuracy: 0.9723 - val_loss: 0.0895 - val_accuracy: 0.9737\n",
            "\n",
            "Epoch 00004: val_accuracy improved from 0.97175 to 0.97375, saving model to best_model_weights.hdf5\n",
            "Epoch 5/10\n",
            "1500/1500 [==============================] - 4s 2ms/step - loss: 0.0807 - accuracy: 0.9755 - val_loss: 0.0845 - val_accuracy: 0.9749\n",
            "\n",
            "Epoch 00005: val_accuracy improved from 0.97375 to 0.97492, saving model to best_model_weights.hdf5\n",
            "Epoch 6/10\n",
            "1500/1500 [==============================] - 3s 2ms/step - loss: 0.0699 - accuracy: 0.9784 - val_loss: 0.0811 - val_accuracy: 0.9757\n",
            "\n",
            "Epoch 00006: val_accuracy improved from 0.97492 to 0.97567, saving model to best_model_weights.hdf5\n",
            "Epoch 7/10\n",
            "1500/1500 [==============================] - 3s 2ms/step - loss: 0.0607 - accuracy: 0.9806 - val_loss: 0.0780 - val_accuracy: 0.9772\n",
            "\n",
            "Epoch 00007: val_accuracy improved from 0.97567 to 0.97717, saving model to best_model_weights.hdf5\n",
            "Epoch 8/10\n",
            "1500/1500 [==============================] - 4s 2ms/step - loss: 0.0546 - accuracy: 0.9824 - val_loss: 0.0782 - val_accuracy: 0.9783\n",
            "\n",
            "Epoch 00008: val_accuracy improved from 0.97717 to 0.97833, saving model to best_model_weights.hdf5\n",
            "Epoch 9/10\n",
            "1500/1500 [==============================] - 3s 2ms/step - loss: 0.0487 - accuracy: 0.9841 - val_loss: 0.0800 - val_accuracy: 0.9783\n",
            "\n",
            "Epoch 00009: val_accuracy did not improve from 0.97833\n",
            "Epoch 10/10\n",
            "1500/1500 [==============================] - 3s 2ms/step - loss: 0.0460 - accuracy: 0.9850 - val_loss: 0.0779 - val_accuracy: 0.9781\n",
            "\n",
            "Epoch 00010: val_accuracy did not improve from 0.97833\n"
          ]
        }
      ]
    },
    {
      "cell_type": "markdown",
      "metadata": {
        "id": "ufMWm9YU3KXS"
      },
      "source": [
        "##### Załadowanie wag i ocena modelu"
      ]
    },
    {
      "cell_type": "code",
      "metadata": {
        "colab": {
          "base_uri": "https://localhost:8080/"
        },
        "id": "IW0kIC4j2FjQ",
        "outputId": "67816921-e753-4b66-deee-2eed96d44fa3"
      },
      "source": [
        "best_model = Sequential()\n",
        "best_model.add(Flatten(input_shape=(28, 28)))\n",
        "best_model.add(Dense(units=128, activation='relu'))\n",
        "best_model.add(Dropout(rate=0.2))\n",
        "best_model.add(Dense(units=10, activation='softmax'))\n",
        "\n",
        "best_model.compile(optimizer='adam',\n",
        "             loss='sparse_categorical_crossentropy',\n",
        "             metrics=['accuracy'])\n",
        "\n",
        "best_model.load_weights('best_model_weights.hdf5')\n",
        "\n",
        "test_loss, test_accuracy = best_model.evaluate(X_test, y_test, verbose=0)\n",
        "print(f'{test_accuracy:.4f}')\n",
        "print(f'{test_loss:.4f}')"
      ],
      "execution_count": 22,
      "outputs": [
        {
          "output_type": "stream",
          "name": "stdout",
          "text": [
            "0.9776\n",
            "0.0747\n"
          ]
        }
      ]
    },
    {
      "cell_type": "markdown",
      "metadata": {
        "id": "1ZH_Q02HA7I8"
      },
      "source": [
        "###  <a name='a4'></a>Early Stopping - wczesne zatrzymanie\n",
        "Klasa **EarlyStopping** pozwala na wcześniejsze zatrzymanie procesu trenowania sieci, gdy obserwowna metryka zacznie się pogarszać. "
      ]
    },
    {
      "cell_type": "code",
      "metadata": {
        "colab": {
          "base_uri": "https://localhost:8080/"
        },
        "id": "BnKXTfdu3tdk",
        "outputId": "63c912f0-ad1d-4408-dcd7-0c3af8656e77"
      },
      "source": [
        "model_3 = build_model()\n",
        "history_3 = model_3.fit(X_train, y_train, epochs=30, validation_split=0.2, batch_size=32)"
      ],
      "execution_count": 23,
      "outputs": [
        {
          "output_type": "stream",
          "name": "stdout",
          "text": [
            "Epoch 1/30\n",
            "1500/1500 [==============================] - 6s 4ms/step - loss: 0.3251 - accuracy: 0.9055 - val_loss: 0.1583 - val_accuracy: 0.9538\n",
            "Epoch 2/30\n",
            "1500/1500 [==============================] - 5s 4ms/step - loss: 0.1597 - accuracy: 0.9540 - val_loss: 0.1177 - val_accuracy: 0.9644\n",
            "Epoch 3/30\n",
            "1500/1500 [==============================] - 5s 4ms/step - loss: 0.1197 - accuracy: 0.9642 - val_loss: 0.0996 - val_accuracy: 0.9712\n",
            "Epoch 4/30\n",
            "1500/1500 [==============================] - 6s 4ms/step - loss: 0.0958 - accuracy: 0.9715 - val_loss: 0.0923 - val_accuracy: 0.9727\n",
            "Epoch 5/30\n",
            "1500/1500 [==============================] - 6s 4ms/step - loss: 0.0817 - accuracy: 0.9752 - val_loss: 0.0898 - val_accuracy: 0.9728\n",
            "Epoch 6/30\n",
            "1500/1500 [==============================] - 6s 4ms/step - loss: 0.0717 - accuracy: 0.9774 - val_loss: 0.0821 - val_accuracy: 0.9750\n",
            "Epoch 7/30\n",
            "1500/1500 [==============================] - 6s 4ms/step - loss: 0.0625 - accuracy: 0.9803 - val_loss: 0.0850 - val_accuracy: 0.9760\n",
            "Epoch 8/30\n",
            "1500/1500 [==============================] - 6s 4ms/step - loss: 0.0560 - accuracy: 0.9819 - val_loss: 0.0776 - val_accuracy: 0.9777\n",
            "Epoch 9/30\n",
            "1500/1500 [==============================] - 5s 4ms/step - loss: 0.0503 - accuracy: 0.9840 - val_loss: 0.0782 - val_accuracy: 0.9779\n",
            "Epoch 10/30\n",
            "1500/1500 [==============================] - 5s 4ms/step - loss: 0.0457 - accuracy: 0.9851 - val_loss: 0.0833 - val_accuracy: 0.9770\n",
            "Epoch 11/30\n",
            "1500/1500 [==============================] - 7s 4ms/step - loss: 0.0411 - accuracy: 0.9868 - val_loss: 0.0829 - val_accuracy: 0.9782\n",
            "Epoch 12/30\n",
            "1500/1500 [==============================] - 5s 4ms/step - loss: 0.0389 - accuracy: 0.9868 - val_loss: 0.0770 - val_accuracy: 0.9784\n",
            "Epoch 13/30\n",
            "1500/1500 [==============================] - 6s 4ms/step - loss: 0.0358 - accuracy: 0.9883 - val_loss: 0.0825 - val_accuracy: 0.9790\n",
            "Epoch 14/30\n",
            "1500/1500 [==============================] - 6s 4ms/step - loss: 0.0344 - accuracy: 0.9887 - val_loss: 0.0753 - val_accuracy: 0.9800\n",
            "Epoch 15/30\n",
            "1500/1500 [==============================] - 6s 4ms/step - loss: 0.0311 - accuracy: 0.9895 - val_loss: 0.0783 - val_accuracy: 0.9797\n",
            "Epoch 16/30\n",
            "1500/1500 [==============================] - 6s 4ms/step - loss: 0.0304 - accuracy: 0.9898 - val_loss: 0.0869 - val_accuracy: 0.9792\n",
            "Epoch 17/30\n",
            "1500/1500 [==============================] - 6s 4ms/step - loss: 0.0290 - accuracy: 0.9898 - val_loss: 0.0865 - val_accuracy: 0.9787\n",
            "Epoch 18/30\n",
            "1500/1500 [==============================] - 6s 4ms/step - loss: 0.0271 - accuracy: 0.9908 - val_loss: 0.0917 - val_accuracy: 0.9763\n",
            "Epoch 19/30\n",
            "1500/1500 [==============================] - 6s 4ms/step - loss: 0.0269 - accuracy: 0.9912 - val_loss: 0.0935 - val_accuracy: 0.9792\n",
            "Epoch 20/30\n",
            "1500/1500 [==============================] - 6s 4ms/step - loss: 0.0273 - accuracy: 0.9906 - val_loss: 0.0903 - val_accuracy: 0.9800\n",
            "Epoch 21/30\n",
            "1500/1500 [==============================] - 6s 4ms/step - loss: 0.0244 - accuracy: 0.9913 - val_loss: 0.0875 - val_accuracy: 0.9792\n",
            "Epoch 22/30\n",
            "1500/1500 [==============================] - 7s 5ms/step - loss: 0.0230 - accuracy: 0.9920 - val_loss: 0.0878 - val_accuracy: 0.9788\n",
            "Epoch 23/30\n",
            "1500/1500 [==============================] - 5s 4ms/step - loss: 0.0230 - accuracy: 0.9924 - val_loss: 0.0889 - val_accuracy: 0.9797\n",
            "Epoch 24/30\n",
            "1500/1500 [==============================] - 6s 4ms/step - loss: 0.0228 - accuracy: 0.9922 - val_loss: 0.0878 - val_accuracy: 0.9798\n",
            "Epoch 25/30\n",
            "1500/1500 [==============================] - 7s 4ms/step - loss: 0.0205 - accuracy: 0.9933 - val_loss: 0.0928 - val_accuracy: 0.9803\n",
            "Epoch 26/30\n",
            "1500/1500 [==============================] - 6s 4ms/step - loss: 0.0216 - accuracy: 0.9927 - val_loss: 0.0942 - val_accuracy: 0.9783\n",
            "Epoch 27/30\n",
            "1500/1500 [==============================] - 7s 5ms/step - loss: 0.0212 - accuracy: 0.9929 - val_loss: 0.0923 - val_accuracy: 0.9787\n",
            "Epoch 28/30\n",
            "1500/1500 [==============================] - 5s 3ms/step - loss: 0.0218 - accuracy: 0.9924 - val_loss: 0.0903 - val_accuracy: 0.9810\n",
            "Epoch 29/30\n",
            "1500/1500 [==============================] - 4s 2ms/step - loss: 0.0196 - accuracy: 0.9933 - val_loss: 0.0967 - val_accuracy: 0.9799\n",
            "Epoch 30/30\n",
            "1500/1500 [==============================] - 4s 3ms/step - loss: 0.0196 - accuracy: 0.9931 - val_loss: 0.0896 - val_accuracy: 0.9797\n"
          ]
        }
      ]
    },
    {
      "cell_type": "code",
      "metadata": {
        "colab": {
          "base_uri": "https://localhost:8080/",
          "height": 206
        },
        "id": "ugLnpuM7DQst",
        "outputId": "fb545110-b415-403e-ccad-527cbc6d81e3"
      },
      "source": [
        "metrics = pd.DataFrame(history_3.history)\n",
        "metrics.head()"
      ],
      "execution_count": 24,
      "outputs": [
        {
          "output_type": "execute_result",
          "data": {
            "text/html": [
              "<div>\n",
              "<style scoped>\n",
              "    .dataframe tbody tr th:only-of-type {\n",
              "        vertical-align: middle;\n",
              "    }\n",
              "\n",
              "    .dataframe tbody tr th {\n",
              "        vertical-align: top;\n",
              "    }\n",
              "\n",
              "    .dataframe thead th {\n",
              "        text-align: right;\n",
              "    }\n",
              "</style>\n",
              "<table border=\"1\" class=\"dataframe\">\n",
              "  <thead>\n",
              "    <tr style=\"text-align: right;\">\n",
              "      <th></th>\n",
              "      <th>loss</th>\n",
              "      <th>accuracy</th>\n",
              "      <th>val_loss</th>\n",
              "      <th>val_accuracy</th>\n",
              "    </tr>\n",
              "  </thead>\n",
              "  <tbody>\n",
              "    <tr>\n",
              "      <th>0</th>\n",
              "      <td>0.325089</td>\n",
              "      <td>0.905479</td>\n",
              "      <td>0.158311</td>\n",
              "      <td>0.953833</td>\n",
              "    </tr>\n",
              "    <tr>\n",
              "      <th>1</th>\n",
              "      <td>0.159673</td>\n",
              "      <td>0.953979</td>\n",
              "      <td>0.117750</td>\n",
              "      <td>0.964417</td>\n",
              "    </tr>\n",
              "    <tr>\n",
              "      <th>2</th>\n",
              "      <td>0.119670</td>\n",
              "      <td>0.964229</td>\n",
              "      <td>0.099626</td>\n",
              "      <td>0.971250</td>\n",
              "    </tr>\n",
              "    <tr>\n",
              "      <th>3</th>\n",
              "      <td>0.095849</td>\n",
              "      <td>0.971458</td>\n",
              "      <td>0.092338</td>\n",
              "      <td>0.972667</td>\n",
              "    </tr>\n",
              "    <tr>\n",
              "      <th>4</th>\n",
              "      <td>0.081714</td>\n",
              "      <td>0.975208</td>\n",
              "      <td>0.089847</td>\n",
              "      <td>0.972750</td>\n",
              "    </tr>\n",
              "  </tbody>\n",
              "</table>\n",
              "</div>"
            ],
            "text/plain": [
              "       loss  accuracy  val_loss  val_accuracy\n",
              "0  0.325089  0.905479  0.158311      0.953833\n",
              "1  0.159673  0.953979  0.117750      0.964417\n",
              "2  0.119670  0.964229  0.099626      0.971250\n",
              "3  0.095849  0.971458  0.092338      0.972667\n",
              "4  0.081714  0.975208  0.089847      0.972750"
            ]
          },
          "metadata": {},
          "execution_count": 24
        }
      ]
    },
    {
      "cell_type": "code",
      "metadata": {
        "colab": {
          "base_uri": "https://localhost:8080/",
          "height": 483
        },
        "id": "ZB2gJOdPDdxx",
        "outputId": "3431c5ba-9f08-4675-8fc7-e144e5167c26"
      },
      "source": [
        "import matplotlib.pyplot as plt\n",
        "\n",
        "plt.figure(figsize=(14, 8))\n",
        "plt.subplot(211)\n",
        "plt.plot(metrics.index, metrics['loss'], marker = '.', markersize = 10, label='loss')\n",
        "plt.plot(metrics.index, metrics['val_loss'], marker = '.', markersize = 10, label='val_loss')\n",
        "plt.legend()\n",
        "plt.subplot(212)\n",
        "plt.plot(metrics.index, metrics['accuracy'], marker = '.', markersize = 10, label='accuracy')\n",
        "plt.plot(metrics.index, metrics['val_accuracy'], marker = '.', markersize = 10, label='val_accuracy')\n",
        "plt.legend()\n",
        "plt.show()"
      ],
      "execution_count": 30,
      "outputs": [
        {
          "output_type": "display_data",
          "data": {
            "image/png": "[encoded data removed]",
            "text/plain": [
              "<Figure size 1008x576 with 2 Axes>"
            ]
          },
          "metadata": {
            "needs_background": "light"
          }
        }
      ]
    },
    {
      "cell_type": "code",
      "metadata": {
        "colab": {
          "base_uri": "https://localhost:8080/"
        },
        "id": "83B_8OYjFePU",
        "outputId": "b9badce7-9bf2-4481-bb01-9e9d65a52f4b"
      },
      "source": [
        "from tensorflow.keras.callbacks import EarlyStopping\n",
        "\n",
        "es = EarlyStopping(monitor='val_loss', mode='min', verbose=1, patience=2)\n",
        "\n",
        "model_4 = build_model()\n",
        "history_4 = model_4.fit(X_train, y_train, epochs=30, validation_split=0.2, batch_size=32, callbacks=es)"
      ],
      "execution_count": 31,
      "outputs": [
        {
          "output_type": "stream",
          "name": "stdout",
          "text": [
            "Epoch 1/30\n",
            "1500/1500 [==============================] - 6s 4ms/step - loss: 0.3282 - accuracy: 0.9043 - val_loss: 0.1506 - val_accuracy: 0.9592\n",
            "Epoch 2/30\n",
            "1500/1500 [==============================] - 5s 3ms/step - loss: 0.1563 - accuracy: 0.9539 - val_loss: 0.1147 - val_accuracy: 0.9672\n",
            "Epoch 3/30\n",
            "1500/1500 [==============================] - 7s 4ms/step - loss: 0.1176 - accuracy: 0.9642 - val_loss: 0.1027 - val_accuracy: 0.9687\n",
            "Epoch 4/30\n",
            "1500/1500 [==============================] - 6s 4ms/step - loss: 0.0942 - accuracy: 0.9714 - val_loss: 0.0893 - val_accuracy: 0.9730\n",
            "Epoch 5/30\n",
            "1500/1500 [==============================] - 5s 4ms/step - loss: 0.0789 - accuracy: 0.9756 - val_loss: 0.0849 - val_accuracy: 0.9750\n",
            "Epoch 6/30\n",
            "1500/1500 [==============================] - 5s 4ms/step - loss: 0.0712 - accuracy: 0.9775 - val_loss: 0.0787 - val_accuracy: 0.9761\n",
            "Epoch 7/30\n",
            "1500/1500 [==============================] - 5s 4ms/step - loss: 0.0617 - accuracy: 0.9805 - val_loss: 0.0770 - val_accuracy: 0.9762\n",
            "Epoch 8/30\n",
            "1500/1500 [==============================] - 4s 2ms/step - loss: 0.0557 - accuracy: 0.9818 - val_loss: 0.0762 - val_accuracy: 0.9788\n",
            "Epoch 9/30\n",
            "1500/1500 [==============================] - 4s 2ms/step - loss: 0.0503 - accuracy: 0.9836 - val_loss: 0.0749 - val_accuracy: 0.9779\n",
            "Epoch 10/30\n",
            "1500/1500 [==============================] - 4s 3ms/step - loss: 0.0431 - accuracy: 0.9858 - val_loss: 0.0855 - val_accuracy: 0.9752\n",
            "Epoch 11/30\n",
            "1500/1500 [==============================] - 3s 2ms/step - loss: 0.0425 - accuracy: 0.9858 - val_loss: 0.0815 - val_accuracy: 0.9783\n",
            "Epoch 00011: early stopping\n"
          ]
        }
      ]
    },
    {
      "cell_type": "code",
      "metadata": {
        "colab": {
          "base_uri": "https://localhost:8080/",
          "height": 206
        },
        "id": "mK59mPjeHmqK",
        "outputId": "9a25fb5c-e5e2-408f-825d-988b7bb543ce"
      },
      "source": [
        "metrics = pd.DataFrame(history_4.history)\n",
        "metrics.head()"
      ],
      "execution_count": 32,
      "outputs": [
        {
          "output_type": "execute_result",
          "data": {
            "text/html": [
              "<div>\n",
              "<style scoped>\n",
              "    .dataframe tbody tr th:only-of-type {\n",
              "        vertical-align: middle;\n",
              "    }\n",
              "\n",
              "    .dataframe tbody tr th {\n",
              "        vertical-align: top;\n",
              "    }\n",
              "\n",
              "    .dataframe thead th {\n",
              "        text-align: right;\n",
              "    }\n",
              "</style>\n",
              "<table border=\"1\" class=\"dataframe\">\n",
              "  <thead>\n",
              "    <tr style=\"text-align: right;\">\n",
              "      <th></th>\n",
              "      <th>loss</th>\n",
              "      <th>accuracy</th>\n",
              "      <th>val_loss</th>\n",
              "      <th>val_accuracy</th>\n",
              "    </tr>\n",
              "  </thead>\n",
              "  <tbody>\n",
              "    <tr>\n",
              "      <th>0</th>\n",
              "      <td>0.328218</td>\n",
              "      <td>0.904292</td>\n",
              "      <td>0.150628</td>\n",
              "      <td>0.959250</td>\n",
              "    </tr>\n",
              "    <tr>\n",
              "      <th>1</th>\n",
              "      <td>0.156348</td>\n",
              "      <td>0.953875</td>\n",
              "      <td>0.114733</td>\n",
              "      <td>0.967250</td>\n",
              "    </tr>\n",
              "    <tr>\n",
              "      <th>2</th>\n",
              "      <td>0.117603</td>\n",
              "      <td>0.964167</td>\n",
              "      <td>0.102737</td>\n",
              "      <td>0.968667</td>\n",
              "    </tr>\n",
              "    <tr>\n",
              "      <th>3</th>\n",
              "      <td>0.094212</td>\n",
              "      <td>0.971438</td>\n",
              "      <td>0.089304</td>\n",
              "      <td>0.973000</td>\n",
              "    </tr>\n",
              "    <tr>\n",
              "      <th>4</th>\n",
              "      <td>0.078896</td>\n",
              "      <td>0.975604</td>\n",
              "      <td>0.084942</td>\n",
              "      <td>0.975000</td>\n",
              "    </tr>\n",
              "  </tbody>\n",
              "</table>\n",
              "</div>"
            ],
            "text/plain": [
              "       loss  accuracy  val_loss  val_accuracy\n",
              "0  0.328218  0.904292  0.150628      0.959250\n",
              "1  0.156348  0.953875  0.114733      0.967250\n",
              "2  0.117603  0.964167  0.102737      0.968667\n",
              "3  0.094212  0.971438  0.089304      0.973000\n",
              "4  0.078896  0.975604  0.084942      0.975000"
            ]
          },
          "metadata": {},
          "execution_count": 32
        }
      ]
    },
    {
      "cell_type": "code",
      "metadata": {
        "colab": {
          "base_uri": "https://localhost:8080/",
          "height": 483
        },
        "id": "oSwXtUSOHqaL",
        "outputId": "3d3eca92-8a1a-42c1-8388-28f26f25f911"
      },
      "source": [
        "plt.figure(figsize=(14, 8))\n",
        "plt.subplot(211)\n",
        "plt.plot(metrics.index, metrics['loss'], marker = '.', markersize = 10, label='loss')\n",
        "plt.plot(metrics.index, metrics['val_loss'], marker = '.', markersize = 10, label='val_loss')\n",
        "plt.legend()\n",
        "plt.subplot(212)\n",
        "plt.plot(metrics.index, metrics['accuracy'], marker = '.', markersize = 10, label='accuracy')\n",
        "plt.plot(metrics.index, metrics['val_accuracy'], marker = '.', markersize = 10, label='val_accuracy')\n",
        "plt.legend()\n",
        "plt.show()"
      ],
      "execution_count": 33,
      "outputs": [
        {
          "output_type": "display_data",
          "data": {
            "image/png": "[encoded data removed]",
            "text/plain": [
              "<Figure size 1008x576 with 2 Axes>"
            ]
          },
          "metadata": {
            "needs_background": "light"
          }
        }
      ]
    }
  ]
}