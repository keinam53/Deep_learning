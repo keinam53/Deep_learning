{
  "nbformat": 4,
  "nbformat_minor": 0,
  "metadata": {
    "colab": {
      "name": "1_Model_Sequential.ipynb",
      "provenance": [],
      "authorship_tag": "ABX9TyMOk7eWSjUhFt4oDV+A0XK0",
      "include_colab_link": true
    },
    "kernelspec": {
      "name": "python3",
      "display_name": "Python 3"
    },
    "language_info": {
      "name": "python"
    }
  },
  "cells": [
    {
      "cell_type": "markdown",
      "metadata": {
        "id": "view-in-github",
        "colab_type": "text"
      },
      "source": [
        "<a href=\"https://colab.research.google.com/github/keinam53/Deep_learning/blob/main/2_Keras/1_Model_Sequential.ipynb\" target=\"_parent\"><img src=\"https://colab.research.google.com/assets/colab-badge.svg\" alt=\"Open In Colab\"/></a>"
      ]
    },
    {
      "cell_type": "markdown",
      "metadata": {
        "id": "uzVW9O4SDAke"
      },
      "source": [
        "### Model sekwencjny (Sequential Model):\n",
        "1. [Wprowadzenie - pierwszy model](#a0)\n",
        "2. [Funkcje aktywacji](#a1)\n",
        "3. [Kompilacja modelu](#a2)\n",
        "4. [Trenowanie modelu](#a3)\n",
        "5. [Przykład - klasyfikacja binarna](#a4)\n",
        "6. [Przykład - klasyfikacja wieloklasowa](#a5)\n",
        "7. [Przykład - regresja](#a6)"
      ]
    },
    {
      "cell_type": "code",
      "metadata": {
        "colab": {
          "base_uri": "https://localhost:8080/",
          "height": 36
        },
        "id": "t40hizOsB76W",
        "outputId": "6ec71b4a-e4ef-48fa-cc91-853bc4ed40e2"
      },
      "source": [
        "import tensorflow as tf\n",
        "import numpy as np\n",
        "import pandas as pd\n",
        "import plotly.express as px\n",
        "import matplotlib.pyplot as plt\n",
        "tf.__version__"
      ],
      "execution_count": 1,
      "outputs": [
        {
          "output_type": "execute_result",
          "data": {
            "application/vnd.google.colaboratory.intrinsic+json": {
              "type": "string"
            },
            "text/plain": [
              "'2.6.0'"
            ]
          },
          "metadata": {},
          "execution_count": 1
        }
      ]
    },
    {
      "cell_type": "markdown",
      "metadata": {
        "id": "gEuYQe7hDG7Q"
      },
      "source": [
        "### <a name='a0'></a>Wprowadzenie - pierwszy model\n",
        "Model sekwencyjny to nic innego jak liniowy stos warstw."
      ]
    },
    {
      "cell_type": "code",
      "metadata": {
        "colab": {
          "base_uri": "https://localhost:8080/"
        },
        "id": "wIoxfYYxDE-H",
        "outputId": "f8d241f7-1f0d-48f4-81a3-0d28ca061481"
      },
      "source": [
        "#utworzenie instancji klasy Sequential\n",
        "from tensorflow.keras.models import Sequential\n",
        "\n",
        "model = Sequential()\n",
        "print(model)"
      ],
      "execution_count": 2,
      "outputs": [
        {
          "output_type": "stream",
          "name": "stdout",
          "text": [
            "<keras.engine.sequential.Sequential object at 0x7f2f8d59c250>\n"
          ]
        }
      ]
    },
    {
      "cell_type": "markdown",
      "metadata": {
        "id": "B2h-6bAaDKna"
      },
      "source": [
        "Podstawowym elementem składowym modelu są warstwy. Aby dodać najbardziej standardową warstwę - warstwę gęsto połączoną należy użyć warstwy **Dense**. Aby dodać warstwę do modelu należy użyć metody *.add()*\n",
        "\n",
        "Wyświetlenie podsumowania modelu: metoda .summary()"
      ]
    },
    {
      "cell_type": "code",
      "metadata": {
        "colab": {
          "base_uri": "https://localhost:8080/"
        },
        "id": "c8HrBzqQDNG9",
        "outputId": "3b767cc7-d30a-4075-92a2-aa07ebc2026f"
      },
      "source": [
        "from tensorflow.keras.layers import Dense\n",
        "\n",
        "model.add(Dense(units=4, input_shape=(10,)))\n",
        "model.summary()"
      ],
      "execution_count": 3,
      "outputs": [
        {
          "output_type": "stream",
          "name": "stdout",
          "text": [
            "Model: \"sequential\"\n",
            "_________________________________________________________________\n",
            "Layer (type)                 Output Shape              Param #   \n",
            "=================================================================\n",
            "dense (Dense)                (None, 4)                 44        \n",
            "=================================================================\n",
            "Total params: 44\n",
            "Trainable params: 44\n",
            "Non-trainable params: 0\n",
            "_________________________________________________________________\n"
          ]
        }
      ]
    },
    {
      "cell_type": "markdown",
      "metadata": {
        "id": "pBUY-uDlDOs7"
      },
      "source": [
        "Dodanie kolejnej warstwy"
      ]
    },
    {
      "cell_type": "code",
      "metadata": {
        "colab": {
          "base_uri": "https://localhost:8080/"
        },
        "id": "EezG17yRDOJe",
        "outputId": "a3640741-79c2-40c3-ea3c-da31b72e6397"
      },
      "source": [
        "model.add(Dense(units=2))\n",
        "model.summary()"
      ],
      "execution_count": 4,
      "outputs": [
        {
          "output_type": "stream",
          "name": "stdout",
          "text": [
            "Model: \"sequential\"\n",
            "_________________________________________________________________\n",
            "Layer (type)                 Output Shape              Param #   \n",
            "=================================================================\n",
            "dense (Dense)                (None, 4)                 44        \n",
            "_________________________________________________________________\n",
            "dense_1 (Dense)              (None, 2)                 10        \n",
            "=================================================================\n",
            "Total params: 54\n",
            "Trainable params: 54\n",
            "Non-trainable params: 0\n",
            "_________________________________________________________________\n"
          ]
        }
      ]
    },
    {
      "cell_type": "markdown",
      "metadata": {
        "id": "Dy0ikjsbDRGA"
      },
      "source": [
        "### <a name='a1'></a>Funkcje aktywacji\n",
        "Istotnym elemenem sieci neuronowych jest dobór odpowiednich funkcji aktywacji. Funkcje aktywacji jak sama nazwa wskazuje są odpowiedzialne za aktywowanie odpowiednich neuronów podczas procesu uczenia.\n",
        "\n",
        "Jeżeli nie określimy podczas dodawania warstwy funkcji aktywacji, domyślnie stosowana jest liniowa funkcja aktywacji, tzn. $a(x)=x$\n",
        "\n",
        "Warstwa z liniową funkcją aktywacji może uczyć się tylko liniowych przekształceń danych wejściowych. Dlatego stosuje się różne funkcje aktywacji aby rozwiazywać problemy nieliniowe.\n",
        "\n",
        "[Keras: Funkcje aktywacji](https://keras.io/activations/)"
      ]
    },
    {
      "cell_type": "code",
      "metadata": {
        "colab": {
          "base_uri": "https://localhost:8080/",
          "height": 206
        },
        "id": "0fu_NXT4DSzo",
        "outputId": "8783f027-fbc3-41da-8216-8837bd46705f"
      },
      "source": [
        "from tensorflow.keras.activations import linear\n",
        "\n",
        "random_data = sorted(np.random.randn(200))\n",
        "data = pd.DataFrame({'data': random_data, 'linear': linear(random_data)})\n",
        "data.head()"
      ],
      "execution_count": 5,
      "outputs": [
        {
          "output_type": "execute_result",
          "data": {
            "text/html": [
              "<div>\n",
              "<style scoped>\n",
              "    .dataframe tbody tr th:only-of-type {\n",
              "        vertical-align: middle;\n",
              "    }\n",
              "\n",
              "    .dataframe tbody tr th {\n",
              "        vertical-align: top;\n",
              "    }\n",
              "\n",
              "    .dataframe thead th {\n",
              "        text-align: right;\n",
              "    }\n",
              "</style>\n",
              "<table border=\"1\" class=\"dataframe\">\n",
              "  <thead>\n",
              "    <tr style=\"text-align: right;\">\n",
              "      <th></th>\n",
              "      <th>data</th>\n",
              "      <th>linear</th>\n",
              "    </tr>\n",
              "  </thead>\n",
              "  <tbody>\n",
              "    <tr>\n",
              "      <th>0</th>\n",
              "      <td>-2.571795</td>\n",
              "      <td>-2.571795</td>\n",
              "    </tr>\n",
              "    <tr>\n",
              "      <th>1</th>\n",
              "      <td>-2.105475</td>\n",
              "      <td>-2.105475</td>\n",
              "    </tr>\n",
              "    <tr>\n",
              "      <th>2</th>\n",
              "      <td>-1.981685</td>\n",
              "      <td>-1.981685</td>\n",
              "    </tr>\n",
              "    <tr>\n",
              "      <th>3</th>\n",
              "      <td>-1.862283</td>\n",
              "      <td>-1.862283</td>\n",
              "    </tr>\n",
              "    <tr>\n",
              "      <th>4</th>\n",
              "      <td>-1.803897</td>\n",
              "      <td>-1.803897</td>\n",
              "    </tr>\n",
              "  </tbody>\n",
              "</table>\n",
              "</div>"
            ],
            "text/plain": [
              "       data    linear\n",
              "0 -2.571795 -2.571795\n",
              "1 -2.105475 -2.105475\n",
              "2 -1.981685 -1.981685\n",
              "3 -1.862283 -1.862283\n",
              "4 -1.803897 -1.803897"
            ]
          },
          "metadata": {},
          "execution_count": 5
        }
      ]
    },
    {
      "cell_type": "code",
      "metadata": {
        "colab": {
          "base_uri": "https://localhost:8080/",
          "height": 517
        },
        "id": "GOVE7DcMI9a9",
        "outputId": "864d43b8-8e95-4c82-bc7f-69a299f37fcb"
      },
      "source": [
        "plt.figure(figsize=(10, 8))\n",
        "plt.plot(data['data'], data['linear'])\n",
        "plt.grid()\n",
        "plt.title('Funkcja aktywacji: Liniowa')"
      ],
      "execution_count": 11,
      "outputs": [
        {
          "output_type": "execute_result",
          "data": {
            "text/plain": [
              "Text(0.5, 1.0, 'Funkcja aktywacji: Liniowa')"
            ]
          },
          "metadata": {},
          "execution_count": 11
        },
        {
          "output_type": "display_data",
          "data": {
            "image/png": "[encoded data removed]",
            "text/plain": [
              "<Figure size 720x576 with 1 Axes>"
            ]
          },
          "metadata": {
            "needs_background": "light"
          }
        }
      ]
    },
    {
      "cell_type": "code",
      "metadata": {
        "colab": {
          "base_uri": "https://localhost:8080/",
          "height": 206
        },
        "id": "6Jfm9b3cJ57p",
        "outputId": "ec9ce7f4-c3ca-4dee-961d-81815936838b"
      },
      "source": [
        "from tensorflow.keras.activations import sigmoid\n",
        "\n",
        "data = pd.DataFrame({'data': random_data, 'sigmoid': sigmoid(random_data)})\n",
        "data.head()"
      ],
      "execution_count": 12,
      "outputs": [
        {
          "output_type": "execute_result",
          "data": {
            "text/html": [
              "<div>\n",
              "<style scoped>\n",
              "    .dataframe tbody tr th:only-of-type {\n",
              "        vertical-align: middle;\n",
              "    }\n",
              "\n",
              "    .dataframe tbody tr th {\n",
              "        vertical-align: top;\n",
              "    }\n",
              "\n",
              "    .dataframe thead th {\n",
              "        text-align: right;\n",
              "    }\n",
              "</style>\n",
              "<table border=\"1\" class=\"dataframe\">\n",
              "  <thead>\n",
              "    <tr style=\"text-align: right;\">\n",
              "      <th></th>\n",
              "      <th>data</th>\n",
              "      <th>sigmoid</th>\n",
              "    </tr>\n",
              "  </thead>\n",
              "  <tbody>\n",
              "    <tr>\n",
              "      <th>0</th>\n",
              "      <td>-2.571795</td>\n",
              "      <td>0.070976</td>\n",
              "    </tr>\n",
              "    <tr>\n",
              "      <th>1</th>\n",
              "      <td>-2.105475</td>\n",
              "      <td>0.108566</td>\n",
              "    </tr>\n",
              "    <tr>\n",
              "      <th>2</th>\n",
              "      <td>-1.981685</td>\n",
              "      <td>0.121139</td>\n",
              "    </tr>\n",
              "    <tr>\n",
              "      <th>3</th>\n",
              "      <td>-1.862283</td>\n",
              "      <td>0.134437</td>\n",
              "    </tr>\n",
              "    <tr>\n",
              "      <th>4</th>\n",
              "      <td>-1.803897</td>\n",
              "      <td>0.141377</td>\n",
              "    </tr>\n",
              "  </tbody>\n",
              "</table>\n",
              "</div>"
            ],
            "text/plain": [
              "       data   sigmoid\n",
              "0 -2.571795  0.070976\n",
              "1 -2.105475  0.108566\n",
              "2 -1.981685  0.121139\n",
              "3 -1.862283  0.134437\n",
              "4 -1.803897  0.141377"
            ]
          },
          "metadata": {},
          "execution_count": 12
        }
      ]
    },
    {
      "cell_type": "code",
      "metadata": {
        "colab": {
          "base_uri": "https://localhost:8080/",
          "height": 517
        },
        "id": "RChVV4wOK-k-",
        "outputId": "3f7ff144-a085-4ef9-a683-8fb27711acae"
      },
      "source": [
        "plt.figure(figsize=(10, 8))\n",
        "plt.plot(data['data'], data['sigmoid'])\n",
        "plt.grid()\n",
        "plt.title('Funkcja aktywacji: Sigmoid')"
      ],
      "execution_count": 13,
      "outputs": [
        {
          "output_type": "execute_result",
          "data": {
            "text/plain": [
              "Text(0.5, 1.0, 'Funkcja aktywacji: Sigmoid')"
            ]
          },
          "metadata": {},
          "execution_count": 13
        },
        {
          "output_type": "display_data",
          "data": {
            "image/png": "[encoded data removed]",
            "text/plain": [
              "<Figure size 720x576 with 1 Axes>"
            ]
          },
          "metadata": {
            "needs_background": "light"
          }
        }
      ]
    },
    {
      "cell_type": "code",
      "metadata": {
        "colab": {
          "base_uri": "https://localhost:8080/",
          "height": 206
        },
        "id": "PRqX8r7gLE3A",
        "outputId": "c4fd6315-f442-4e54-95fd-2d59ae43407b"
      },
      "source": [
        "from tensorflow.keras.activations import relu\n",
        "\n",
        "data = pd.DataFrame({'data': random_data, 'relu': relu(random_data)})\n",
        "data.head()"
      ],
      "execution_count": 14,
      "outputs": [
        {
          "output_type": "execute_result",
          "data": {
            "text/html": [
              "<div>\n",
              "<style scoped>\n",
              "    .dataframe tbody tr th:only-of-type {\n",
              "        vertical-align: middle;\n",
              "    }\n",
              "\n",
              "    .dataframe tbody tr th {\n",
              "        vertical-align: top;\n",
              "    }\n",
              "\n",
              "    .dataframe thead th {\n",
              "        text-align: right;\n",
              "    }\n",
              "</style>\n",
              "<table border=\"1\" class=\"dataframe\">\n",
              "  <thead>\n",
              "    <tr style=\"text-align: right;\">\n",
              "      <th></th>\n",
              "      <th>data</th>\n",
              "      <th>relu</th>\n",
              "    </tr>\n",
              "  </thead>\n",
              "  <tbody>\n",
              "    <tr>\n",
              "      <th>0</th>\n",
              "      <td>-2.571795</td>\n",
              "      <td>0.0</td>\n",
              "    </tr>\n",
              "    <tr>\n",
              "      <th>1</th>\n",
              "      <td>-2.105475</td>\n",
              "      <td>0.0</td>\n",
              "    </tr>\n",
              "    <tr>\n",
              "      <th>2</th>\n",
              "      <td>-1.981685</td>\n",
              "      <td>0.0</td>\n",
              "    </tr>\n",
              "    <tr>\n",
              "      <th>3</th>\n",
              "      <td>-1.862283</td>\n",
              "      <td>0.0</td>\n",
              "    </tr>\n",
              "    <tr>\n",
              "      <th>4</th>\n",
              "      <td>-1.803897</td>\n",
              "      <td>0.0</td>\n",
              "    </tr>\n",
              "  </tbody>\n",
              "</table>\n",
              "</div>"
            ],
            "text/plain": [
              "       data  relu\n",
              "0 -2.571795   0.0\n",
              "1 -2.105475   0.0\n",
              "2 -1.981685   0.0\n",
              "3 -1.862283   0.0\n",
              "4 -1.803897   0.0"
            ]
          },
          "metadata": {},
          "execution_count": 14
        }
      ]
    },
    {
      "cell_type": "code",
      "metadata": {
        "colab": {
          "base_uri": "https://localhost:8080/",
          "height": 517
        },
        "id": "TEZHVWDTLUov",
        "outputId": "41fa2221-e42b-43fa-875e-b3b6a03045fd"
      },
      "source": [
        "plt.figure(figsize=(10, 8))\n",
        "plt.plot(data['data'], data['relu'])\n",
        "plt.grid()\n",
        "plt.title('Funkcja aktywacji: ReLu')"
      ],
      "execution_count": 15,
      "outputs": [
        {
          "output_type": "execute_result",
          "data": {
            "text/plain": [
              "Text(0.5, 1.0, 'Funkcja aktywacji: ReLu')"
            ]
          },
          "metadata": {},
          "execution_count": 15
        },
        {
          "output_type": "display_data",
          "data": {
            "image/png": "[encoded data removed]",
            "text/plain": [
              "<Figure size 720x576 with 1 Axes>"
            ]
          },
          "metadata": {
            "needs_background": "light"
          }
        }
      ]
    },
    {
      "cell_type": "code",
      "metadata": {
        "colab": {
          "base_uri": "https://localhost:8080/",
          "height": 206
        },
        "id": "FMGJsrYhLcIY",
        "outputId": "abaa80a3-de18-4a3e-992c-32b1215f2df7"
      },
      "source": [
        "from tensorflow.keras.activations import tanh\n",
        "\n",
        "data = pd.DataFrame({'data': random_data, 'tanh': tanh(random_data)})\n",
        "data.head()"
      ],
      "execution_count": 16,
      "outputs": [
        {
          "output_type": "execute_result",
          "data": {
            "text/html": [
              "<div>\n",
              "<style scoped>\n",
              "    .dataframe tbody tr th:only-of-type {\n",
              "        vertical-align: middle;\n",
              "    }\n",
              "\n",
              "    .dataframe tbody tr th {\n",
              "        vertical-align: top;\n",
              "    }\n",
              "\n",
              "    .dataframe thead th {\n",
              "        text-align: right;\n",
              "    }\n",
              "</style>\n",
              "<table border=\"1\" class=\"dataframe\">\n",
              "  <thead>\n",
              "    <tr style=\"text-align: right;\">\n",
              "      <th></th>\n",
              "      <th>data</th>\n",
              "      <th>tanh</th>\n",
              "    </tr>\n",
              "  </thead>\n",
              "  <tbody>\n",
              "    <tr>\n",
              "      <th>0</th>\n",
              "      <td>-2.571795</td>\n",
              "      <td>-0.988394</td>\n",
              "    </tr>\n",
              "    <tr>\n",
              "      <th>1</th>\n",
              "      <td>-2.105475</td>\n",
              "      <td>-0.970769</td>\n",
              "    </tr>\n",
              "    <tr>\n",
              "      <th>2</th>\n",
              "      <td>-1.981685</td>\n",
              "      <td>-0.962711</td>\n",
              "    </tr>\n",
              "    <tr>\n",
              "      <th>3</th>\n",
              "      <td>-1.862283</td>\n",
              "      <td>-0.952889</td>\n",
              "    </tr>\n",
              "    <tr>\n",
              "      <th>4</th>\n",
              "      <td>-1.803897</td>\n",
              "      <td>-0.947208</td>\n",
              "    </tr>\n",
              "  </tbody>\n",
              "</table>\n",
              "</div>"
            ],
            "text/plain": [
              "       data      tanh\n",
              "0 -2.571795 -0.988394\n",
              "1 -2.105475 -0.970769\n",
              "2 -1.981685 -0.962711\n",
              "3 -1.862283 -0.952889\n",
              "4 -1.803897 -0.947208"
            ]
          },
          "metadata": {},
          "execution_count": 16
        }
      ]
    },
    {
      "cell_type": "code",
      "metadata": {
        "colab": {
          "base_uri": "https://localhost:8080/",
          "height": 517
        },
        "id": "CmFeyZ0ZLmXf",
        "outputId": "68f7a292-2b74-4e5b-fb32-d80ba44255f5"
      },
      "source": [
        "plt.figure(figsize=(10, 8))\n",
        "plt.plot(data['data'], data['tanh'])\n",
        "plt.grid()\n",
        "plt.title('Funkcja aktywacji: Tanh')"
      ],
      "execution_count": 17,
      "outputs": [
        {
          "output_type": "execute_result",
          "data": {
            "text/plain": [
              "Text(0.5, 1.0, 'Funkcja aktywacji: Tanh')"
            ]
          },
          "metadata": {},
          "execution_count": 17
        },
        {
          "output_type": "display_data",
          "data": {
            "image/png": "[encoded data removed]",
            "text/plain": [
              "<Figure size 720x576 with 1 Axes>"
            ]
          },
          "metadata": {
            "needs_background": "light"
          }
        }
      ]
    },
    {
      "cell_type": "code",
      "metadata": {
        "colab": {
          "base_uri": "https://localhost:8080/"
        },
        "id": "IT45gD6vLq7q",
        "outputId": "09763773-c123-40fb-bed6-b94268a80c62"
      },
      "source": [
        "model = Sequential()\n",
        "model.add(Dense(units=8, input_shape=(10,), activation='relu'))\n",
        "model.add(Dense(units=1, activation='sigmoid'))\n",
        "model.summary()"
      ],
      "execution_count": 19,
      "outputs": [
        {
          "output_type": "stream",
          "name": "stdout",
          "text": [
            "Model: \"sequential_1\"\n",
            "_________________________________________________________________\n",
            "Layer (type)                 Output Shape              Param #   \n",
            "=================================================================\n",
            "dense_3 (Dense)              (None, 8)                 88        \n",
            "_________________________________________________________________\n",
            "dense_4 (Dense)              (None, 1)                 9         \n",
            "=================================================================\n",
            "Total params: 97\n",
            "Trainable params: 97\n",
            "Non-trainable params: 0\n",
            "_________________________________________________________________\n"
          ]
        }
      ]
    },
    {
      "cell_type": "markdown",
      "metadata": {
        "id": "DfvST2DqM-bQ"
      },
      "source": [
        "### <a name='a2'></a>Kompilacja modelu\n",
        "Przed rozpoczęciem trenowania sieci należy odpowiednio skonfigurować proces uczenia. W tym kroku określamy:\n",
        "* rodzaj optymalizatora ([Keras - Optymalizatory](https://keras.io/optimizers/)) \n",
        "* funkcję straty ([Keras - Funkcje Straty](https://keras.io/losses/))\n",
        "* metryki, które będziemy obserwować podczas trenowania sieci ([Keras - Metryki](https://keras.io/metrics/))"
      ]
    },
    {
      "cell_type": "code",
      "metadata": {
        "id": "-_Hq5PysMjeL"
      },
      "source": [
        "#Klasyfikacja binarna\n",
        "model.compile(optimizer='rmsprop',\n",
        "              loss='binary_crossentropy',\n",
        "              metrics=['accuracy'])\n",
        "\n",
        "#Klasyfikacja wielkoklasow\n",
        "model.compile(optimizer='rmsprop',\n",
        "              loss='categorical_crossentropy',\n",
        "              metrics=['accuracy'])\n",
        "#Regresja\n",
        "model.compile(optimizer='rmsprop',\n",
        "              loss='mse')"
      ],
      "execution_count": 20,
      "outputs": []
    },
    {
      "cell_type": "markdown",
      "metadata": {
        "id": "sltvbCMXPN8S"
      },
      "source": [
        "### <a name='a3'></a>Trenowanie modelu\n",
        "Za dane wejściowe do modelu należy przekazać Numpy arrays:\n",
        "* **epochs** - krotność przejścia danych przez sieć w procesie uczenia\n",
        "* **batch_size** - rozmiar wsadu po którym następuje aktualizacja wag\n",
        "* **validation_split** - część danych treningowych, które zostaną wykorzystane jako zbiór walidacyjny\n",
        "* **validation_data** - (x_val, y_val) - dane wykorzystane do walidacji modelu"
      ]
    },
    {
      "cell_type": "code",
      "metadata": {
        "id": "ve_UokqSPHtY"
      },
      "source": [
        "# model.fit(data, labels, epochs=10, batch_size=32)\n",
        "# model.fit(data, labels, epochs=10, batch_size=32, validation_split=0.2)\n",
        "# model.fit(data, labels, epochs=10, batch_size=32, validation_data=(x_val, y_val))"
      ],
      "execution_count": null,
      "outputs": []
    },
    {
      "cell_type": "markdown",
      "metadata": {
        "id": "Qj58LEjVTxrK"
      },
      "source": [
        "### <a name='a4'></a> Przykład - klasyfikacja binarna"
      ]
    },
    {
      "cell_type": "code",
      "metadata": {
        "colab": {
          "base_uri": "https://localhost:8080/"
        },
        "id": "6VOebqu3Tvbv",
        "outputId": "7d2fa5d9-4b60-461f-dee9-3f6150d8ff68"
      },
      "source": [
        "data = np.random.randn(1000, 150)\n",
        "labels = np.random.randint(low=0, high=2, size=(1000, 1))\n",
        "\n",
        "print(data.shape)\n",
        "print(labels.shape)"
      ],
      "execution_count": 31,
      "outputs": [
        {
          "output_type": "stream",
          "name": "stdout",
          "text": [
            "(1000, 150)\n",
            "(1000, 1)\n"
          ]
        }
      ]
    },
    {
      "cell_type": "code",
      "metadata": {
        "colab": {
          "base_uri": "https://localhost:8080/"
        },
        "id": "Zb3_QorQUtkC",
        "outputId": "5ad6d5f7-8fd9-4e9f-fb83-b2d46871c78f"
      },
      "source": [
        "labels[:5]"
      ],
      "execution_count": 33,
      "outputs": [
        {
          "output_type": "execute_result",
          "data": {
            "text/plain": [
              "array([[0],\n",
              "       [0],\n",
              "       [1],\n",
              "       [1],\n",
              "       [0]])"
            ]
          },
          "metadata": {},
          "execution_count": 33
        }
      ]
    },
    {
      "cell_type": "code",
      "metadata": {
        "colab": {
          "base_uri": "https://localhost:8080/"
        },
        "id": "ISt06NIBUvwD",
        "outputId": "3c447449-423a-4e6f-d1fd-7a11247a52a6"
      },
      "source": [
        "model = Sequential()\n",
        "model.add(Dense(units=32, activation='relu', input_shape=(150,)))\n",
        "model.add(Dense(units=1, activation='sigmoid'))\n",
        "\n",
        "model.compile(optimizer='rmsprop',\n",
        "              loss='binary_crossentropy',\n",
        "              metrics='accuracy')\n",
        "\n",
        "model.fit(data, labels, epochs=20)"
      ],
      "execution_count": 36,
      "outputs": [
        {
          "output_type": "stream",
          "name": "stdout",
          "text": [
            "Epoch 1/20\n",
            "32/32 [==============================] - 1s 2ms/step - loss: 0.8164 - accuracy: 0.5040\n",
            "Epoch 2/20\n",
            "32/32 [==============================] - 0s 2ms/step - loss: 0.7283 - accuracy: 0.5540\n",
            "Epoch 3/20\n",
            "32/32 [==============================] - 0s 2ms/step - loss: 0.6809 - accuracy: 0.5880\n",
            "Epoch 4/20\n",
            "32/32 [==============================] - 0s 2ms/step - loss: 0.6431 - accuracy: 0.6420\n",
            "Epoch 5/20\n",
            "32/32 [==============================] - 0s 2ms/step - loss: 0.6102 - accuracy: 0.6860\n",
            "Epoch 6/20\n",
            "32/32 [==============================] - 0s 2ms/step - loss: 0.5834 - accuracy: 0.7110\n",
            "Epoch 7/20\n",
            "32/32 [==============================] - 0s 2ms/step - loss: 0.5574 - accuracy: 0.7350\n",
            "Epoch 8/20\n",
            "32/32 [==============================] - 0s 2ms/step - loss: 0.5327 - accuracy: 0.7740\n",
            "Epoch 9/20\n",
            "32/32 [==============================] - 0s 2ms/step - loss: 0.5099 - accuracy: 0.7920\n",
            "Epoch 10/20\n",
            "32/32 [==============================] - 0s 2ms/step - loss: 0.4875 - accuracy: 0.8070\n",
            "Epoch 11/20\n",
            "32/32 [==============================] - 0s 2ms/step - loss: 0.4652 - accuracy: 0.8320\n",
            "Epoch 12/20\n",
            "32/32 [==============================] - 0s 2ms/step - loss: 0.4443 - accuracy: 0.8430\n",
            "Epoch 13/20\n",
            "32/32 [==============================] - 0s 2ms/step - loss: 0.4238 - accuracy: 0.8550\n",
            "Epoch 14/20\n",
            "32/32 [==============================] - 0s 2ms/step - loss: 0.4030 - accuracy: 0.8770\n",
            "Epoch 15/20\n",
            "32/32 [==============================] - 0s 1ms/step - loss: 0.3832 - accuracy: 0.8840\n",
            "Epoch 16/20\n",
            "32/32 [==============================] - 0s 1ms/step - loss: 0.3617 - accuracy: 0.9060\n",
            "Epoch 17/20\n",
            "32/32 [==============================] - 0s 1ms/step - loss: 0.3417 - accuracy: 0.9320\n",
            "Epoch 18/20\n",
            "32/32 [==============================] - 0s 1ms/step - loss: 0.3219 - accuracy: 0.9360\n",
            "Epoch 19/20\n",
            "32/32 [==============================] - 0s 1ms/step - loss: 0.3013 - accuracy: 0.9440\n",
            "Epoch 20/20\n",
            "32/32 [==============================] - 0s 1ms/step - loss: 0.2806 - accuracy: 0.9620\n"
          ]
        },
        {
          "output_type": "execute_result",
          "data": {
            "text/plain": [
              "<keras.callbacks.History at 0x7f2f827a5fd0>"
            ]
          },
          "metadata": {},
          "execution_count": 36
        }
      ]
    },
    {
      "cell_type": "code",
      "metadata": {
        "id": "QvXmXfMaXlP4"
      },
      "source": [
        "model = Sequential()\n",
        "model.add(Dense(units=32, activation='relu', input_shape=(150,)))\n",
        "model.add(Dense(units=1, activation='sigmoid'))\n",
        "\n",
        "model.compile(optimizer='rmsprop',\n",
        "              loss='binary_crossentropy',\n",
        "              metrics='accuracy')\n",
        "\n",
        "history = model.fit(data, labels, epochs=20, batch_size=32, validation_split=0.2, verbose=0)"
      ],
      "execution_count": 37,
      "outputs": []
    },
    {
      "cell_type": "code",
      "metadata": {
        "colab": {
          "base_uri": "https://localhost:8080/"
        },
        "id": "tJeSCxicY-MU",
        "outputId": "bbbdb209-2531-4505-f6f9-6980b2153d41"
      },
      "source": [
        "metrics = history.history\n",
        "metrics.keys()"
      ],
      "execution_count": 38,
      "outputs": [
        {
          "output_type": "execute_result",
          "data": {
            "text/plain": [
              "dict_keys(['loss', 'accuracy', 'val_loss', 'val_accuracy'])"
            ]
          },
          "metadata": {},
          "execution_count": 38
        }
      ]
    },
    {
      "cell_type": "code",
      "metadata": {
        "id": "4mtSIOt_ZHOI"
      },
      "source": [
        "test_data = np.random.randn(5, 150)\n",
        "test_labels = np.random.randint(low=0, high=2, size=(5, 1))"
      ],
      "execution_count": 40,
      "outputs": []
    },
    {
      "cell_type": "code",
      "metadata": {
        "colab": {
          "base_uri": "https://localhost:8080/"
        },
        "id": "swM4j_6JZylB",
        "outputId": "819acc80-07fb-487f-9bba-7194a1ce8f6f"
      },
      "source": [
        "model.predict(test_data)"
      ],
      "execution_count": 41,
      "outputs": [
        {
          "output_type": "execute_result",
          "data": {
            "text/plain": [
              "array([[0.15053532],\n",
              "       [0.06433588],\n",
              "       [0.43285364],\n",
              "       [0.20470834],\n",
              "       [0.7487132 ]], dtype=float32)"
            ]
          },
          "metadata": {},
          "execution_count": 41
        }
      ]
    },
    {
      "cell_type": "code",
      "metadata": {
        "colab": {
          "base_uri": "https://localhost:8080/"
        },
        "id": "y0F7GJoVaGPP",
        "outputId": "de7a992e-e935-4a14-8cc4-beb47feedbe1"
      },
      "source": [
        "predict = model.predict(test_data) \n",
        "y_pred = (model.predict(test_data) > 0.5).astype(\"int32\")\n",
        "y_pred"
      ],
      "execution_count": 47,
      "outputs": [
        {
          "output_type": "execute_result",
          "data": {
            "text/plain": [
              "array([[0],\n",
              "       [0],\n",
              "       [0],\n",
              "       [0],\n",
              "       [1]], dtype=int32)"
            ]
          },
          "metadata": {},
          "execution_count": 47
        }
      ]
    },
    {
      "cell_type": "markdown",
      "metadata": {
        "id": "QU6lIMKReHLD"
      },
      "source": [
        "### <a name='a5'></a> Przykład - klasyfikacja wieloklasowa"
      ]
    },
    {
      "cell_type": "code",
      "metadata": {
        "colab": {
          "base_uri": "https://localhost:8080/"
        },
        "id": "t1jwcGO2bC6p",
        "outputId": "598c581c-e07c-4831-ae3d-59d1f69fa1a9"
      },
      "source": [
        "data = np.random.random((1000, 150))\n",
        "labels = np.random.randint(10, size=(1000, 1))\n",
        "\n",
        "print(data.shape)\n",
        "print(labels.shape)"
      ],
      "execution_count": 58,
      "outputs": [
        {
          "output_type": "stream",
          "name": "stdout",
          "text": [
            "(1000, 150)\n",
            "(1000, 1)\n"
          ]
        }
      ]
    },
    {
      "cell_type": "code",
      "metadata": {
        "colab": {
          "base_uri": "https://localhost:8080/"
        },
        "id": "xmMJEwfyegdo",
        "outputId": "c82bc683-d234-48a6-e95a-7c27431f1303"
      },
      "source": [
        "labels[:10]"
      ],
      "execution_count": 59,
      "outputs": [
        {
          "output_type": "execute_result",
          "data": {
            "text/plain": [
              "array([[8],\n",
              "       [0],\n",
              "       [2],\n",
              "       [5],\n",
              "       [9],\n",
              "       [9],\n",
              "       [2],\n",
              "       [6],\n",
              "       [8],\n",
              "       [3]])"
            ]
          },
          "metadata": {},
          "execution_count": 59
        }
      ]
    },
    {
      "cell_type": "code",
      "metadata": {
        "id": "7dcM3KBxeiws"
      },
      "source": [
        "from tensorflow.keras.utils import to_categorical\n",
        "\n",
        "labels = to_categorical(labels, num_classes=10)"
      ],
      "execution_count": 60,
      "outputs": []
    },
    {
      "cell_type": "code",
      "metadata": {
        "colab": {
          "base_uri": "https://localhost:8080/"
        },
        "id": "LyCMDM9ff3S1",
        "outputId": "535b7acc-3f7a-4a52-e76e-84f770e9413f"
      },
      "source": [
        "labels[2]"
      ],
      "execution_count": 62,
      "outputs": [
        {
          "output_type": "execute_result",
          "data": {
            "text/plain": [
              "array([0., 0., 1., 0., 0., 0., 0., 0., 0., 0.], dtype=float32)"
            ]
          },
          "metadata": {},
          "execution_count": 62
        }
      ]
    },
    {
      "cell_type": "code",
      "metadata": {
        "colab": {
          "base_uri": "https://localhost:8080/"
        },
        "id": "WTCk2jA6gKee",
        "outputId": "cf9e0bab-2e29-471d-de99-bf6c1c296234"
      },
      "source": [
        "model = Sequential()\n",
        "model.add(Dense(units=32, activation='relu', input_shape=(150,)))\n",
        "model.add(Dense(units=10, activation='softmax'))\n",
        "\n",
        "model.compile(optimizer='rmsprop',\n",
        "              loss='categorical_crossentropy',\n",
        "              metrics='accuracy')\n",
        "\n",
        "model.fit(data, labels, epochs=30, batch_size=32, validation_split=0.2, verbose=0)"
      ],
      "execution_count": 64,
      "outputs": [
        {
          "output_type": "execute_result",
          "data": {
            "text/plain": [
              "<keras.callbacks.History at 0x7f2f845b0a50>"
            ]
          },
          "metadata": {},
          "execution_count": 64
        }
      ]
    },
    {
      "cell_type": "code",
      "metadata": {
        "colab": {
          "base_uri": "https://localhost:8080/"
        },
        "id": "AmG9Xnz6hgk1",
        "outputId": "7454610c-46bf-4fab-fb60-08d9920e5376"
      },
      "source": [
        "test_data = np.random.random((10, 150))\n",
        "\n",
        "model.predict(test_data)"
      ],
      "execution_count": 65,
      "outputs": [
        {
          "output_type": "execute_result",
          "data": {
            "text/plain": [
              "array([[0.11734989, 0.11419853, 0.1265586 , 0.13978374, 0.06626949,\n",
              "        0.05326017, 0.15426704, 0.06887816, 0.10488389, 0.05455047],\n",
              "       [0.1555085 , 0.09843507, 0.03283737, 0.05430854, 0.07759918,\n",
              "        0.14067025, 0.15066281, 0.08985428, 0.11788688, 0.08223712],\n",
              "       [0.08985587, 0.0739902 , 0.10559099, 0.22577646, 0.06904604,\n",
              "        0.07818633, 0.09672291, 0.09859835, 0.09558969, 0.06664318],\n",
              "       [0.08475208, 0.10098455, 0.05105212, 0.03712294, 0.11720612,\n",
              "        0.10155641, 0.08751846, 0.09466086, 0.16285467, 0.16229182],\n",
              "       [0.14725897, 0.06764418, 0.11110202, 0.0987138 , 0.08289259,\n",
              "        0.14711861, 0.15878087, 0.06380325, 0.06934097, 0.05334474],\n",
              "       [0.08272806, 0.1668859 , 0.06796853, 0.11157883, 0.07267197,\n",
              "        0.06960492, 0.08752565, 0.06687541, 0.15551859, 0.11864214],\n",
              "       [0.17775525, 0.17828064, 0.03199613, 0.04446537, 0.07237136,\n",
              "        0.12404355, 0.08700669, 0.02929363, 0.1617533 , 0.09303413],\n",
              "       [0.09602901, 0.11993983, 0.08191947, 0.07034888, 0.12788904,\n",
              "        0.08528368, 0.07225621, 0.06130457, 0.15240209, 0.13262725],\n",
              "       [0.11744274, 0.04924461, 0.05192491, 0.03964752, 0.08670615,\n",
              "        0.0899123 , 0.10393028, 0.12257809, 0.06616359, 0.27244982],\n",
              "       [0.07676651, 0.08109144, 0.05988671, 0.04224081, 0.09770723,\n",
              "        0.07011639, 0.12910952, 0.10116167, 0.17180765, 0.17011207]],\n",
              "      dtype=float32)"
            ]
          },
          "metadata": {},
          "execution_count": 65
        }
      ]
    },
    {
      "cell_type": "code",
      "metadata": {
        "colab": {
          "base_uri": "https://localhost:8080/"
        },
        "id": "OJIQLgCNh-O_",
        "outputId": "1edd3924-9866-457b-c838-57e6e72893ec"
      },
      "source": [
        "predict_x=model.predict(test_data) \n",
        "y_pred=np.argmax(predict_x,axis=-1)\n",
        "y_pred"
      ],
      "execution_count": 67,
      "outputs": [
        {
          "output_type": "execute_result",
          "data": {
            "text/plain": [
              "array([6, 0, 3, 8, 6, 1, 1, 8, 9, 8])"
            ]
          },
          "metadata": {},
          "execution_count": 67
        }
      ]
    },
    {
      "cell_type": "markdown",
      "metadata": {
        "id": "zC05joobjTRC"
      },
      "source": [
        "### <a name='a6'></a> Przykład - regresja"
      ]
    },
    {
      "cell_type": "code",
      "metadata": {
        "colab": {
          "base_uri": "https://localhost:8080/"
        },
        "id": "w7ggVX2lillF",
        "outputId": "f60181c7-13e7-4deb-d133-654488c7209a"
      },
      "source": [
        "data = np.random.random((1000, 150))\n",
        "labels = 50 * np.random.random(1000)\n",
        "\n",
        "labels[:10]"
      ],
      "execution_count": 68,
      "outputs": [
        {
          "output_type": "execute_result",
          "data": {
            "text/plain": [
              "array([4.92828620e+01, 1.24290810e+01, 4.53931568e-02, 4.95894275e+00,\n",
              "       5.35892384e+00, 7.17187654e+00, 9.79463305e+00, 2.13635903e+01,\n",
              "       2.82276078e+01, 4.42378734e+01])"
            ]
          },
          "metadata": {},
          "execution_count": 68
        }
      ]
    },
    {
      "cell_type": "code",
      "metadata": {
        "colab": {
          "base_uri": "https://localhost:8080/"
        },
        "id": "QaYhxEGtj5qL",
        "outputId": "d232f468-0a06-44c7-d535-a0ebaabb4440"
      },
      "source": [
        "model = Sequential()\n",
        "model.add(Dense(units=32, activation='relu', input_shape=(150,)))\n",
        "model.add(Dense(units=1))\n",
        "\n",
        "model.compile(optimizer='rmsprop',\n",
        "              loss='mae',\n",
        "              metrics=['mse'])\n",
        "\n",
        "model.fit(data, labels, epochs=30, batch_size=32, validation_split=0.2, verbose=0)"
      ],
      "execution_count": 69,
      "outputs": [
        {
          "output_type": "execute_result",
          "data": {
            "text/plain": [
              "<keras.callbacks.History at 0x7f2f80cf2910>"
            ]
          },
          "metadata": {},
          "execution_count": 69
        }
      ]
    },
    {
      "cell_type": "code",
      "metadata": {
        "colab": {
          "base_uri": "https://localhost:8080/"
        },
        "id": "6mu6-vT3lQ9F",
        "outputId": "1a1a3f89-9fd6-43ef-b238-d7f85cc848b2"
      },
      "source": [
        "test_data = np.random.random((10, 150))\n",
        "model.predict(test_data)"
      ],
      "execution_count": 70,
      "outputs": [
        {
          "output_type": "execute_result",
          "data": {
            "text/plain": [
              "array([[20.716125],\n",
              "       [21.19965 ],\n",
              "       [21.384739],\n",
              "       [27.765696],\n",
              "       [26.684105],\n",
              "       [23.36717 ],\n",
              "       [22.73888 ],\n",
              "       [23.43208 ],\n",
              "       [23.553072],\n",
              "       [23.02868 ]], dtype=float32)"
            ]
          },
          "metadata": {},
          "execution_count": 70
        }
      ]
    }
  ]
}