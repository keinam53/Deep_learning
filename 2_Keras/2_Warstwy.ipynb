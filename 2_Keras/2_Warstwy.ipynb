{
  "nbformat": 4,
  "nbformat_minor": 0,
  "metadata": {
    "colab": {
      "name": "2_Warstwy.ipynb",
      "provenance": [],
      "authorship_tag": "ABX9TyNos5Bk+kF78yT+FKsCurLA",
      "include_colab_link": true
    },
    "kernelspec": {
      "name": "python3",
      "display_name": "Python 3"
    },
    "language_info": {
      "name": "python"
    }
  },
  "cells": [
    {
      "cell_type": "markdown",
      "metadata": {
        "id": "view-in-github",
        "colab_type": "text"
      },
      "source": [
        "<a href=\"https://colab.research.google.com/github/keinam53/Deep_learning/blob/main/2_Keras/2_Warstwy.ipynb\" target=\"_parent\"><img src=\"https://colab.research.google.com/assets/colab-badge.svg\" alt=\"Open In Colab\"/></a>"
      ]
    },
    {
      "cell_type": "markdown",
      "metadata": {
        "id": "CuXYnpcDuKns"
      },
      "source": [
        "### Warstwy w bibliotece Keras"
      ]
    },
    {
      "cell_type": "code",
      "metadata": {
        "id": "DKnRTPMJq_id"
      },
      "source": [
        "import numpy as np\n",
        "import pandas as pd\n",
        "import tensorflow as tf\n",
        "from tensorflow.keras.models import Sequential\n",
        "from tensorflow.keras.layers import Dense, Dropout, Flatten\n",
        "from tensorflow.keras.datasets.mnist import load_data"
      ],
      "execution_count": 1,
      "outputs": []
    },
    {
      "cell_type": "code",
      "metadata": {
        "colab": {
          "base_uri": "https://localhost:8080/"
        },
        "id": "ItqWol8wusyA",
        "outputId": "bf0244f6-f130-4b70-e6f9-1c9bb4a53099"
      },
      "source": [
        "(X_train, y_train), (X_test, y_test) = load_data()\n",
        "\n",
        "print(f'X_train shape: {X_train.shape}')\n",
        "print(f'y_train shape: {y_train.shape}')\n",
        "print(f'X_test shape: {X_test.shape}')\n",
        "print(f'y_test shape: {y_test.shape}')"
      ],
      "execution_count": 2,
      "outputs": [
        {
          "output_type": "stream",
          "name": "stdout",
          "text": [
            "X_train shape: (60000, 28, 28)\n",
            "y_train shape: (60000,)\n",
            "X_test shape: (10000, 28, 28)\n",
            "y_test shape: (10000,)\n"
          ]
        }
      ]
    },
    {
      "cell_type": "code",
      "metadata": {
        "id": "cYGUNkg5vL2P"
      },
      "source": [
        "X_train = X_train / 255\n",
        "X_test = X_test / 255"
      ],
      "execution_count": 3,
      "outputs": []
    },
    {
      "cell_type": "code",
      "metadata": {
        "colab": {
          "base_uri": "https://localhost:8080/"
        },
        "id": "bRsHuNTlveGX",
        "outputId": "aa1d740b-7bb0-4e3b-f481-dcec4f0db227"
      },
      "source": [
        "model = Sequential()\n",
        "model.add(Flatten(input_shape=(28, 28)))\n",
        "model.add(Dense(units=128, activation='relu'))\n",
        "model.add(Dropout(rate=0.2))\n",
        "model.add(Dense(units=10, activation='softmax'))\n",
        "\n",
        "model.compile(optimizer='adam',\n",
        "              loss='categorical_crossentropy',\n",
        "              metrics=['accuracy'])\n",
        "\n",
        "model.summary()"
      ],
      "execution_count": 4,
      "outputs": [
        {
          "output_type": "stream",
          "name": "stdout",
          "text": [
            "Model: \"sequential\"\n",
            "_________________________________________________________________\n",
            "Layer (type)                 Output Shape              Param #   \n",
            "=================================================================\n",
            "flatten (Flatten)            (None, 784)               0         \n",
            "_________________________________________________________________\n",
            "dense (Dense)                (None, 128)               100480    \n",
            "_________________________________________________________________\n",
            "dropout (Dropout)            (None, 128)               0         \n",
            "_________________________________________________________________\n",
            "dense_1 (Dense)              (None, 10)                1290      \n",
            "=================================================================\n",
            "Total params: 101,770\n",
            "Trainable params: 101,770\n",
            "Non-trainable params: 0\n",
            "_________________________________________________________________\n"
          ]
        }
      ]
    },
    {
      "cell_type": "code",
      "metadata": {
        "colab": {
          "base_uri": "https://localhost:8080/"
        },
        "id": "L4dmsc8MvtnP",
        "outputId": "d5a2e987-33ad-44a2-e475-dfdf6fa92c5a"
      },
      "source": [
        "from tensorflow.keras.utils import to_categorical\n",
        "\n",
        "y_train = to_categorical(y=y_train, num_classes=10)\n",
        "y_train[:3]"
      ],
      "execution_count": 5,
      "outputs": [
        {
          "output_type": "execute_result",
          "data": {
            "text/plain": [
              "array([[0., 0., 0., 0., 0., 1., 0., 0., 0., 0.],\n",
              "       [1., 0., 0., 0., 0., 0., 0., 0., 0., 0.],\n",
              "       [0., 0., 0., 0., 1., 0., 0., 0., 0., 0.]], dtype=float32)"
            ]
          },
          "metadata": {},
          "execution_count": 5
        }
      ]
    },
    {
      "cell_type": "code",
      "metadata": {
        "colab": {
          "base_uri": "https://localhost:8080/"
        },
        "id": "95xWeDY1yEnv",
        "outputId": "2ec68c9c-7984-4ec0-a3a2-dd09116d8f9e"
      },
      "source": [
        "model.fit(x=X_train, y=y_train, epochs=10, validation_split=0.2, batch_size=32)"
      ],
      "execution_count": 6,
      "outputs": [
        {
          "output_type": "stream",
          "name": "stdout",
          "text": [
            "Epoch 1/10\n",
            "1500/1500 [==============================] - 5s 3ms/step - loss: 0.3246 - accuracy: 0.9054 - val_loss: 0.1563 - val_accuracy: 0.9564\n",
            "Epoch 2/10\n",
            "1500/1500 [==============================] - 4s 2ms/step - loss: 0.1582 - accuracy: 0.9530 - val_loss: 0.1144 - val_accuracy: 0.9668\n",
            "Epoch 3/10\n",
            "1500/1500 [==============================] - 4s 2ms/step - loss: 0.1164 - accuracy: 0.9642 - val_loss: 0.1037 - val_accuracy: 0.9689\n",
            "Epoch 4/10\n",
            "1500/1500 [==============================] - 4s 3ms/step - loss: 0.0964 - accuracy: 0.9705 - val_loss: 0.0869 - val_accuracy: 0.9738\n",
            "Epoch 5/10\n",
            "1500/1500 [==============================] - 4s 3ms/step - loss: 0.0788 - accuracy: 0.9753 - val_loss: 0.0857 - val_accuracy: 0.9746\n",
            "Epoch 6/10\n",
            "1500/1500 [==============================] - 4s 3ms/step - loss: 0.0705 - accuracy: 0.9781 - val_loss: 0.0851 - val_accuracy: 0.9752\n",
            "Epoch 7/10\n",
            "1500/1500 [==============================] - 4s 3ms/step - loss: 0.0605 - accuracy: 0.9798 - val_loss: 0.0759 - val_accuracy: 0.9781\n",
            "Epoch 8/10\n",
            "1500/1500 [==============================] - 4s 3ms/step - loss: 0.0536 - accuracy: 0.9824 - val_loss: 0.0791 - val_accuracy: 0.9777\n",
            "Epoch 9/10\n",
            "1500/1500 [==============================] - 4s 3ms/step - loss: 0.0500 - accuracy: 0.9832 - val_loss: 0.0764 - val_accuracy: 0.9788\n",
            "Epoch 10/10\n",
            "1500/1500 [==============================] - 4s 3ms/step - loss: 0.0432 - accuracy: 0.9861 - val_loss: 0.0731 - val_accuracy: 0.9793\n"
          ]
        },
        {
          "output_type": "execute_result",
          "data": {
            "text/plain": [
              "<keras.callbacks.History at 0x7ff2a6eba250>"
            ]
          },
          "metadata": {},
          "execution_count": 6
        }
      ]
    },
    {
      "cell_type": "markdown",
      "metadata": {
        "id": "SwmQttZd2YJe"
      },
      "source": [
        "### Model"
      ]
    },
    {
      "cell_type": "code",
      "metadata": {
        "colab": {
          "base_uri": "https://localhost:8080/"
        },
        "id": "nntHChG0yr64",
        "outputId": "b4bcf1fc-5548-4a17-a33a-633e7806ab9a"
      },
      "source": [
        "#Lista warstw modelu\n",
        "model.layers"
      ],
      "execution_count": 7,
      "outputs": [
        {
          "output_type": "execute_result",
          "data": {
            "text/plain": [
              "[<keras.layers.core.Flatten at 0x7ff2aa95f5d0>,\n",
              " <keras.layers.core.Dense at 0x7ff2aa95f890>,\n",
              " <keras.layers.core.Dropout at 0x7ff2f8c7da90>,\n",
              " <keras.layers.core.Dense at 0x7ff2aa919d10>]"
            ]
          },
          "metadata": {},
          "execution_count": 7
        }
      ]
    },
    {
      "cell_type": "code",
      "metadata": {
        "colab": {
          "base_uri": "https://localhost:8080/"
        },
        "id": "0_BLkoYL2dlD",
        "outputId": "c705f5bf-723c-420c-863f-33a778d62cf2"
      },
      "source": [
        "#Lista tensorów wejściowych\n",
        "model.inputs"
      ],
      "execution_count": 8,
      "outputs": [
        {
          "output_type": "execute_result",
          "data": {
            "text/plain": [
              "[<KerasTensor: shape=(None, 28, 28) dtype=float32 (created by layer 'flatten_input')>]"
            ]
          },
          "metadata": {},
          "execution_count": 8
        }
      ]
    },
    {
      "cell_type": "code",
      "metadata": {
        "colab": {
          "base_uri": "https://localhost:8080/"
        },
        "id": "aN-mOhyU3k2k",
        "outputId": "db3d3262-6f5e-4f5b-e969-adfa2afa86ac"
      },
      "source": [
        "#Lista tensorów wyjściowych\n",
        "model.outputs"
      ],
      "execution_count": 9,
      "outputs": [
        {
          "output_type": "execute_result",
          "data": {
            "text/plain": [
              "[<KerasTensor: shape=(None, 10) dtype=float32 (created by layer 'dense_1')>]"
            ]
          },
          "metadata": {},
          "execution_count": 9
        }
      ]
    },
    {
      "cell_type": "code",
      "metadata": {
        "colab": {
          "base_uri": "https://localhost:8080/"
        },
        "id": "8-PLytcQ3tFZ",
        "outputId": "e63019e6-b6eb-41ff-963e-2b5c98ff19e8"
      },
      "source": [
        "#słownik zawierający konfigurację\n",
        "model.get_config()"
      ],
      "execution_count": 10,
      "outputs": [
        {
          "output_type": "execute_result",
          "data": {
            "text/plain": [
              "{'layers': [{'class_name': 'InputLayer',\n",
              "   'config': {'batch_input_shape': (None, 28, 28),\n",
              "    'dtype': 'float32',\n",
              "    'name': 'flatten_input',\n",
              "    'ragged': False,\n",
              "    'sparse': False}},\n",
              "  {'class_name': 'Flatten',\n",
              "   'config': {'batch_input_shape': (None, 28, 28),\n",
              "    'data_format': 'channels_last',\n",
              "    'dtype': 'float32',\n",
              "    'name': 'flatten',\n",
              "    'trainable': True}},\n",
              "  {'class_name': 'Dense',\n",
              "   'config': {'activation': 'relu',\n",
              "    'activity_regularizer': None,\n",
              "    'bias_constraint': None,\n",
              "    'bias_initializer': {'class_name': 'Zeros', 'config': {}},\n",
              "    'bias_regularizer': None,\n",
              "    'dtype': 'float32',\n",
              "    'kernel_constraint': None,\n",
              "    'kernel_initializer': {'class_name': 'GlorotUniform',\n",
              "     'config': {'seed': None}},\n",
              "    'kernel_regularizer': None,\n",
              "    'name': 'dense',\n",
              "    'trainable': True,\n",
              "    'units': 128,\n",
              "    'use_bias': True}},\n",
              "  {'class_name': 'Dropout',\n",
              "   'config': {'dtype': 'float32',\n",
              "    'name': 'dropout',\n",
              "    'noise_shape': None,\n",
              "    'rate': 0.2,\n",
              "    'seed': None,\n",
              "    'trainable': True}},\n",
              "  {'class_name': 'Dense',\n",
              "   'config': {'activation': 'softmax',\n",
              "    'activity_regularizer': None,\n",
              "    'bias_constraint': None,\n",
              "    'bias_initializer': {'class_name': 'Zeros', 'config': {}},\n",
              "    'bias_regularizer': None,\n",
              "    'dtype': 'float32',\n",
              "    'kernel_constraint': None,\n",
              "    'kernel_initializer': {'class_name': 'GlorotUniform',\n",
              "     'config': {'seed': None}},\n",
              "    'kernel_regularizer': None,\n",
              "    'name': 'dense_1',\n",
              "    'trainable': True,\n",
              "    'units': 10,\n",
              "    'use_bias': True}}],\n",
              " 'name': 'sequential'}"
            ]
          },
          "metadata": {},
          "execution_count": 10
        }
      ]
    },
    {
      "cell_type": "code",
      "metadata": {
        "colab": {
          "base_uri": "https://localhost:8080/"
        },
        "id": "Df8h8xlI33Ah",
        "outputId": "921a9f7b-0d7c-4e16-866c-3b97a1dc51dc"
      },
      "source": [
        "#Kształt wag wszystkich tensorów\n",
        "print(f'{model.get_weights()[0].shape}')\n",
        "print(f'{model.get_weights()[1].shape}')\n",
        "print(f'{model.get_weights()[2].shape}')\n",
        "print(f'{model.get_weights()[3].shape}')"
      ],
      "execution_count": 11,
      "outputs": [
        {
          "output_type": "stream",
          "name": "stdout",
          "text": [
            "(784, 128)\n",
            "(128,)\n",
            "(128, 10)\n",
            "(10,)\n"
          ]
        }
      ]
    },
    {
      "cell_type": "markdown",
      "metadata": {
        "id": "3C-lGvdZ5GoX"
      },
      "source": [
        "### *to_json()*"
      ]
    },
    {
      "cell_type": "code",
      "metadata": {
        "id": "cFn09ZkR4VzS"
      },
      "source": [
        "import json\n",
        "\n",
        "model_json = model.to_json()\n",
        "parsed = json.loads(model_json)\n",
        "# print(json.dumps(parsed, indent=4))"
      ],
      "execution_count": 12,
      "outputs": []
    },
    {
      "cell_type": "code",
      "metadata": {
        "colab": {
          "base_uri": "https://localhost:8080/"
        },
        "id": "exZNxK1Y5voL",
        "outputId": "77bbc5d9-a917-4c2b-d358-07019631ff0c"
      },
      "source": [
        "from tensorflow.keras.models import model_from_json\n",
        "\n",
        "model_2 = model_from_json(model_json)\n",
        "model_2.summary()"
      ],
      "execution_count": 13,
      "outputs": [
        {
          "output_type": "stream",
          "name": "stdout",
          "text": [
            "Model: \"sequential\"\n",
            "_________________________________________________________________\n",
            "Layer (type)                 Output Shape              Param #   \n",
            "=================================================================\n",
            "flatten (Flatten)            (None, 784)               0         \n",
            "_________________________________________________________________\n",
            "dense (Dense)                (None, 128)               100480    \n",
            "_________________________________________________________________\n",
            "dropout (Dropout)            (None, 128)               0         \n",
            "_________________________________________________________________\n",
            "dense_1 (Dense)              (None, 10)                1290      \n",
            "=================================================================\n",
            "Total params: 101,770\n",
            "Trainable params: 101,770\n",
            "Non-trainable params: 0\n",
            "_________________________________________________________________\n"
          ]
        }
      ]
    },
    {
      "cell_type": "markdown",
      "metadata": {
        "id": "K8kvrXSf7nNl"
      },
      "source": [
        "### Warstwy"
      ]
    },
    {
      "cell_type": "code",
      "metadata": {
        "colab": {
          "base_uri": "https://localhost:8080/"
        },
        "id": "KMiUTMrs6xgw",
        "outputId": "d50abdeb-d6e0-4b57-9247-706798d53610"
      },
      "source": [
        "dense_layer = model.layers[1]\n",
        "dense_layer"
      ],
      "execution_count": 14,
      "outputs": [
        {
          "output_type": "execute_result",
          "data": {
            "text/plain": [
              "<keras.layers.core.Dense at 0x7ff2aa95f890>"
            ]
          },
          "metadata": {},
          "execution_count": 14
        }
      ]
    },
    {
      "cell_type": "code",
      "metadata": {
        "colab": {
          "base_uri": "https://localhost:8080/"
        },
        "id": "Nj7Cr2PmBDuM",
        "outputId": "11af240a-5572-446c-ddee-c58cbda1bf50"
      },
      "source": [
        "print(f'{dense_layer.input}')\n",
        "print(f'{dense_layer.input_shape}')"
      ],
      "execution_count": 17,
      "outputs": [
        {
          "output_type": "stream",
          "name": "stdout",
          "text": [
            "KerasTensor(type_spec=TensorSpec(shape=(None, 784), dtype=tf.float32, name=None), name='flatten/Reshape:0', description=\"created by layer 'flatten'\")\n",
            "(None, 784)\n"
          ]
        }
      ]
    },
    {
      "cell_type": "code",
      "metadata": {
        "colab": {
          "base_uri": "https://localhost:8080/"
        },
        "id": "lSqLpLOQBPpu",
        "outputId": "e1ea36fd-1ecf-4a34-a2a0-43b846027faf"
      },
      "source": [
        "print(f'{dense_layer.output}')\n",
        "print(f'{dense_layer.output_shape}')"
      ],
      "execution_count": 18,
      "outputs": [
        {
          "output_type": "stream",
          "name": "stdout",
          "text": [
            "KerasTensor(type_spec=TensorSpec(shape=(None, 128), dtype=tf.float32, name=None), name='dense/Relu:0', description=\"created by layer 'dense'\")\n",
            "(None, 128)\n"
          ]
        }
      ]
    },
    {
      "cell_type": "code",
      "metadata": {
        "colab": {
          "base_uri": "https://localhost:8080/"
        },
        "id": "Uu8Byv_AByWV",
        "outputId": "115fc91c-daa4-427a-a09f-484ceb687901"
      },
      "source": [
        "dense_layer.trainable"
      ],
      "execution_count": 19,
      "outputs": [
        {
          "output_type": "execute_result",
          "data": {
            "text/plain": [
              "True"
            ]
          },
          "metadata": {},
          "execution_count": 19
        }
      ]
    },
    {
      "cell_type": "markdown",
      "metadata": {
        "id": "dK1uYqp1CUVl"
      },
      "source": [
        "### Podstawowe rodzaje warstw\n",
        "* **Dense** - warstwa gęsto połączona, wynik operacji $output = activation(dot(input, weights) + bias)$\n",
        "* **Activation** - stosuje funkcję aktywacji\n",
        "* **Dropout** - porzuca wskazaną część neuronów w warstwie\n",
        "* **Flatten** - wypłaszcza dane wejściowe\n",
        "* **Input** - warstwa wejściowa, parametr *shape* określa rozmiar danych wejściowych"
      ]
    },
    {
      "cell_type": "code",
      "metadata": {
        "colab": {
          "base_uri": "https://localhost:8080/"
        },
        "id": "HVjTf2QwCRIT",
        "outputId": "2b7eabd3-b0fc-4169-bf13-63227c8c8b91"
      },
      "source": [
        "from tensorflow.keras.layers import Dense\n",
        "\n",
        "dense = Dense(units=1, activation='relu')\n",
        "dense"
      ],
      "execution_count": 20,
      "outputs": [
        {
          "output_type": "execute_result",
          "data": {
            "text/plain": [
              "<keras.layers.core.Dense at 0x7ff2a0122e90>"
            ]
          },
          "metadata": {},
          "execution_count": 20
        }
      ]
    },
    {
      "cell_type": "code",
      "metadata": {
        "colab": {
          "base_uri": "https://localhost:8080/"
        },
        "id": "cG1QFxqyER4B",
        "outputId": "a61ef7b4-94de-470e-fd00-cc007c7e37a3"
      },
      "source": [
        "from tensorflow.keras.layers import Activation\n",
        "\n",
        "activation = Activation(activation='relu')\n",
        "activation"
      ],
      "execution_count": 21,
      "outputs": [
        {
          "output_type": "execute_result",
          "data": {
            "text/plain": [
              "<keras.layers.core.Activation at 0x7ff2a02e4b90>"
            ]
          },
          "metadata": {},
          "execution_count": 21
        }
      ]
    },
    {
      "cell_type": "code",
      "metadata": {
        "colab": {
          "base_uri": "https://localhost:8080/"
        },
        "id": "LA54suzfEgju",
        "outputId": "1efb9b96-a371-409f-e3d6-a4c0680a6ddd"
      },
      "source": [
        "from tensorflow.keras.layers import Dropout\n",
        "\n",
        "dropout = Dropout(rate=0.3)\n",
        "dropout"
      ],
      "execution_count": 22,
      "outputs": [
        {
          "output_type": "execute_result",
          "data": {
            "text/plain": [
              "<keras.layers.core.Dropout at 0x7ff2a6f76250>"
            ]
          },
          "metadata": {},
          "execution_count": 22
        }
      ]
    },
    {
      "cell_type": "code",
      "metadata": {
        "colab": {
          "base_uri": "https://localhost:8080/"
        },
        "id": "Ybaw_dH3Eqn5",
        "outputId": "1cc19d65-21d5-4599-c599-e079ec62ae31"
      },
      "source": [
        "from tensorflow.keras.layers import Flatten\n",
        "\n",
        "flatten = Flatten()\n",
        "flatten"
      ],
      "execution_count": 23,
      "outputs": [
        {
          "output_type": "execute_result",
          "data": {
            "text/plain": [
              "<keras.layers.core.Flatten at 0x7ff2a6f0d090>"
            ]
          },
          "metadata": {},
          "execution_count": 23
        }
      ]
    },
    {
      "cell_type": "code",
      "metadata": {
        "colab": {
          "base_uri": "https://localhost:8080/"
        },
        "id": "k6S-7HPzEyuS",
        "outputId": "424ead0b-d0b7-4162-ebd7-29a256b4410a"
      },
      "source": [
        "from tensorflow.keras.layers import Input\n",
        "\n",
        "input = Input(shape=(150,))\n",
        "input"
      ],
      "execution_count": 24,
      "outputs": [
        {
          "output_type": "execute_result",
          "data": {
            "text/plain": [
              "<KerasTensor: shape=(None, 150) dtype=float32 (created by layer 'input_1')>"
            ]
          },
          "metadata": {},
          "execution_count": 24
        }
      ]
    },
    {
      "cell_type": "markdown",
      "metadata": {
        "id": "nEb738Q8Fddp"
      },
      "source": [
        "### Warstwy konwolucyjne + max pooling\n",
        "* **Conv1D** - 1D warstwa konwolucyjna\n",
        "* **Conv2D** - 2D warstwa konwolucyjna\n",
        "* **MaxPooling1D** - operacja max pooling 1D\n",
        "* **MaxPooling2D** - operacja max pooling 2D"
      ]
    },
    {
      "cell_type": "code",
      "metadata": {
        "colab": {
          "base_uri": "https://localhost:8080/"
        },
        "id": "2zS0HtslE_4A",
        "outputId": "d914d851-424d-4824-aa18-b4fb2efd37e1"
      },
      "source": [
        "from tensorflow.keras.layers import Conv1D\n",
        "\n",
        "# filters - liczba filtrów zastosowana na etapie konwolucji\n",
        "# kernel_size - długość okna konwolucji\n",
        "conv1d = Conv1D(filters=64, kernel_size=3)\n",
        "conv1d"
      ],
      "execution_count": 25,
      "outputs": [
        {
          "output_type": "execute_result",
          "data": {
            "text/plain": [
              "<keras.layers.convolutional.Conv1D at 0x7ff2a66ca110>"
            ]
          },
          "metadata": {},
          "execution_count": 25
        }
      ]
    },
    {
      "cell_type": "code",
      "metadata": {
        "colab": {
          "base_uri": "https://localhost:8080/"
        },
        "id": "5lm5ZLyMRBMM",
        "outputId": "ba860a7c-3fc6-40a8-9c66-b69271235955"
      },
      "source": [
        "from tensorflow.keras.layers import Conv2D\n",
        "\n",
        "# filters - liczba filtrów zastosowana na etapie konwolucji\n",
        "# kernel_size - wielkość okna konwolucji\n",
        "conv2d = Conv2D(filters=64, kernel_size=(3, 3))\n",
        "conv2d"
      ],
      "execution_count": 26,
      "outputs": [
        {
          "output_type": "execute_result",
          "data": {
            "text/plain": [
              "<keras.layers.convolutional.Conv2D at 0x7ff2bbec2e50>"
            ]
          },
          "metadata": {},
          "execution_count": 26
        }
      ]
    },
    {
      "cell_type": "code",
      "metadata": {
        "colab": {
          "base_uri": "https://localhost:8080/"
        },
        "id": "qkP1icRRRDS5",
        "outputId": "6240d3e7-a7ec-4bbb-e5cf-dbceb4eb6cdb"
      },
      "source": [
        "from tensorflow.keras.layers import MaxPooling1D\n",
        "\n",
        "# pool_size - rozmiar okna max pooling\n",
        "maxpooling1d = MaxPooling1D(pool_size=2)\n",
        "maxpooling1d"
      ],
      "execution_count": 27,
      "outputs": [
        {
          "output_type": "execute_result",
          "data": {
            "text/plain": [
              "<keras.layers.pooling.MaxPooling1D at 0x7ff2a00de750>"
            ]
          },
          "metadata": {},
          "execution_count": 27
        }
      ]
    },
    {
      "cell_type": "code",
      "metadata": {
        "colab": {
          "base_uri": "https://localhost:8080/"
        },
        "id": "gWFLXSd9RFOd",
        "outputId": "d3180400-acb0-4afa-cc1f-410f12df6c51"
      },
      "source": [
        "from tensorflow.keras.layers import MaxPooling2D\n",
        "\n",
        "# pool_size - rozmiar okna max pooling\n",
        "maxpooling2d = MaxPooling2D(pool_size=(2, 2))\n",
        "maxpooling2d"
      ],
      "execution_count": 28,
      "outputs": [
        {
          "output_type": "execute_result",
          "data": {
            "text/plain": [
              "<keras.layers.pooling.MaxPooling2D at 0x7ff2a6e47110>"
            ]
          },
          "metadata": {},
          "execution_count": 28
        }
      ]
    },
    {
      "cell_type": "markdown",
      "metadata": {
        "id": "UxaLuSCYROF4"
      },
      "source": [
        "### Warstwy rekurencyjne\n",
        "* **RNN** - bazowa warstwa rekurencyjna\n",
        "* **SimpleRNN** - w pełni połączona warstwa rekurencyjna\n",
        "* **LSTM** - Long-Short-Term Memory"
      ]
    },
    {
      "cell_type": "code",
      "metadata": {
        "id": "4-UjCpJARHtF"
      },
      "source": [
        "from tensorflow.keras.layers import RNN\n",
        "from tensorflow.keras.layers import SimpleRNN\n",
        "from tensorflow.keras.layers import LSTM"
      ],
      "execution_count": 29,
      "outputs": []
    },
    {
      "cell_type": "markdown",
      "metadata": {
        "id": "CbYTMrH1RTmH"
      },
      "source": [
        "### Warstwa osadzeń\n",
        "* **Embedding** - warstwa osadzeń, przekształca wartości całkowite na gęste wektory osadzeń. Stosowana tylko jako pierwsza warstwa modelu"
      ]
    },
    {
      "cell_type": "code",
      "metadata": {
        "id": "YTbCEtwrRROe"
      },
      "source": [
        "from tensorflow.keras.layers import Embedding\n",
        "\n",
        "# input_dim - rozmiar słownika, maksymalny indeks w słowniku + 1\n",
        "# output_dim - wymiar osazdenia\n",
        "# input_length - długość sekwencji, jeśli jest stała\n",
        "embedding = Embedding(input_dim=1000, output_dim=64, input_length=10)"
      ],
      "execution_count": 30,
      "outputs": []
    }
  ]
}