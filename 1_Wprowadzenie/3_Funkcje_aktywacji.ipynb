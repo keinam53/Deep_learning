{
  "nbformat": 4,
  "nbformat_minor": 0,
  "metadata": {
    "colab": {
      "name": "3_Funkcje_aktywacji.ipynb",
      "provenance": [],
      "authorship_tag": "ABX9TyNNOUnennh+igZ8nE9QFPOF",
      "include_colab_link": true
    },
    "kernelspec": {
      "name": "python3",
      "display_name": "Python 3"
    },
    "language_info": {
      "name": "python"
    }
  },
  "cells": [
    {
      "cell_type": "markdown",
      "metadata": {
        "id": "view-in-github",
        "colab_type": "text"
      },
      "source": [
        "<a href=\"https://colab.research.google.com/github/keinam53/Deep_learning/blob/main/1_Wprowadzenie/3_Funkcje_aktywacji.ipynb\" target=\"_parent\"><img src=\"https://colab.research.google.com/assets/colab-badge.svg\" alt=\"Open In Colab\"/></a>"
      ]
    },
    {
      "cell_type": "markdown",
      "metadata": {
        "id": "tKtZbHAxxAGI"
      },
      "source": [
        "###Funkcje aktywacji\n",
        "2. [ReLU Function - Rectified Linear Unit](#a2)\n",
        "3. [Funkcja Sigmoid](#a3)\n",
        "4. [Tanh Function](#a4)\n",
        "5. [Funkcja Softmax](#a5)"
      ]
    },
    {
      "cell_type": "markdown",
      "metadata": {
        "id": "AEUnTS8GxaJe"
      },
      "source": [
        "#### <a name='a1'></a> 1. Import bibliotek"
      ]
    },
    {
      "cell_type": "code",
      "metadata": {
        "id": "Aa0kYQo5pgMU"
      },
      "source": [
        " import pandas as pd\n",
        " import numpy as np\n",
        " import matplotlib.pyplot as plt\n",
        " from math import exp\n",
        " np.set_printoptions(precision=6)"
      ],
      "execution_count": 1,
      "outputs": []
    },
    {
      "cell_type": "markdown",
      "metadata": {
        "id": "1IOlK6W-xkue"
      },
      "source": [
        "#### <a name='a2'></a> 2. ReLU Function - Rectified Linear Unit\n",
        "####     $$f(x) = max(x, 0)$$\n"
      ]
    },
    {
      "cell_type": "code",
      "metadata": {
        "id": "r-r72u4Hyaye"
      },
      "source": [
        "def max_relu(x):\n",
        "    return max(x, 0)"
      ],
      "execution_count": 2,
      "outputs": []
    },
    {
      "cell_type": "code",
      "metadata": {
        "colab": {
          "base_uri": "https://localhost:8080/"
        },
        "id": "Z2Pu4WcfzLA4",
        "outputId": "ed7a8be4-2a9b-4078-e1e6-e5866b19bd52"
      },
      "source": [
        "for i in [-10, -5, 0, 5, 10]:\n",
        "    print(max_relu(i))"
      ],
      "execution_count": 3,
      "outputs": [
        {
          "output_type": "stream",
          "name": "stdout",
          "text": [
            "0\n",
            "0\n",
            "0\n",
            "5\n",
            "10\n"
          ]
        }
      ]
    },
    {
      "cell_type": "code",
      "metadata": {
        "colab": {
          "base_uri": "https://localhost:8080/"
        },
        "id": "p_kSsoSUz9RE",
        "outputId": "740a1902-8dea-4018-9a53-5ee2833ee39a"
      },
      "source": [
        "data = np.random.randn(50)\n",
        "data = sorted(data)\n",
        "data[:20]"
      ],
      "execution_count": 4,
      "outputs": [
        {
          "output_type": "execute_result",
          "data": {
            "text/plain": [
              "[-2.7751363194098384,\n",
              " -1.6718070455697118,\n",
              " -1.420361635299135,\n",
              " -1.3533572906356661,\n",
              " -1.3058685288954557,\n",
              " -1.1891659499646852,\n",
              " -1.1645162344426825,\n",
              " -0.999088327577617,\n",
              " -0.9972704723683155,\n",
              " -0.9796048353481132,\n",
              " -0.9547805849661025,\n",
              " -0.7043133329517653,\n",
              " -0.6805707513168231,\n",
              " -0.5681584951097666,\n",
              " -0.5140660424463072,\n",
              " -0.48012009820114787,\n",
              " -0.47153871352794985,\n",
              " -0.4699891959522388,\n",
              " -0.31217249178006085,\n",
              " -0.23679440359643136]"
            ]
          },
          "metadata": {},
          "execution_count": 4
        }
      ]
    },
    {
      "cell_type": "code",
      "metadata": {
        "colab": {
          "base_uri": "https://localhost:8080/",
          "height": 206
        },
        "id": "H_JNEofy0amQ",
        "outputId": "6c8dd1cd-f9fb-42f2-a8c2-c0d60d62a545"
      },
      "source": [
        "relu_data = np.array([max_relu(x) for x in data])\n",
        "df = pd.DataFrame({'data' : data, 'relu' : relu_data})\n",
        "df.head()"
      ],
      "execution_count": 5,
      "outputs": [
        {
          "output_type": "execute_result",
          "data": {
            "text/html": [
              "<div>\n",
              "<style scoped>\n",
              "    .dataframe tbody tr th:only-of-type {\n",
              "        vertical-align: middle;\n",
              "    }\n",
              "\n",
              "    .dataframe tbody tr th {\n",
              "        vertical-align: top;\n",
              "    }\n",
              "\n",
              "    .dataframe thead th {\n",
              "        text-align: right;\n",
              "    }\n",
              "</style>\n",
              "<table border=\"1\" class=\"dataframe\">\n",
              "  <thead>\n",
              "    <tr style=\"text-align: right;\">\n",
              "      <th></th>\n",
              "      <th>data</th>\n",
              "      <th>relu</th>\n",
              "    </tr>\n",
              "  </thead>\n",
              "  <tbody>\n",
              "    <tr>\n",
              "      <th>0</th>\n",
              "      <td>-2.775136</td>\n",
              "      <td>0.0</td>\n",
              "    </tr>\n",
              "    <tr>\n",
              "      <th>1</th>\n",
              "      <td>-1.671807</td>\n",
              "      <td>0.0</td>\n",
              "    </tr>\n",
              "    <tr>\n",
              "      <th>2</th>\n",
              "      <td>-1.420362</td>\n",
              "      <td>0.0</td>\n",
              "    </tr>\n",
              "    <tr>\n",
              "      <th>3</th>\n",
              "      <td>-1.353357</td>\n",
              "      <td>0.0</td>\n",
              "    </tr>\n",
              "    <tr>\n",
              "      <th>4</th>\n",
              "      <td>-1.305869</td>\n",
              "      <td>0.0</td>\n",
              "    </tr>\n",
              "  </tbody>\n",
              "</table>\n",
              "</div>"
            ],
            "text/plain": [
              "       data  relu\n",
              "0 -2.775136   0.0\n",
              "1 -1.671807   0.0\n",
              "2 -1.420362   0.0\n",
              "3 -1.353357   0.0\n",
              "4 -1.305869   0.0"
            ]
          },
          "metadata": {},
          "execution_count": 5
        }
      ]
    },
    {
      "cell_type": "code",
      "metadata": {
        "colab": {
          "base_uri": "https://localhost:8080/",
          "height": 517
        },
        "id": "2dnfihor1K9o",
        "outputId": "3e8aa7a3-5da4-430c-a26e-83b92cd1533e"
      },
      "source": [
        "plt.figure(figsize=(12, 8))\n",
        "plt.plot(df['data'], df['relu'])\n",
        "plt.title('Funkcja ReLu')"
      ],
      "execution_count": 6,
      "outputs": [
        {
          "output_type": "execute_result",
          "data": {
            "text/plain": [
              "Text(0.5, 1.0, 'Funkcja ReLu')"
            ]
          },
          "metadata": {},
          "execution_count": 6
        },
        {
          "output_type": "display_data",
          "data": {
            "image/png": "[encoded data removed]",
            "text/plain": [
              "<Figure size 864x576 with 1 Axes>"
            ]
          },
          "metadata": {
            "needs_background": "light"
          }
        }
      ]
    },
    {
      "cell_type": "markdown",
      "metadata": {
        "id": "7peetzYXxoeh"
      },
      "source": [
        "#### <a name='a3'></a> 3. Funkcja Sigmoid\n",
        "####    $$f(x) = \\frac{1}{1 + e^{-x}}$$"
      ]
    },
    {
      "cell_type": "code",
      "metadata": {
        "id": "TmttnivL3rLN"
      },
      "source": [
        "def sigmoid(x):\n",
        "    return 1 / (1 + exp(-x))"
      ],
      "execution_count": 7,
      "outputs": []
    },
    {
      "cell_type": "code",
      "metadata": {
        "colab": {
          "base_uri": "https://localhost:8080/"
        },
        "id": "ltisJxSn34pp",
        "outputId": "eb767993-f687-4e1a-99bf-ea76bfb4464f"
      },
      "source": [
        "for i in [-7, -5, 0, 5, 10]:\n",
        "    print(sigmoid(i))"
      ],
      "execution_count": 9,
      "outputs": [
        {
          "output_type": "stream",
          "name": "stdout",
          "text": [
            "0.0009110511944006454\n",
            "0.0066928509242848554\n",
            "0.5\n",
            "0.9933071490757153\n",
            "0.9999546021312976\n"
          ]
        }
      ]
    },
    {
      "cell_type": "code",
      "metadata": {
        "colab": {
          "base_uri": "https://localhost:8080/"
        },
        "id": "ei50DKOl5HZz",
        "outputId": "b63a4906-b098-442d-d7f9-82f41aa55f49"
      },
      "source": [
        "data = 3 * np.random.randn(50)\n",
        "data = sorted(data)\n",
        "data[:20]"
      ],
      "execution_count": 11,
      "outputs": [
        {
          "output_type": "execute_result",
          "data": {
            "text/plain": [
              "[-7.186135484656457,\n",
              " -4.146518179799891,\n",
              " -3.905552238698318,\n",
              " -3.656542050557034,\n",
              " -3.1341479904374,\n",
              " -2.617509350382831,\n",
              " -2.558408387591606,\n",
              " -2.4920265068582936,\n",
              " -2.280900347188936,\n",
              " -2.1172187518883785,\n",
              " -2.0426720478625917,\n",
              " -1.9587844009890778,\n",
              " -1.9244326915076604,\n",
              " -1.9086246625470515,\n",
              " -1.7339446484558934,\n",
              " -1.3397145902539227,\n",
              " -1.2269870007794255,\n",
              " -1.1901675278113357,\n",
              " -1.1626507986792696,\n",
              " -0.6367917666652073]"
            ]
          },
          "metadata": {},
          "execution_count": 11
        }
      ]
    },
    {
      "cell_type": "code",
      "metadata": {
        "colab": {
          "base_uri": "https://localhost:8080/",
          "height": 206
        },
        "id": "4kEiRqaU5m_m",
        "outputId": "cbb77c1f-4923-4525-e3a3-bd94617a1e12"
      },
      "source": [
        "sigmoid_data = np.array([sigmoid(x) for x in data])\n",
        "df = pd.DataFrame({'data' : data, 'sigmoid' : sigmoid_data})\n",
        "df.head()"
      ],
      "execution_count": 13,
      "outputs": [
        {
          "output_type": "execute_result",
          "data": {
            "text/html": [
              "<div>\n",
              "<style scoped>\n",
              "    .dataframe tbody tr th:only-of-type {\n",
              "        vertical-align: middle;\n",
              "    }\n",
              "\n",
              "    .dataframe tbody tr th {\n",
              "        vertical-align: top;\n",
              "    }\n",
              "\n",
              "    .dataframe thead th {\n",
              "        text-align: right;\n",
              "    }\n",
              "</style>\n",
              "<table border=\"1\" class=\"dataframe\">\n",
              "  <thead>\n",
              "    <tr style=\"text-align: right;\">\n",
              "      <th></th>\n",
              "      <th>data</th>\n",
              "      <th>sigmoid</th>\n",
              "    </tr>\n",
              "  </thead>\n",
              "  <tbody>\n",
              "    <tr>\n",
              "      <th>0</th>\n",
              "      <td>-7.186135</td>\n",
              "      <td>0.000756</td>\n",
              "    </tr>\n",
              "    <tr>\n",
              "      <th>1</th>\n",
              "      <td>-4.146518</td>\n",
              "      <td>0.015573</td>\n",
              "    </tr>\n",
              "    <tr>\n",
              "      <th>2</th>\n",
              "      <td>-3.905552</td>\n",
              "      <td>0.019733</td>\n",
              "    </tr>\n",
              "    <tr>\n",
              "      <th>3</th>\n",
              "      <td>-3.656542</td>\n",
              "      <td>0.025172</td>\n",
              "    </tr>\n",
              "    <tr>\n",
              "      <th>4</th>\n",
              "      <td>-3.134148</td>\n",
              "      <td>0.041720</td>\n",
              "    </tr>\n",
              "  </tbody>\n",
              "</table>\n",
              "</div>"
            ],
            "text/plain": [
              "       data   sigmoid\n",
              "0 -7.186135  0.000756\n",
              "1 -4.146518  0.015573\n",
              "2 -3.905552  0.019733\n",
              "3 -3.656542  0.025172\n",
              "4 -3.134148  0.041720"
            ]
          },
          "metadata": {},
          "execution_count": 13
        }
      ]
    },
    {
      "cell_type": "code",
      "metadata": {
        "colab": {
          "base_uri": "https://localhost:8080/",
          "height": 517
        },
        "id": "cjEtwwi56T1E",
        "outputId": "3f9b8c96-cb64-4ccf-a752-ee4442096353"
      },
      "source": [
        "plt.figure(figsize=(12, 8))\n",
        "plt.plot(df['data'], df['sigmoid'])\n",
        "plt.title('Funkcja Sigmoid')"
      ],
      "execution_count": 14,
      "outputs": [
        {
          "output_type": "execute_result",
          "data": {
            "text/plain": [
              "Text(0.5, 1.0, 'Funkcja Sigmoid')"
            ]
          },
          "metadata": {},
          "execution_count": 14
        },
        {
          "output_type": "display_data",
          "data": {
            "image/png": "[encoded data removed]",
            "text/plain": [
              "<Figure size 864x576 with 1 Axes>"
            ]
          },
          "metadata": {
            "needs_background": "light"
          }
        }
      ]
    },
    {
      "cell_type": "markdown",
      "metadata": {
        "id": "nbnWO6h9xwIC"
      },
      "source": [
        "#### <a name='a4'></a> 4. Tanh Function\n",
        "\n",
        "####   $$tanh (x) = \\frac{e^{x} - e^{-x}}{e^{x} + e^{-x}}$$"
      ]
    },
    {
      "cell_type": "code",
      "metadata": {
        "id": "54oVFk_W68UO"
      },
      "source": [
        "def tanh(x):\n",
        "    return (exp(x) - exp(-x)) / (exp(x) + exp(-x))"
      ],
      "execution_count": 16,
      "outputs": []
    },
    {
      "cell_type": "code",
      "metadata": {
        "colab": {
          "base_uri": "https://localhost:8080/"
        },
        "id": "FgTRDqsi9zEG",
        "outputId": "63c9a8b0-08a7-4d1c-b05a-08667e68a2b8"
      },
      "source": [
        "for i in [-7, -5, 0, 5, 10]:\n",
        "    print(tanh(i))"
      ],
      "execution_count": 17,
      "outputs": [
        {
          "output_type": "stream",
          "name": "stdout",
          "text": [
            "-0.9999983369439447\n",
            "-0.999909204262595\n",
            "0.0\n",
            "0.999909204262595\n",
            "0.9999999958776926\n"
          ]
        }
      ]
    },
    {
      "cell_type": "code",
      "metadata": {
        "colab": {
          "base_uri": "https://localhost:8080/"
        },
        "id": "Wv4oXtpl9_z8",
        "outputId": "a9a81430-cdd1-4e3d-8fe7-7ca09bea4c12"
      },
      "source": [
        "data = 2 * np.random.randn(50)\n",
        "data = sorted(data)\n",
        "data[:20]"
      ],
      "execution_count": 18,
      "outputs": [
        {
          "output_type": "execute_result",
          "data": {
            "text/plain": [
              "[-5.958780851691707,\n",
              " -5.19794728277402,\n",
              " -3.4096181263439522,\n",
              " -2.9067236883680505,\n",
              " -2.7559987819329907,\n",
              " -2.2385314976314072,\n",
              " -2.0494823594643132,\n",
              " -1.8103957195286942,\n",
              " -1.739644043790808,\n",
              " -1.6121027182016985,\n",
              " -1.4776371141923905,\n",
              " -1.3572943175938321,\n",
              " -0.86063388623676,\n",
              " -0.7851475421474851,\n",
              " -0.5416181403232018,\n",
              " -0.5220535553715562,\n",
              " -0.48257971312700293,\n",
              " -0.4393631938325004,\n",
              " -0.40771448410019834,\n",
              " -0.3773410639104752]"
            ]
          },
          "metadata": {},
          "execution_count": 18
        }
      ]
    },
    {
      "cell_type": "code",
      "metadata": {
        "colab": {
          "base_uri": "https://localhost:8080/",
          "height": 206
        },
        "id": "aylIkMAr-PNS",
        "outputId": "cb82a026-ad3a-4485-dca7-de2c214da1ef"
      },
      "source": [
        "tanh_data = np.array([tanh(x) for x in data])\n",
        "df = pd.DataFrame({'data': data, 'tanh': tanh_data})\n",
        "df.head()"
      ],
      "execution_count": 19,
      "outputs": [
        {
          "output_type": "execute_result",
          "data": {
            "text/html": [
              "<div>\n",
              "<style scoped>\n",
              "    .dataframe tbody tr th:only-of-type {\n",
              "        vertical-align: middle;\n",
              "    }\n",
              "\n",
              "    .dataframe tbody tr th {\n",
              "        vertical-align: top;\n",
              "    }\n",
              "\n",
              "    .dataframe thead th {\n",
              "        text-align: right;\n",
              "    }\n",
              "</style>\n",
              "<table border=\"1\" class=\"dataframe\">\n",
              "  <thead>\n",
              "    <tr style=\"text-align: right;\">\n",
              "      <th></th>\n",
              "      <th>data</th>\n",
              "      <th>tanh</th>\n",
              "    </tr>\n",
              "  </thead>\n",
              "  <tbody>\n",
              "    <tr>\n",
              "      <th>0</th>\n",
              "      <td>-5.958781</td>\n",
              "      <td>-0.999987</td>\n",
              "    </tr>\n",
              "    <tr>\n",
              "      <th>1</th>\n",
              "      <td>-5.197947</td>\n",
              "      <td>-0.999939</td>\n",
              "    </tr>\n",
              "    <tr>\n",
              "      <th>2</th>\n",
              "      <td>-3.409618</td>\n",
              "      <td>-0.997817</td>\n",
              "    </tr>\n",
              "    <tr>\n",
              "      <th>3</th>\n",
              "      <td>-2.906724</td>\n",
              "      <td>-0.994044</td>\n",
              "    </tr>\n",
              "    <tr>\n",
              "      <th>4</th>\n",
              "      <td>-2.755999</td>\n",
              "      <td>-0.991956</td>\n",
              "    </tr>\n",
              "  </tbody>\n",
              "</table>\n",
              "</div>"
            ],
            "text/plain": [
              "       data      tanh\n",
              "0 -5.958781 -0.999987\n",
              "1 -5.197947 -0.999939\n",
              "2 -3.409618 -0.997817\n",
              "3 -2.906724 -0.994044\n",
              "4 -2.755999 -0.991956"
            ]
          },
          "metadata": {},
          "execution_count": 19
        }
      ]
    },
    {
      "cell_type": "code",
      "metadata": {
        "colab": {
          "base_uri": "https://localhost:8080/",
          "height": 517
        },
        "id": "YUzJuBgI-w5b",
        "outputId": "c86942b7-0fb6-464c-eb16-c8f52478d003"
      },
      "source": [
        "plt.figure(figsize=(12, 8))\n",
        "plt.plot(df['data'], df['tanh'])\n",
        "plt.title('Funkcja Tanh')"
      ],
      "execution_count": 24,
      "outputs": [
        {
          "output_type": "execute_result",
          "data": {
            "text/plain": [
              "Text(0.5, 1.0, 'Funkcja Tanh')"
            ]
          },
          "metadata": {},
          "execution_count": 24
        },
        {
          "output_type": "display_data",
          "data": {
            "image/png": "[encoded data removed]",
            "text/plain": [
              "<Figure size 864x576 with 1 Axes>"
            ]
          },
          "metadata": {
            "needs_background": "light"
          }
        }
      ]
    },
    {
      "cell_type": "markdown",
      "metadata": {
        "id": "a3JOP9Omxydx"
      },
      "source": [
        "#### <a name='a5'></a> 5. Softmax Function\n",
        "\n",
        "####   $$S(x_i)=\\frac{e^{x_{i}}}{\\sum_{j=1}^{N}e^{x_j}},\\ \\ dla\\ i = 1,...,N$$\n",
        "\n",
        "####   $$S(x_1)=\\frac{e^{x_{1}}}{\\sum_{j=1}^{N}e^{x_j}}$$"
      ]
    },
    {
      "cell_type": "code",
      "metadata": {
        "id": "h61GYc2sx3Ov"
      },
      "source": [
        "def softmax(x):\n",
        "    e_x = np.exp(x)\n",
        "    denominator = np.sum(e_x, axis=1)\n",
        "    denominator = denominator[:, np.newaxis]\n",
        "    return e_x / denominator"
      ],
      "execution_count": 25,
      "outputs": []
    },
    {
      "cell_type": "code",
      "metadata": {
        "colab": {
          "base_uri": "https://localhost:8080/"
        },
        "id": "DIyX91q7_6QD",
        "outputId": "d433059d-f5da-49ee-912c-6b54e4183e5c"
      },
      "source": [
        "data = np.random.randn(4, 5)\n",
        "data"
      ],
      "execution_count": 26,
      "outputs": [
        {
          "output_type": "execute_result",
          "data": {
            "text/plain": [
              "array([[-0.522507, -0.811714, -0.638046, -1.105202,  1.682263],\n",
              "       [-0.740766,  0.038427, -0.772157,  0.64842 ,  0.755543],\n",
              "       [ 1.102921,  0.208153, -0.285507,  1.625928,  0.318297],\n",
              "       [-0.63332 , -0.287558, -1.281431, -2.755519, -1.52102 ]])"
            ]
          },
          "metadata": {},
          "execution_count": 26
        }
      ]
    },
    {
      "cell_type": "code",
      "metadata": {
        "colab": {
          "base_uri": "https://localhost:8080/"
        },
        "id": "l-6-AdO8AH3f",
        "outputId": "ed5f8375-6d0d-4735-d03f-c7a22d12e8f9"
      },
      "source": [
        "result = softmax(data)\n",
        "result"
      ],
      "execution_count": 27,
      "outputs": [
        {
          "output_type": "execute_result",
          "data": {
            "text/plain": [
              "array([[0.081524, 0.06105 , 0.072629, 0.045522, 0.739275],\n",
              "       [0.079204, 0.172643, 0.076757, 0.317735, 0.353661],\n",
              "       [0.26305 , 0.107509, 0.065622, 0.443791, 0.120028],\n",
              "       [0.288395, 0.407521, 0.15084 , 0.03454 , 0.118704]])"
            ]
          },
          "metadata": {},
          "execution_count": 27
        }
      ]
    },
    {
      "cell_type": "code",
      "metadata": {
        "colab": {
          "base_uri": "https://localhost:8080/"
        },
        "id": "RoGvf51jANTu",
        "outputId": "c3f4adaa-eb04-4500-c152-bca82422ea6d"
      },
      "source": [
        "result.sum(axis=1)"
      ],
      "execution_count": 28,
      "outputs": [
        {
          "output_type": "execute_result",
          "data": {
            "text/plain": [
              "array([1., 1., 1., 1.])"
            ]
          },
          "metadata": {},
          "execution_count": 28
        }
      ]
    }
  ]
}