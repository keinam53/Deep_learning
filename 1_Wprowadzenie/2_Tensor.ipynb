{
  "nbformat": 4,
  "nbformat_minor": 0,
  "metadata": {
    "colab": {
      "name": "2_Tensor.ipynb",
      "provenance": [],
      "authorship_tag": "ABX9TyNvy4f9lDAJf7KZxeR5dXYt",
      "include_colab_link": true
    },
    "kernelspec": {
      "name": "python3",
      "display_name": "Python 3"
    },
    "language_info": {
      "name": "python"
    }
  },
  "cells": [
    {
      "cell_type": "markdown",
      "metadata": {
        "id": "view-in-github",
        "colab_type": "text"
      },
      "source": [
        "<a href=\"https://colab.research.google.com/github/keinam53/Deep_learning/blob/main/1_Wprowadzenie/2_Tensor.ipynb\" target=\"_parent\"><img src=\"https://colab.research.google.com/assets/colab-badge.svg\" alt=\"Open In Colab\"/></a>"
      ]
    },
    {
      "cell_type": "markdown",
      "metadata": {
        "id": "jFjYtqEWjQmj"
      },
      "source": [
        "###Tensor\n",
        "1. [Import bibliotek](#a0)\n",
        "2. [Skalar](#a1)\n",
        "3. [Wektor](#a2)\n",
        "4. [Tablica ~ macierz](#a3)\n",
        "5. [Tensor](#a4)\n"
      ]
    },
    {
      "cell_type": "markdown",
      "metadata": {
        "id": "z4CZobcLjZu3"
      },
      "source": [
        "### <a name='a0'></a> 1. Import bibliotek"
      ]
    },
    {
      "cell_type": "code",
      "metadata": {
        "id": "ipoACH4U8NG6"
      },
      "source": [
        "import numpy as np"
      ],
      "execution_count": 1,
      "outputs": []
    },
    {
      "cell_type": "markdown",
      "metadata": {
        "id": "g7mqJsM1ja_y"
      },
      "source": [
        "### <a name='a1'> </a> 2. Skalar "
      ]
    },
    {
      "cell_type": "code",
      "metadata": {
        "colab": {
          "base_uri": "https://localhost:8080/"
        },
        "id": "JcPx_qwWjmNG",
        "outputId": "c275f592-5cd0-46a6-b839-481dad7128a9"
      },
      "source": [
        "skalar = 3\n",
        "print(skalar)\n",
        "print(type(skalar))"
      ],
      "execution_count": 2,
      "outputs": [
        {
          "output_type": "stream",
          "name": "stdout",
          "text": [
            "3\n",
            "<class 'int'>\n"
          ]
        }
      ]
    },
    {
      "cell_type": "markdown",
      "metadata": {
        "id": "HbuF0GKcjdfU"
      },
      "source": [
        "### <a name='a2'> </a> 3. Wektor"
      ]
    },
    {
      "cell_type": "code",
      "metadata": {
        "colab": {
          "base_uri": "https://localhost:8080/"
        },
        "id": "H3rsbHjjjm-v",
        "outputId": "b275acd7-6785-4ac3-83ea-75738eb854f3"
      },
      "source": [
        "wektor = np.array([2, 4, -6, 5])\n",
        "print(wektor)\n",
        "print(wektor.dtype)\n",
        "print(f'Rozmiar wektora: {wektor.shape}')\n",
        "print(f'Rząd wektora: {wektor.ndim}')\n",
        "print(f'Długość: {len(wektor)}')"
      ],
      "execution_count": 5,
      "outputs": [
        {
          "output_type": "stream",
          "name": "stdout",
          "text": [
            "[ 2  4 -6  5]\n",
            "int64\n",
            "Rozmiar wektora: (4,)\n",
            "Rząd wektora: 1\n",
            "Długość: 4\n"
          ]
        }
      ]
    },
    {
      "cell_type": "markdown",
      "metadata": {
        "id": "ZPUGDbl_jgIk"
      },
      "source": [
        "### <a name='a3'> </a> 4.Tablica ~ Macierz"
      ]
    },
    {
      "cell_type": "code",
      "metadata": {
        "colab": {
          "base_uri": "https://localhost:8080/"
        },
        "id": "1crsQJXbjnuA",
        "outputId": "187c1e80-94ab-420e-e8b2-907138a09efd"
      },
      "source": [
        "macierz = np.array([[2, 6, 3],\n",
        "                   [4, 6, 2]])\n",
        "print(macierz)\n",
        "print(macierz.dtype)\n",
        "print(f'Rozmiar macierzy: {macierz.shape}')\n",
        "print(f'Rząd macierzy: {macierz.ndim}')\n",
        "print(f'Długość: {len(macierz)}')"
      ],
      "execution_count": 7,
      "outputs": [
        {
          "output_type": "stream",
          "name": "stdout",
          "text": [
            "[[2 6 3]\n",
            " [4 6 2]]\n",
            "int64\n",
            "Rozmiar macierzy: (2, 3)\n",
            "Rząd macierzy: 2\n",
            "Długość: 2\n"
          ]
        }
      ]
    },
    {
      "cell_type": "markdown",
      "metadata": {
        "id": "fYlyFUS0jiq5"
      },
      "source": [
        "### <a name='a4'> </a> 5. Tensor"
      ]
    },
    {
      "cell_type": "code",
      "metadata": {
        "colab": {
          "base_uri": "https://localhost:8080/"
        },
        "id": "ufxD1yRcjovI",
        "outputId": "80b5a874-25fa-452a-e804-bbe72d88f219"
      },
      "source": [
        "tensor = np.array([[[1, 2, 3],\n",
        "                   [4, 5, 6]],\n",
        "                  [[7, 8, 9],\n",
        "                   [3, 5, 7]]])\n",
        "print(tensor)\n",
        "print(tensor.dtype)\n",
        "print(f'Rozmiar macierzy: {tensor.shape}')\n",
        "print(f'Rząd macierzy: {tensor.ndim}')\n",
        "print(f'Długość: {len(tensor)}')"
      ],
      "execution_count": 9,
      "outputs": [
        {
          "output_type": "stream",
          "name": "stdout",
          "text": [
            "[[[1 2 3]\n",
            "  [4 5 6]]\n",
            "\n",
            " [[7 8 9]\n",
            "  [3 5 7]]]\n",
            "int64\n",
            "Rozmiar macierzy: (2, 2, 3)\n",
            "Rząd macierzy: 3\n",
            "Długość: 2\n"
          ]
        }
      ]
    },
    {
      "cell_type": "code",
      "metadata": {
        "colab": {
          "base_uri": "https://localhost:8080/"
        },
        "id": "z6ysC1HanASH",
        "outputId": "253005d2-8fdc-47a5-c115-f9b244704e11"
      },
      "source": [
        "tensor = np.array([\n",
        "    [[1, 2, 3, 4],\n",
        "     [4, 5, 6, 4],\n",
        "     [4, 2, 5, 2]],\n",
        "    [[7, 8, 9, 8],\n",
        "     [3, 7, 3, 9],\n",
        "     [5, 2, 4, 3]],\n",
        "    [[2, 3, 5, 4],\n",
        "     [7, 2, 5, 1],\n",
        "     [8, 2, 7, 2]],\n",
        "    [[2, 3, 5, 7],\n",
        "     [7, 2, 5, 9],\n",
        "     [8, 2, 7, 0]],\n",
        "    [[2, 3, 5, 7],\n",
        "     [7, 2, 5, 9],\n",
        "     [8, 2, 7, 0]]\n",
        "])\n",
        "print(tensor)\n",
        "print(tensor.dtype)\n",
        "print(f'Rozmiar macierzy: {tensor.shape}')\n",
        "print(f'Rząd macierzy: {tensor.ndim}')\n",
        "print(f'Długość: {len(tensor)}')"
      ],
      "execution_count": 10,
      "outputs": [
        {
          "output_type": "stream",
          "name": "stdout",
          "text": [
            "[[[1 2 3 4]\n",
            "  [4 5 6 4]\n",
            "  [4 2 5 2]]\n",
            "\n",
            " [[7 8 9 8]\n",
            "  [3 7 3 9]\n",
            "  [5 2 4 3]]\n",
            "\n",
            " [[2 3 5 4]\n",
            "  [7 2 5 1]\n",
            "  [8 2 7 2]]\n",
            "\n",
            " [[2 3 5 7]\n",
            "  [7 2 5 9]\n",
            "  [8 2 7 0]]\n",
            "\n",
            " [[2 3 5 7]\n",
            "  [7 2 5 9]\n",
            "  [8 2 7 0]]]\n",
            "int64\n",
            "Rozmiar macierzy: (5, 3, 4)\n",
            "Rząd macierzy: 3\n",
            "Długość: 5\n"
          ]
        }
      ]
    },
    {
      "cell_type": "code",
      "metadata": {
        "colab": {
          "base_uri": "https://localhost:8080/"
        },
        "id": "nZcmVIw2nyon",
        "outputId": "c0c5ea19-ebf9-446e-9c9a-327f2f5f7ee4"
      },
      "source": [
        "tensor[0]"
      ],
      "execution_count": 11,
      "outputs": [
        {
          "output_type": "execute_result",
          "data": {
            "text/plain": [
              "array([[1, 2, 3, 4],\n",
              "       [4, 5, 6, 4],\n",
              "       [4, 2, 5, 2]])"
            ]
          },
          "metadata": {},
          "execution_count": 11
        }
      ]
    },
    {
      "cell_type": "code",
      "metadata": {
        "colab": {
          "base_uri": "https://localhost:8080/"
        },
        "id": "8Es_ejBNn7p3",
        "outputId": "152f2fc8-5208-4b9c-a7c7-ad1c6c22062b"
      },
      "source": [
        "tensor[1:3]"
      ],
      "execution_count": 12,
      "outputs": [
        {
          "output_type": "execute_result",
          "data": {
            "text/plain": [
              "array([[[7, 8, 9, 8],\n",
              "        [3, 7, 3, 9],\n",
              "        [5, 2, 4, 3]],\n",
              "\n",
              "       [[2, 3, 5, 4],\n",
              "        [7, 2, 5, 1],\n",
              "        [8, 2, 7, 2]]])"
            ]
          },
          "metadata": {},
          "execution_count": 12
        }
      ]
    },
    {
      "cell_type": "code",
      "metadata": {
        "id": "3R_SIinSn9th"
      },
      "source": [
        ""
      ],
      "execution_count": null,
      "outputs": []
    }
  ]
}