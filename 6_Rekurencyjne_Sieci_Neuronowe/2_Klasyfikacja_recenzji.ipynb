{
  "nbformat": 4,
  "nbformat_minor": 0,
  "metadata": {
    "colab": {
      "name": "2_Klasyfikacja_recenzji.ipynb",
      "provenance": [],
      "authorship_tag": "ABX9TyOwvcNY5fMBck0MauRNqW/q",
      "include_colab_link": true
    },
    "kernelspec": {
      "name": "python3",
      "display_name": "Python 3"
    },
    "language_info": {
      "name": "python"
    }
  },
  "cells": [
    {
      "cell_type": "markdown",
      "metadata": {
        "id": "view-in-github",
        "colab_type": "text"
      },
      "source": [
        "<a href=\"https://colab.research.google.com/github/keinam53/Deep_learning/blob/main/6_Rekurencyjne_Sieci_Neuronowe/2_Klasyfikacja_recenzji.ipynb\" target=\"_parent\"><img src=\"https://colab.research.google.com/assets/colab-badge.svg\" alt=\"Open In Colab\"/></a>"
      ]
    },
    {
      "cell_type": "markdown",
      "metadata": {
        "id": "rkDaRcv1WqfV"
      },
      "source": [
        "### Spis treści:\n",
        "1. [Import bibliotek](#a0)\n",
        "2. [Załadowanie danych i wstępna eksploracja](#a1)\n",
        "3. [Podział na zbiór treningowy oraz testowy](#a2)\n",
        "4. [Budowa modelu](#a3)\n",
        "5. [Warstwa SimpleRNN](#a4)\n",
        "6. [Warstwa LSTM](#a5)\n",
        "7. [Ocena modelu na zbiorze testowym](#a6)\n"
      ]
    },
    {
      "cell_type": "markdown",
      "metadata": {
        "id": "H9n7de0YWsGa"
      },
      "source": [
        "### <a name='a0'></a> 1. Import biblotek"
      ]
    },
    {
      "cell_type": "code",
      "metadata": {
        "id": "ze1rDnnABiJW"
      },
      "source": [
        "import numpy as np\n",
        "import os\n",
        "\n",
        "from tensorflow.keras.preprocessing.text import Tokenizer\n",
        "from tensorflow.keras.preprocessing.sequence import pad_sequences\n",
        "from tensorflow.keras.models import Sequential\n",
        "from tensorflow.keras.layers import Dense, Embedding, Flatten"
      ],
      "execution_count": 1,
      "outputs": []
    },
    {
      "cell_type": "markdown",
      "metadata": {
        "id": "NU72Qg9zWzpY"
      },
      "source": [
        "### <a name='a1'></a> 2. Załadowanie danych i wstępna eksploracja"
      ]
    },
    {
      "cell_type": "code",
      "metadata": {
        "id": "QelaVrXMDRiU"
      },
      "source": [
        "!wget https://storage.googleapis.com/esmartdata-courses-files/ann-course/reviews.zip\n",
        "!unzip -q reviews.zip"
      ],
      "execution_count": 2,
      "outputs": []
    },
    {
      "cell_type": "code",
      "metadata": {
        "id": "ayxWmtffDYvJ"
      },
      "source": [
        "data_dir = './reviews'\n",
        "train_dir = os.path.join(data_dir, 'train')\n",
        "\n",
        "train_texts = []\n",
        "train_labels = []\n",
        "\n",
        "for label_type in ['neg', 'pos']:\n",
        "    dir_name = os.path.join(train_dir, label_type)\n",
        "    for fname in os.listdir(dir_name):\n",
        "        if fname[-4:] == '.txt':\n",
        "            f = open(os.path.join(dir_name, fname))\n",
        "            train_texts.append(f.read())\n",
        "            f.close()\n",
        "            if label_type == 'neg':\n",
        "                train_labels.append(0)\n",
        "            else:\n",
        "                train_labels.append(1)"
      ],
      "execution_count": 3,
      "outputs": []
    },
    {
      "cell_type": "code",
      "metadata": {
        "id": "WQuYoeW6FPbb"
      },
      "source": [
        "test_dir = os.path.join(data_dir, 'test')\n",
        "\n",
        "test_texts = []\n",
        "test_labels = []\n",
        "\n",
        "for label_type in ['neg', 'pos']:\n",
        "    dir_name = os.path.join(test_dir, label_type)\n",
        "    for fname in os.listdir(dir_name):\n",
        "        if fname[-4:] == '.txt':\n",
        "            f = open(os.path.join(dir_name, fname))\n",
        "            test_texts.append(f.read())\n",
        "            f.close()\n",
        "            if label_type == 'neg':\n",
        "                test_labels.append(0)\n",
        "            else:\n",
        "                test_labels.append(1)"
      ],
      "execution_count": 4,
      "outputs": []
    },
    {
      "cell_type": "code",
      "metadata": {
        "colab": {
          "base_uri": "https://localhost:8080/"
        },
        "id": "yrqIGl5LFiDh",
        "outputId": "dc270f79-26d2-4499-a070-ef3cda519927"
      },
      "source": [
        "train_texts[:3]"
      ],
      "execution_count": 5,
      "outputs": [
        {
          "output_type": "execute_result",
          "data": {
            "text/plain": [
              "['So, Steve Irwin. You have to admire a man who is not only willing to throw himself into a river that clearly is filled with crocs, snakes, lizards, tons of poop from the aforementioned reptiles, and mud, not only daily, but with enthusiasm. He was never able to make ME want to do it, but he managed to make his wife come close.<br /><br />This movie does not fall into my parallel universe of film category - the films for people who just had their teeth drilled, have a migraine, or have no film experience and therefore like quiet mediocrity (currently well populated by Disney films). It\\'s too noisy. Well, Steve is too noisy. He\\'s just so happy all the time, and would cut right through the blasé\\' teenager (I can hear it now: \"that movie was so STUPID\") or the Tylenol with codeine. I\\'d say his enthusiasm is catching, but if it was, I would own a room full of snakes, and that hasn\\'t happened yet. I agreed they\\'re beauties, but I\\'m still not going to pet them.<br /><br />Plot was indeed predictable. Bad guys were so bad, for a minute there I thought I was shopping at a consumer electronic superstore. But the movie was filled with animals, and Steve and Terri, which is why I watched it. That plot (if you could call it that) was really more of a reason to throw yet another croc in a truck. My expectations were low and stayed that way.<br /><br />I was hoping, though, that there would be a bit of a sequel, where Steve and Terri (having worked on their acting skills) have a movie with a real plot and more animals with fur. I still can\\'t believe we won\\'t see Steve anymore. I hope that Terri and the children continue to be involved in the Australia Zoo and the discovery channel, at least. I can\\'t imagine seeing a crocodile without having some member of the Irwin family telling me forcefully how wonderful that croc is. Crikey!',\n",
              " \"I had not seen the movie trailer when I went to see the movie, instead I based my judgments on a friend's opinions. Now I like Chris Rock and his comedy, but this movie just falls flat on its face.<br /><br />During the movie Rock delivers a couple of funny jokes, but unfortunately the movie is sorely lacking in comedy. The movie seems want to integrate both laughter and love into one, and it that endeavor it fails. The love story in the movie is straight forward (luckily), but it detracts too much from the movie by making Rock serious and bland. After all, the movie is first and foremost destined to be a comedy, where laughter should be the primary concern. Not much of that in the movie.<br /><br />The plot is also pretty uninteresting as a whole. Some parts were discontinuous altogether. If the supporting cast were meant to be funny, they certainly didn't do a good job. The couple of angels from heaven tried to make a couple of jokes, which were dry and dull. Rock's first incarnation's couple of underlings were also bland. If there's one thing they did do right, though, they made Rock seem funnier by comparison.\",\n",
              " \"I saw this dull waste of time on HBO's Comedy Channel, so I quite innocently and obviously assumed that this was a comedy. But there is absolutely nothing funny here. A good cast is basically wasted on a script that I could have written with my left butt-cheek - after it had been beaten senseless by 15th-century Inquisition torturers. The first half is particularly bad, as it has some of the most dull, pointless dialogue I've come across in a while, and zero comma zero plot to speak of. Just the fact that stars such as Ewan McGregor and Zeta-Jones are in this little movie and yet this film has less than 1000 votes on this site, should tell you everything. A couple of nice shots of waves hitting the cold British coast, but that's about it.<br /><br />This is the sort of movie that gets made just because the people who wrote it have good connections (family connections, preferably) and/or plenty of cash lying around.\"]"
            ]
          },
          "metadata": {},
          "execution_count": 5
        }
      ]
    },
    {
      "cell_type": "code",
      "metadata": {
        "colab": {
          "base_uri": "https://localhost:8080/"
        },
        "id": "jfme4VfPGV90",
        "outputId": "2c5928ab-cfac-4107-c174-2ace8c960ad4"
      },
      "source": [
        "train_labels[:3]"
      ],
      "execution_count": 6,
      "outputs": [
        {
          "output_type": "execute_result",
          "data": {
            "text/plain": [
              "[0, 0, 0]"
            ]
          },
          "metadata": {},
          "execution_count": 6
        }
      ]
    },
    {
      "cell_type": "code",
      "metadata": {
        "colab": {
          "base_uri": "https://localhost:8080/"
        },
        "id": "eH1lSYNFGeCm",
        "outputId": "e263bfcb-346e-4acc-e449-1a3423ed151d"
      },
      "source": [
        "test_texts[:3]"
      ],
      "execution_count": 7,
      "outputs": [
        {
          "output_type": "execute_result",
          "data": {
            "text/plain": [
              "[\"There are lots of other comments here about how poor this film is. What I wanted to point out is how this film took the largest science project in history and made it look small. The Manhattan project was an incredible achievement and it was huge. Virtually all silver in the country went into making wire for electromagnetic separators. If there was every a choice between two alternative ways of doing things they just did both. The first sustained nuclear reactor was fired up under the stands of the University of Chicago football stadium with graduate students wielding axes as a scram mechanism. It's a fascinating story involving hundreds of locations and thousands of people that this film seems to reduce to a small group of eccentrics in New Mexico.<br /><br />The other thing I really disliked was the huge moral debate over if we should continue the project after Germany surrenders. Okay, we have thousands of (mostly) men who worked for years to make a really big boom. Does anyone think they didn't want to see it work? There was some controversy at the time about if we should use the device, but it was not that serious, clearly not the huge debate this film makes it out to be.\",\n",
              " 'Another film to punish us for the crime of enjoying \"Pulp Fiction.\"<br /><br />If you like watching people get killed by machine gun fire for an hour and a half, this\\'ll probably fit the bill. Fans of the debut episode of \"Aeon Flux,\" wherein the title character slays literally thousands of seemingly faceless soldiers single-handedly, will really go for it.<br /><br />Otherwise, it\\'s not exactly a clever movie. In fact, all it is is an excuse for a bunch of young people to act rude and shoot people. Sometimes an entire scene goes by, and the only thing that happens is, you guessed it! someone gets shot. Or, to spice things up, twenty people get shot. First, they\\'re just sitting there, the next minute, they\\'re sitting there dead. Yahoo!<br /><br />Rough plot: A young American goes to Paris (An American in Paris, get it?), hires a prostitute (the ethereal Julie Delpy), gets in touch with some old French buddies, one of which has AIDS, they plan and attempt a bank heist. Of course, movie convention states that no bank robberies on film go off w/o a hitch, and this hitch takes up about three-quarters of the running time (it\\'s like \"Dog Day Afternoon\" without the Sidney Lumet\\'s wit, patience, or humanity). While at the bank, things go wrong (surprise!), and the Parisian with AIDS, goes wacko with his Uzi several HUNDRED times. No spoilers here, but suffice to say that you\\'re at such an emotional distance from these characters that it\\'s not likely you\\'ll care who lives and who dies by the end of the film.<br /><br />Some have called it stylish. Perhaps it is, but it\\'s someone else\\'s style, it\\'s a movie that\\'s already been done, and \"Killing Zoe\" is trapped by convention. Nowhere in the course of the movie does the director (Roger Avary, co-winner of the \"Pulp Fiction\" screenplay Oscar) do anything really original, stylish, funky, or outrageous. Unless you consider the fact that no movie that has taken place inside a bank has had such a high body count, there isn\\'t anything else to set this one apart from the multitude.',\n",
              " 'I was disappointed with the third film in the \"Death Wish\" series and wouldn\\'t recommend this unless you are really into Bronson. He is his usual self in this one, maybe a bit lighter hearted than in the others; the rest of the cast is good if your watching a movie of the week on T.V. - the whole film has the production value of a bad episode of the A-Team and I like the escapism fun of a show like the A-Team but not on the big screen, even if it is an action movie that doesn\\'t claim to be anything to sophisticated. The film takes a while to get going and then when it finally does, it gets out of control to the point of ridiculousness. The plot is something out of an episode of \"Highway to Heaven\" and Bronson seems like a fish out of water with the majority senior citizen cast and the gun play is so out of control you don\\'t even get any satisfaction from Bronson\\'s revenge against the bad guys. Skip this and go on to the 4th installment which I highly recommend.']"
            ]
          },
          "metadata": {},
          "execution_count": 7
        }
      ]
    },
    {
      "cell_type": "code",
      "metadata": {
        "colab": {
          "base_uri": "https://localhost:8080/"
        },
        "id": "_fVM-RByGiyt",
        "outputId": "f0a13ff9-f69a-4552-8aa9-1d9efe6dd252"
      },
      "source": [
        "test_labels[:3]"
      ],
      "execution_count": 8,
      "outputs": [
        {
          "output_type": "execute_result",
          "data": {
            "text/plain": [
              "[0, 0, 0]"
            ]
          },
          "metadata": {},
          "execution_count": 8
        }
      ]
    },
    {
      "cell_type": "code",
      "metadata": {
        "id": "8aYtGukJGlbO"
      },
      "source": [
        "maxlen = 100    #skrócenie recenzji do 100 słów\n",
        "num_words = 10000   #10000 najczęściej pojawiających się słów\n",
        "embedding_dim = 100\n",
        "\n",
        "tokenizer = Tokenizer(num_words)\n",
        "tokenizer.fit_on_texts(train_texts)"
      ],
      "execution_count": 9,
      "outputs": []
    },
    {
      "cell_type": "code",
      "metadata": {
        "colab": {
          "base_uri": "https://localhost:8080/"
        },
        "id": "SOxEhSNaJHGs",
        "outputId": "3f78b7f0-e856-4cd0-a53a-dbd8389ce8d0"
      },
      "source": [
        "list(tokenizer.index_word.items())[:20]"
      ],
      "execution_count": 10,
      "outputs": [
        {
          "output_type": "execute_result",
          "data": {
            "text/plain": [
              "[(1, 'the'),\n",
              " (2, 'and'),\n",
              " (3, 'a'),\n",
              " (4, 'of'),\n",
              " (5, 'to'),\n",
              " (6, 'is'),\n",
              " (7, 'br'),\n",
              " (8, 'in'),\n",
              " (9, 'it'),\n",
              " (10, 'i'),\n",
              " (11, 'this'),\n",
              " (12, 'that'),\n",
              " (13, 'was'),\n",
              " (14, 'as'),\n",
              " (15, 'for'),\n",
              " (16, 'with'),\n",
              " (17, 'movie'),\n",
              " (18, 'but'),\n",
              " (19, 'film'),\n",
              " (20, 'on')]"
            ]
          },
          "metadata": {},
          "execution_count": 10
        }
      ]
    },
    {
      "cell_type": "code",
      "metadata": {
        "colab": {
          "base_uri": "https://localhost:8080/"
        },
        "id": "yQI51KPVJcm4",
        "outputId": "5515650e-fdaa-4f37-9170-1164094e8489"
      },
      "source": [
        "sequences = tokenizer.texts_to_sequences(train_texts)\n",
        "print(sequences[0])"
      ],
      "execution_count": 11,
      "outputs": [
        {
          "output_type": "stream",
          "name": "stdout",
          "text": [
            "[35, 1226, 9654, 22, 25, 5, 3606, 3, 129, 34, 6, 21, 61, 1685, 5, 1395, 306, 80, 3, 1866, 12, 692, 6, 1058, 16, 5674, 3396, 4, 36, 1, 3537, 2, 7916, 21, 61, 2916, 18, 16, 4801, 26, 13, 112, 499, 5, 94, 69, 178, 5, 78, 9, 18, 26, 1314, 5, 94, 24, 319, 213, 488, 7, 7, 11, 17, 124, 21, 804, 80, 58, 4676, 2512, 4, 19, 2373, 1, 105, 15, 81, 34, 40, 66, 65, 2682, 25, 3, 39, 25, 54, 19, 581, 2, 1614, 37, 1853, 8169, 3866, 70, 6792, 31, 906, 105, 42, 96, 70, 1226, 6, 96, 237, 40, 35, 651, 29, 1, 55, 2, 59, 602, 205, 140, 1, 2338, 10, 67, 839, 9, 147, 12, 17, 13, 35, 375, 39, 1, 16, 471, 132, 24, 4801, 6, 4558, 18, 44, 9, 13, 10, 59, 202, 3, 670, 365, 4, 5674, 2, 12, 1478, 571, 243, 10, 4716, 503, 18, 143, 128, 21, 167, 5, 2917, 95, 7, 7, 111, 13, 846, 724, 75, 490, 68, 35, 75, 15, 3, 783, 47, 10, 194, 10, 13, 5745, 30, 3, 8058, 18, 1, 17, 13, 1058, 16, 1383, 2, 1226, 2, 60, 6, 135, 10, 293, 9, 12, 111, 44, 22, 97, 680, 9, 12, 13, 63, 50, 4, 3, 279, 5, 1395, 243, 157, 8059, 8, 3, 2823, 58, 1396, 68, 361, 2, 2665, 12, 93, 7, 7, 10, 13, 1379, 148, 12, 47, 59, 27, 3, 224, 4, 3, 751, 118, 1226, 2, 257, 949, 20, 65, 113, 1951, 25, 3, 17, 16, 3, 144, 111, 2, 50, 1383, 16, 8422, 10, 128, 188, 261, 72, 525, 64, 1226, 1624, 10, 437, 12, 2, 1, 473, 1740, 5, 27, 572, 8, 1, 3867, 2, 1, 3789, 1305, 30, 219, 10, 188, 835, 316, 3, 4632, 206, 257, 46, 1676, 4, 1, 9654, 220, 976, 69, 86, 386, 12, 8059, 6]\n"
          ]
        }
      ]
    },
    {
      "cell_type": "code",
      "metadata": {
        "colab": {
          "base_uri": "https://localhost:8080/"
        },
        "id": "oNL1lieAJ-_r",
        "outputId": "0eae10f7-2979-4fc1-c57f-ba3b135ce8f0"
      },
      "source": [
        "word_index = tokenizer.word_index\n",
        "print(f'{len(word_index)} unikatowych słów')"
      ],
      "execution_count": 12,
      "outputs": [
        {
          "output_type": "stream",
          "name": "stdout",
          "text": [
            "88582 unikatowych słów\n"
          ]
        }
      ]
    },
    {
      "cell_type": "code",
      "metadata": {
        "colab": {
          "base_uri": "https://localhost:8080/"
        },
        "id": "w4FSmkVDKXWL",
        "outputId": "3b1ba2a7-5585-4f2f-9c46-823568dbd08f"
      },
      "source": [
        "#skrócenie recenzji do 100 pierwszych słów\n",
        "train_data = pad_sequences(sequences, maxlen)\n",
        "train_data.shape"
      ],
      "execution_count": 13,
      "outputs": [
        {
          "output_type": "execute_result",
          "data": {
            "text/plain": [
              "(25000, 100)"
            ]
          },
          "metadata": {},
          "execution_count": 13
        }
      ]
    },
    {
      "cell_type": "code",
      "metadata": {
        "colab": {
          "base_uri": "https://localhost:8080/"
        },
        "id": "ii2X7ESBK4fc",
        "outputId": "ac8696db-7f72-4c01-e4a5-fc57b0b607e7"
      },
      "source": [
        "#zmiana listy na tablicę\n",
        "train_labels = np.asanyarray(train_labels)\n",
        "train_labels.shape"
      ],
      "execution_count": 14,
      "outputs": [
        {
          "output_type": "execute_result",
          "data": {
            "text/plain": [
              "(25000,)"
            ]
          },
          "metadata": {},
          "execution_count": 14
        }
      ]
    },
    {
      "cell_type": "code",
      "metadata": {
        "colab": {
          "base_uri": "https://localhost:8080/"
        },
        "id": "hMeKMs0pLUyd",
        "outputId": "9f6592f0-3fe8-4ccd-c843-ffab7ece7291"
      },
      "source": [
        "#przemieszanie próbek\n",
        "indices = np.arange(train_data.shape[0])\n",
        "np.random.shuffle(indices)\n",
        "train_data = train_data[indices]\n",
        "train_labels = train_labels[indices]\n",
        "\n",
        "train_data.shape"
      ],
      "execution_count": 15,
      "outputs": [
        {
          "output_type": "execute_result",
          "data": {
            "text/plain": [
              "(25000, 100)"
            ]
          },
          "metadata": {},
          "execution_count": 15
        }
      ]
    },
    {
      "cell_type": "markdown",
      "metadata": {
        "id": "Q1FYroGlW3_f"
      },
      "source": [
        "### <a name='a2'></a> 3. Podział na zbiór treningowy oraz testowy"
      ]
    },
    {
      "cell_type": "code",
      "metadata": {
        "colab": {
          "base_uri": "https://localhost:8080/"
        },
        "id": "ur1Btc6pMARN",
        "outputId": "a3814a65-5683-44af-cecc-e9b85dafb2df"
      },
      "source": [
        "from sklearn.model_selection import train_test_split\n",
        "\n",
        "X_train, X_val, y_train, y_val = train_test_split(train_data, train_labels, test_size=0.33)\n",
        "\n",
        "print(X_train.shape)\n",
        "print(X_val.shape)\n",
        "print(y_train.shape)\n",
        "print(y_val.shape)"
      ],
      "execution_count": 16,
      "outputs": [
        {
          "output_type": "stream",
          "name": "stdout",
          "text": [
            "(16750, 100)\n",
            "(8250, 100)\n",
            "(16750,)\n",
            "(8250,)\n"
          ]
        }
      ]
    },
    {
      "cell_type": "markdown",
      "metadata": {
        "id": "CmdwvP8EOTRt"
      },
      "source": [
        "### <a name='a3'></a> 4. Budowa modelu"
      ]
    },
    {
      "cell_type": "code",
      "metadata": {
        "colab": {
          "base_uri": "https://localhost:8080/"
        },
        "id": "pFQPN0c6NmWQ",
        "outputId": "281d7c3e-9b34-48e2-9114-f930f2867a18"
      },
      "source": [
        "#Embedding(input_dim, output_dim)\n",
        "\n",
        "model = Sequential()\n",
        "model.add(Embedding(input_dim=num_words, output_dim=embedding_dim, input_length=maxlen))\n",
        "model.add(Flatten())\n",
        "model.add(Dense(units=16, activation='relu'))\n",
        "model.add(Dense(units=1, activation='sigmoid'))\n",
        "model.summary()"
      ],
      "execution_count": 17,
      "outputs": [
        {
          "output_type": "stream",
          "name": "stdout",
          "text": [
            "Model: \"sequential\"\n",
            "_________________________________________________________________\n",
            "Layer (type)                 Output Shape              Param #   \n",
            "=================================================================\n",
            "embedding (Embedding)        (None, 100, 100)          1000000   \n",
            "_________________________________________________________________\n",
            "flatten (Flatten)            (None, 10000)             0         \n",
            "_________________________________________________________________\n",
            "dense (Dense)                (None, 16)                160016    \n",
            "_________________________________________________________________\n",
            "dense_1 (Dense)              (None, 1)                 17        \n",
            "=================================================================\n",
            "Total params: 1,160,033\n",
            "Trainable params: 1,160,033\n",
            "Non-trainable params: 0\n",
            "_________________________________________________________________\n"
          ]
        }
      ]
    },
    {
      "cell_type": "code",
      "metadata": {
        "id": "KvDjPmiGO8zy"
      },
      "source": [
        "model.compile(optimizer='rmsprop',\n",
        "              loss='binary_crossentropy',\n",
        "              metrics='accuracy')"
      ],
      "execution_count": 18,
      "outputs": []
    },
    {
      "cell_type": "code",
      "metadata": {
        "id": "ZzMqb0k1PW7z"
      },
      "source": [
        "history = model.fit(x=X_train, y=y_train, batch_size=32, epochs=5,\n",
        "                    validation_data=(X_val, y_val), verbose=False)"
      ],
      "execution_count": 19,
      "outputs": []
    },
    {
      "cell_type": "code",
      "metadata": {
        "colab": {
          "base_uri": "https://localhost:8080/",
          "height": 206
        },
        "id": "GTkD2uCcPun2",
        "outputId": "9c47451a-688c-4975-f46e-b213919eb3be"
      },
      "source": [
        "import pandas as pd\n",
        "import matplotlib.pyplot as plt\n",
        "\n",
        "hist = pd.DataFrame(history.history)\n",
        "hist['epoch'] = history.epoch\n",
        "hist.head()"
      ],
      "execution_count": 20,
      "outputs": [
        {
          "output_type": "execute_result",
          "data": {
            "text/html": [
              "<div>\n",
              "<style scoped>\n",
              "    .dataframe tbody tr th:only-of-type {\n",
              "        vertical-align: middle;\n",
              "    }\n",
              "\n",
              "    .dataframe tbody tr th {\n",
              "        vertical-align: top;\n",
              "    }\n",
              "\n",
              "    .dataframe thead th {\n",
              "        text-align: right;\n",
              "    }\n",
              "</style>\n",
              "<table border=\"1\" class=\"dataframe\">\n",
              "  <thead>\n",
              "    <tr style=\"text-align: right;\">\n",
              "      <th></th>\n",
              "      <th>loss</th>\n",
              "      <th>accuracy</th>\n",
              "      <th>val_loss</th>\n",
              "      <th>val_accuracy</th>\n",
              "      <th>epoch</th>\n",
              "    </tr>\n",
              "  </thead>\n",
              "  <tbody>\n",
              "    <tr>\n",
              "      <th>0</th>\n",
              "      <td>0.452225</td>\n",
              "      <td>0.777373</td>\n",
              "      <td>0.352934</td>\n",
              "      <td>0.848606</td>\n",
              "      <td>0</td>\n",
              "    </tr>\n",
              "    <tr>\n",
              "      <th>1</th>\n",
              "      <td>0.161550</td>\n",
              "      <td>0.942388</td>\n",
              "      <td>0.411743</td>\n",
              "      <td>0.832242</td>\n",
              "      <td>1</td>\n",
              "    </tr>\n",
              "    <tr>\n",
              "      <th>2</th>\n",
              "      <td>0.022874</td>\n",
              "      <td>0.993672</td>\n",
              "      <td>0.562896</td>\n",
              "      <td>0.825939</td>\n",
              "      <td>2</td>\n",
              "    </tr>\n",
              "    <tr>\n",
              "      <th>3</th>\n",
              "      <td>0.001546</td>\n",
              "      <td>0.999642</td>\n",
              "      <td>0.754869</td>\n",
              "      <td>0.829091</td>\n",
              "      <td>3</td>\n",
              "    </tr>\n",
              "    <tr>\n",
              "      <th>4</th>\n",
              "      <td>0.000058</td>\n",
              "      <td>1.000000</td>\n",
              "      <td>0.935991</td>\n",
              "      <td>0.827152</td>\n",
              "      <td>4</td>\n",
              "    </tr>\n",
              "  </tbody>\n",
              "</table>\n",
              "</div>"
            ],
            "text/plain": [
              "       loss  accuracy  val_loss  val_accuracy  epoch\n",
              "0  0.452225  0.777373  0.352934      0.848606      0\n",
              "1  0.161550  0.942388  0.411743      0.832242      1\n",
              "2  0.022874  0.993672  0.562896      0.825939      2\n",
              "3  0.001546  0.999642  0.754869      0.829091      3\n",
              "4  0.000058  1.000000  0.935991      0.827152      4"
            ]
          },
          "metadata": {},
          "execution_count": 20
        }
      ]
    },
    {
      "cell_type": "code",
      "metadata": {
        "id": "Bp65pGmKP84q"
      },
      "source": [
        " def plot_hist():   \n",
        "    plt.figure(figsize=(14, 10))\n",
        "    plt.subplot(211)\n",
        "    plt.plot(hist['epoch'], hist['accuracy'], marker = '.', markersize = 5, label='accuracy')\n",
        "    plt.plot(hist['epoch'], hist['val_accuracy'], marker = '.', markersize = 5, label='val_accuracy')\n",
        "    plt.xlabel('epoch')\n",
        "    plt.ylabel('accuracy')\n",
        "    plt.legend()\n",
        "    plt.subplot(212)\n",
        "    plt.plot(hist['epoch'], hist['loss'], marker = '.', markersize = 5, label='loss')\n",
        "    plt.plot(hist['epoch'], hist['val_loss'], marker = '.', markersize = 5, label='val_loss')\n",
        "    plt.xlabel('epoch')\n",
        "    plt.ylabel('loss')\n",
        "    plt.legend()\n",
        "    plt.show()"
      ],
      "execution_count": 24,
      "outputs": []
    },
    {
      "cell_type": "code",
      "metadata": {
        "colab": {
          "base_uri": "https://localhost:8080/",
          "height": 606
        },
        "id": "tmZp8Uw2QXlS",
        "outputId": "8bd30c3c-084f-4b43-d1ac-968302ffa5c1"
      },
      "source": [
        "plot_hist()"
      ],
      "execution_count": 25,
      "outputs": [
        {
          "output_type": "display_data",
          "data": {
            "image/png": "[encoded data removed]",
            "text/plain": [
              "<Figure size 1008x720 with 2 Axes>"
            ]
          },
          "metadata": {
            "needs_background": "light"
          }
        }
      ]
    },
    {
      "cell_type": "markdown",
      "metadata": {
        "id": "Qo-oOW2vUXCd"
      },
      "source": [
        "### <a name='a4'></a> 5. Warstwa SimpleRNN"
      ]
    },
    {
      "cell_type": "code",
      "metadata": {
        "colab": {
          "base_uri": "https://localhost:8080/"
        },
        "id": "sH55Mz86QaJe",
        "outputId": "8e55ae9e-9711-4598-dfd8-7b44ae44fc12"
      },
      "source": [
        "from tensorflow.keras.layers import SimpleRNN, LSTM\n",
        "\n",
        "model = Sequential()\n",
        "model.add(Embedding(input_dim=num_words, output_dim=32))\n",
        "model.add(SimpleRNN(units=16))\n",
        "model.add(Dense(units=1, activation='sigmoid'))\n",
        "model.summary()"
      ],
      "execution_count": 27,
      "outputs": [
        {
          "output_type": "stream",
          "name": "stdout",
          "text": [
            "Model: \"sequential_1\"\n",
            "_________________________________________________________________\n",
            "Layer (type)                 Output Shape              Param #   \n",
            "=================================================================\n",
            "embedding_1 (Embedding)      (None, None, 32)          320000    \n",
            "_________________________________________________________________\n",
            "simple_rnn (SimpleRNN)       (None, 16)                784       \n",
            "_________________________________________________________________\n",
            "dense_2 (Dense)              (None, 1)                 17        \n",
            "=================================================================\n",
            "Total params: 320,801\n",
            "Trainable params: 320,801\n",
            "Non-trainable params: 0\n",
            "_________________________________________________________________\n"
          ]
        }
      ]
    },
    {
      "cell_type": "code",
      "metadata": {
        "id": "yZmp5QmtVQCG"
      },
      "source": [
        "model.compile(optimizer='rmsprop',\n",
        "              loss='binary_crossentropy',\n",
        "              metrics='accuracy')"
      ],
      "execution_count": 28,
      "outputs": []
    },
    {
      "cell_type": "code",
      "metadata": {
        "id": "X-HoNbLHVXQy"
      },
      "source": [
        "history = model.fit(x=X_train, y=y_train, batch_size=32, epochs=10,\n",
        "                    validation_data=(X_val, y_val), verbose=False)"
      ],
      "execution_count": 29,
      "outputs": []
    },
    {
      "cell_type": "code",
      "metadata": {
        "colab": {
          "base_uri": "https://localhost:8080/",
          "height": 206
        },
        "id": "UxbVc72VVc05",
        "outputId": "d2762fa4-84e4-4553-c854-3f859297461a"
      },
      "source": [
        "hist = pd.DataFrame(history.history)\n",
        "hist['epoch'] = history.epoch\n",
        "hist.head()"
      ],
      "execution_count": 30,
      "outputs": [
        {
          "output_type": "execute_result",
          "data": {
            "text/html": [
              "<div>\n",
              "<style scoped>\n",
              "    .dataframe tbody tr th:only-of-type {\n",
              "        vertical-align: middle;\n",
              "    }\n",
              "\n",
              "    .dataframe tbody tr th {\n",
              "        vertical-align: top;\n",
              "    }\n",
              "\n",
              "    .dataframe thead th {\n",
              "        text-align: right;\n",
              "    }\n",
              "</style>\n",
              "<table border=\"1\" class=\"dataframe\">\n",
              "  <thead>\n",
              "    <tr style=\"text-align: right;\">\n",
              "      <th></th>\n",
              "      <th>loss</th>\n",
              "      <th>accuracy</th>\n",
              "      <th>val_loss</th>\n",
              "      <th>val_accuracy</th>\n",
              "      <th>epoch</th>\n",
              "    </tr>\n",
              "  </thead>\n",
              "  <tbody>\n",
              "    <tr>\n",
              "      <th>0</th>\n",
              "      <td>0.643448</td>\n",
              "      <td>0.608358</td>\n",
              "      <td>0.505215</td>\n",
              "      <td>0.772364</td>\n",
              "      <td>0</td>\n",
              "    </tr>\n",
              "    <tr>\n",
              "      <th>1</th>\n",
              "      <td>0.396603</td>\n",
              "      <td>0.832060</td>\n",
              "      <td>0.408362</td>\n",
              "      <td>0.828364</td>\n",
              "      <td>1</td>\n",
              "    </tr>\n",
              "    <tr>\n",
              "      <th>2</th>\n",
              "      <td>0.269000</td>\n",
              "      <td>0.892418</td>\n",
              "      <td>0.392513</td>\n",
              "      <td>0.834788</td>\n",
              "      <td>2</td>\n",
              "    </tr>\n",
              "    <tr>\n",
              "      <th>3</th>\n",
              "      <td>0.186389</td>\n",
              "      <td>0.929731</td>\n",
              "      <td>0.433706</td>\n",
              "      <td>0.841091</td>\n",
              "      <td>3</td>\n",
              "    </tr>\n",
              "    <tr>\n",
              "      <th>4</th>\n",
              "      <td>0.121763</td>\n",
              "      <td>0.957612</td>\n",
              "      <td>0.493039</td>\n",
              "      <td>0.813333</td>\n",
              "      <td>4</td>\n",
              "    </tr>\n",
              "  </tbody>\n",
              "</table>\n",
              "</div>"
            ],
            "text/plain": [
              "       loss  accuracy  val_loss  val_accuracy  epoch\n",
              "0  0.643448  0.608358  0.505215      0.772364      0\n",
              "1  0.396603  0.832060  0.408362      0.828364      1\n",
              "2  0.269000  0.892418  0.392513      0.834788      2\n",
              "3  0.186389  0.929731  0.433706      0.841091      3\n",
              "4  0.121763  0.957612  0.493039      0.813333      4"
            ]
          },
          "metadata": {},
          "execution_count": 30
        }
      ]
    },
    {
      "cell_type": "code",
      "metadata": {
        "colab": {
          "base_uri": "https://localhost:8080/",
          "height": 606
        },
        "id": "i_7j9hxYViIm",
        "outputId": "ed544c47-a0f8-40e7-c3d6-2e4f1cc119f0"
      },
      "source": [
        "plot_hist()"
      ],
      "execution_count": 31,
      "outputs": [
        {
          "output_type": "display_data",
          "data": {
            "image/png": "[encoded data removed]",
            "text/plain": [
              "<Figure size 1008x720 with 2 Axes>"
            ]
          },
          "metadata": {
            "needs_background": "light"
          }
        }
      ]
    },
    {
      "cell_type": "markdown",
      "metadata": {
        "id": "Dg-s04XjWHHf"
      },
      "source": [
        "### <a name='a5'></a> 6. Warstwa LSTM"
      ]
    },
    {
      "cell_type": "code",
      "metadata": {
        "colab": {
          "base_uri": "https://localhost:8080/"
        },
        "id": "D-gNzq6LVmv7",
        "outputId": "bbe5868e-e6be-4d9d-d092-416469510434"
      },
      "source": [
        "model = Sequential()\n",
        "model.add(Embedding(input_dim=num_words, output_dim=32))\n",
        "model.add(LSTM(units=16))\n",
        "model.add(Dense(units=1, activation='sigmoid'))\n",
        "model.summary()"
      ],
      "execution_count": 32,
      "outputs": [
        {
          "output_type": "stream",
          "name": "stdout",
          "text": [
            "Model: \"sequential_2\"\n",
            "_________________________________________________________________\n",
            "Layer (type)                 Output Shape              Param #   \n",
            "=================================================================\n",
            "embedding_2 (Embedding)      (None, None, 32)          320000    \n",
            "_________________________________________________________________\n",
            "lstm (LSTM)                  (None, 16)                3136      \n",
            "_________________________________________________________________\n",
            "dense_3 (Dense)              (None, 1)                 17        \n",
            "=================================================================\n",
            "Total params: 323,153\n",
            "Trainable params: 323,153\n",
            "Non-trainable params: 0\n",
            "_________________________________________________________________\n"
          ]
        }
      ]
    },
    {
      "cell_type": "code",
      "metadata": {
        "id": "f_BY6AhVWQMO"
      },
      "source": [
        "model.compile(optimizer='rmsprop',\n",
        "              loss='binary_crossentropy',\n",
        "              metrics='accuracy')"
      ],
      "execution_count": 33,
      "outputs": []
    },
    {
      "cell_type": "code",
      "metadata": {
        "id": "EeV6uDeJWVuG"
      },
      "source": [
        "history = model.fit(x=X_train, y=y_train, batch_size=32, epochs=10,\n",
        "                    validation_data=(X_val, y_val), verbose=False)"
      ],
      "execution_count": 34,
      "outputs": []
    },
    {
      "cell_type": "code",
      "metadata": {
        "colab": {
          "base_uri": "https://localhost:8080/",
          "height": 206
        },
        "id": "A6A3Clp0WZps",
        "outputId": "e0eb0e84-0ef4-437c-e369-7c7ae8b728b2"
      },
      "source": [
        "hist = pd.DataFrame(history.history)\n",
        "hist['epoch'] = history.epoch\n",
        "hist.head()"
      ],
      "execution_count": 35,
      "outputs": [
        {
          "output_type": "execute_result",
          "data": {
            "text/html": [
              "<div>\n",
              "<style scoped>\n",
              "    .dataframe tbody tr th:only-of-type {\n",
              "        vertical-align: middle;\n",
              "    }\n",
              "\n",
              "    .dataframe tbody tr th {\n",
              "        vertical-align: top;\n",
              "    }\n",
              "\n",
              "    .dataframe thead th {\n",
              "        text-align: right;\n",
              "    }\n",
              "</style>\n",
              "<table border=\"1\" class=\"dataframe\">\n",
              "  <thead>\n",
              "    <tr style=\"text-align: right;\">\n",
              "      <th></th>\n",
              "      <th>loss</th>\n",
              "      <th>accuracy</th>\n",
              "      <th>val_loss</th>\n",
              "      <th>val_accuracy</th>\n",
              "      <th>epoch</th>\n",
              "    </tr>\n",
              "  </thead>\n",
              "  <tbody>\n",
              "    <tr>\n",
              "      <th>0</th>\n",
              "      <td>0.460573</td>\n",
              "      <td>0.776418</td>\n",
              "      <td>0.368128</td>\n",
              "      <td>0.839030</td>\n",
              "      <td>0</td>\n",
              "    </tr>\n",
              "    <tr>\n",
              "      <th>1</th>\n",
              "      <td>0.283973</td>\n",
              "      <td>0.887224</td>\n",
              "      <td>0.417035</td>\n",
              "      <td>0.823515</td>\n",
              "      <td>1</td>\n",
              "    </tr>\n",
              "    <tr>\n",
              "      <th>2</th>\n",
              "      <td>0.236254</td>\n",
              "      <td>0.909791</td>\n",
              "      <td>0.397532</td>\n",
              "      <td>0.839515</td>\n",
              "      <td>2</td>\n",
              "    </tr>\n",
              "    <tr>\n",
              "      <th>3</th>\n",
              "      <td>0.206909</td>\n",
              "      <td>0.921015</td>\n",
              "      <td>0.360647</td>\n",
              "      <td>0.855394</td>\n",
              "      <td>3</td>\n",
              "    </tr>\n",
              "    <tr>\n",
              "      <th>4</th>\n",
              "      <td>0.184607</td>\n",
              "      <td>0.933493</td>\n",
              "      <td>0.367384</td>\n",
              "      <td>0.852848</td>\n",
              "      <td>4</td>\n",
              "    </tr>\n",
              "  </tbody>\n",
              "</table>\n",
              "</div>"
            ],
            "text/plain": [
              "       loss  accuracy  val_loss  val_accuracy  epoch\n",
              "0  0.460573  0.776418  0.368128      0.839030      0\n",
              "1  0.283973  0.887224  0.417035      0.823515      1\n",
              "2  0.236254  0.909791  0.397532      0.839515      2\n",
              "3  0.206909  0.921015  0.360647      0.855394      3\n",
              "4  0.184607  0.933493  0.367384      0.852848      4"
            ]
          },
          "metadata": {},
          "execution_count": 35
        }
      ]
    },
    {
      "cell_type": "code",
      "metadata": {
        "colab": {
          "base_uri": "https://localhost:8080/",
          "height": 606
        },
        "id": "K7MgPqMmWbkP",
        "outputId": "60e2cfbc-1b3b-4108-9d92-be1e58d95387"
      },
      "source": [
        "plot_hist()"
      ],
      "execution_count": 36,
      "outputs": [
        {
          "output_type": "display_data",
          "data": {
            "image/png": "[encoded data removed]",
            "text/plain": [
              "<Figure size 1008x720 with 2 Axes>"
            ]
          },
          "metadata": {
            "needs_background": "light"
          }
        }
      ]
    },
    {
      "cell_type": "markdown",
      "metadata": {
        "id": "BPRaRqOhYNCQ"
      },
      "source": [
        "### <a name='a6'></a> 7. Ocena modelu na zbiorze testowym"
      ]
    },
    {
      "cell_type": "code",
      "metadata": {
        "colab": {
          "base_uri": "https://localhost:8080/"
        },
        "id": "cx49JCuUYTCH",
        "outputId": "af12e8d1-3560-46a8-ce6e-60ae48f37b97"
      },
      "source": [
        "model = Sequential()\n",
        "model.add(Embedding(input_dim=num_words, output_dim=32))\n",
        "model.add(LSTM(units=16))\n",
        "model.add(Dense(units=1, activation='sigmoid'))\n",
        "model.summary()\n",
        "\n",
        "model.compile(optimizer='rmsprop',\n",
        "              loss='binary_crossentropy',\n",
        "              metrics='accuracy')\n",
        "\n",
        "history = model.fit(x=X_train, y=y_train, batch_size=32, epochs=3,\n",
        "                    validation_data=(X_val, y_val), verbose=False)"
      ],
      "execution_count": 37,
      "outputs": [
        {
          "output_type": "stream",
          "name": "stdout",
          "text": [
            "Model: \"sequential_3\"\n",
            "_________________________________________________________________\n",
            "Layer (type)                 Output Shape              Param #   \n",
            "=================================================================\n",
            "embedding_3 (Embedding)      (None, None, 32)          320000    \n",
            "_________________________________________________________________\n",
            "lstm_1 (LSTM)                (None, 16)                3136      \n",
            "_________________________________________________________________\n",
            "dense_4 (Dense)              (None, 1)                 17        \n",
            "=================================================================\n",
            "Total params: 323,153\n",
            "Trainable params: 323,153\n",
            "Non-trainable params: 0\n",
            "_________________________________________________________________\n"
          ]
        }
      ]
    },
    {
      "cell_type": "code",
      "metadata": {
        "colab": {
          "base_uri": "https://localhost:8080/"
        },
        "id": "T-oCGJYMYhCZ",
        "outputId": "3bdbee6c-9a7c-4cae-f111-f6b7d4a98291"
      },
      "source": [
        "sequences = tokenizer.texts_to_sequences(test_texts)\n",
        "test_data = pad_sequences(sequences, maxlen)\n",
        "test_data.shape"
      ],
      "execution_count": 39,
      "outputs": [
        {
          "output_type": "execute_result",
          "data": {
            "text/plain": [
              "(25000, 100)"
            ]
          },
          "metadata": {},
          "execution_count": 39
        }
      ]
    },
    {
      "cell_type": "code",
      "metadata": {
        "colab": {
          "base_uri": "https://localhost:8080/"
        },
        "id": "udO5HXNXZNIK",
        "outputId": "d6cd7c58-d663-47ee-d300-ebec265b7f71"
      },
      "source": [
        "test_labels = np.asanyarray(test_labels)\n",
        "test_labels.shape"
      ],
      "execution_count": 40,
      "outputs": [
        {
          "output_type": "execute_result",
          "data": {
            "text/plain": [
              "(25000,)"
            ]
          },
          "metadata": {},
          "execution_count": 40
        }
      ]
    },
    {
      "cell_type": "code",
      "metadata": {
        "colab": {
          "base_uri": "https://localhost:8080/"
        },
        "id": "55yV3AjwZZug",
        "outputId": "cee3420e-bb95-4f0e-8ae6-56fdfde8ca50"
      },
      "source": [
        "model.evaluate(test_data, test_labels)"
      ],
      "execution_count": 41,
      "outputs": [
        {
          "output_type": "stream",
          "name": "stdout",
          "text": [
            "782/782 [==============================] - 6s 7ms/step - loss: 0.3552 - accuracy: 0.8517\n"
          ]
        },
        {
          "output_type": "execute_result",
          "data": {
            "text/plain": [
              "[0.3552199602127075, 0.8517199754714966]"
            ]
          },
          "metadata": {},
          "execution_count": 41
        }
      ]
    }
  ]
}